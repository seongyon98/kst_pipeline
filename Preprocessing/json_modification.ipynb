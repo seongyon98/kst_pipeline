{
 "cells": [
  {
   "cell_type": "code",
   "execution_count": 2,
   "metadata": {},
   "outputs": [
    {
     "name": "stdout",
     "output_type": "stream",
     "text": [
      "JSON 파일이 정렬되어 저장되었습니다: output2.json\n"
     ]
    }
   ],
   "source": [
    "import json\n",
    "\n",
    "def format_json_file(input_file, output_file):\n",
    "    try:\n",
    "        # 입력 JSON 파일 읽기\n",
    "        with open(input_file, 'r', encoding='utf-8') as infile:\n",
    "            data = json.load(infile)\n",
    "        \n",
    "        # 보기 좋게 정렬하여 새로운 JSON 파일로 저장\n",
    "        with open(output_file, 'w', encoding='utf-8') as outfile:\n",
    "            json.dump(data, outfile, indent=4, ensure_ascii=False)\n",
    "        \n",
    "        print(f\"JSON 파일이 정렬되어 저장되었습니다: {output_file}\")\n",
    "    except Exception as e:\n",
    "        print(f\"오류 발생: {e}\")\n",
    "\n",
    "# 사용 예시\n",
    "input_json_path = '1_문항정오답표.json'  # 입력 JSON 파일 경로\n",
    "output_json_path = 'output2.json'  # 출력 JSON 파일 경로\n",
    "format_json_file(input_json_path, output_json_path)"
   ]
  }
 ],
 "metadata": {
  "kernelspec": {
   "display_name": "kst_pp",
   "language": "python",
   "name": "python3"
  },
  "language_info": {
   "codemirror_mode": {
    "name": "ipython",
    "version": 3
   },
   "file_extension": ".py",
   "mimetype": "text/x-python",
   "name": "python",
   "nbconvert_exporter": "python",
   "pygments_lexer": "ipython3",
   "version": "3.9.20"
  }
 },
 "nbformat": 4,
 "nbformat_minor": 2
}
