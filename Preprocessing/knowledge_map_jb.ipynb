{
 "cells": [
  {
   "cell_type": "code",
   "execution_count": null,
   "metadata": {},
   "outputs": [],
   "source": [
    "# 초기 지식맵: 교육과정 표 & 문제 간 사전 정의된관계를 기반으로 시각화(파이썬 라이브러리)"
   ]
  },
  {
   "cell_type": "code",
   "execution_count": 1,
   "metadata": {},
   "outputs": [
    {
     "name": "stdout",
     "output_type": "stream",
     "text": [
      "노드 수: 30\n",
      "엣지 수: 28\n"
     ]
    }
   ],
   "source": [
    "# NetworkX: 지식맵 구성\n",
    "\n",
    "import networkx as nx\n",
    "import matplotlib.pyplot as plt\n",
    "\n",
    "# 데이터 정의 (노드와 엣지)\n",
    "edges = [\n",
    "    # 변화와 관계\n",
    "    (\"변화와 관계\", \"규칙 찾기\"),\n",
    "    (\"변화와 관계\", \"규칙 정하기\"),\n",
    "    (\"변화와 관계\", \"등호와 동치 관계\"),\n",
    "    (\"규칙 찾기\", \"배열에서 규칙 찾기\"),\n",
    "    (\"규칙 정하기\", \"규칙에 따라 배열하기\"),\n",
    "    (\"등호와 동치 관계\", \"등호 사용하기\"),\n",
    "    (\"배열에서 규칙 찾기\", \"물체 배열 규칙을 여러 가지 방법으로 표현하기\"),\n",
    "    (\"배열에서 규칙 찾기\", \"무늬 배열 규칙을 여러 가지 방법으로 표현하기\"),\n",
    "    (\"배열에서 규칙 찾기\", \"수 배열 규칙을 여러 가지 방법으로 표현하기\"),\n",
    "    (\"배열에서 규칙 찾기\", \"다양한 변화 규칙을 수로 나타내기\"),\n",
    "    (\"배열에서 규칙 찾기\", \"다양한 변화 규칙을 식으로 나타내기\"),\n",
    "    (\"배열에서 규칙 찾기\", \"계산식 배열 규칙으로 계산 결과 추측하기\"),\n",
    "    (\"규칙에 따라 배열하기\", \"물체 배열하기\"),\n",
    "    (\"규칙에 따라 배열하기\", \"무늬 배열하기\"),\n",
    "    (\"규칙에 따라 배열하기\", \"수 배열하기\"),\n",
    "    (\"등호 사용하기\", \"크기가 같은 두 양의 관계를 식으로 나타내기\"),\n",
    "    # 자료와 가능성\n",
    "    (\"자료와 가능성\", \"분류하기\"),\n",
    "    (\"자료와 가능성\", \"자료 수집하기\"),\n",
    "    (\"분류하기\", \"개수 세기\"),\n",
    "    (\"분류하기\", \"표로 나타내기\"),\n",
    "    (\"분류하기\", \"○, ×, / 를 이용한 그래프로 나타내기\"),\n",
    "    (\"자료 수집하기\", \"자료 정리하기\"),\n",
    "    (\"개수 세기\", \"기준에 따른 결과 말하기\"),\n",
    "    (\"표로 나타내기\", \"표로 나타내면 편리한 점 말하기\"),\n",
    "    (\"○, ×, / 를 이용한 그래프로 나타내기\", \"그래프로 나타내면 편리한 점 말하기\"),\n",
    "    (\"자료 정리하기\", \"그림그래프로 나타내고 해석하기\"),\n",
    "    (\"자료 정리하기\", \"막대그래프로 나타내고 해석하기\"),\n",
    "    (\"자료 정리하기\", \"꺾은선그래프로 나타내고 해석하기\"),\n",
    "]\n",
    "\n",
    "# 그래프 생성\n",
    "G = nx.DiGraph()  # 방향성 그래프\n",
    "G.add_edges_from(edges)\n",
    "\n",
    "# 노드 및 엣지 추가 완료\n",
    "print(f\"노드 수: {G.number_of_nodes()}\")\n",
    "print(f\"엣지 수: {G.number_of_edges()}\")"
   ]
  },
  {
   "cell_type": "code",
   "execution_count": 2,
   "metadata": {},
   "outputs": [
    {
     "name": "stderr",
     "output_type": "stream",
     "text": [
      "C:\\Users\\boar2\\AppData\\Roaming\\Python\\Python39\\site-packages\\IPython\\core\\pylabtools.py:152: UserWarning: Glyph 48320 (\\N{HANGUL SYLLABLE BYEON}) missing from font(s) DejaVu Sans.\n",
      "  fig.canvas.print_figure(bytes_io, **kw)\n",
      "C:\\Users\\boar2\\AppData\\Roaming\\Python\\Python39\\site-packages\\IPython\\core\\pylabtools.py:152: UserWarning: Glyph 54868 (\\N{HANGUL SYLLABLE HWA}) missing from font(s) DejaVu Sans.\n",
      "  fig.canvas.print_figure(bytes_io, **kw)\n",
      "C:\\Users\\boar2\\AppData\\Roaming\\Python\\Python39\\site-packages\\IPython\\core\\pylabtools.py:152: UserWarning: Glyph 50752 (\\N{HANGUL SYLLABLE WA}) missing from font(s) DejaVu Sans.\n",
      "  fig.canvas.print_figure(bytes_io, **kw)\n",
      "C:\\Users\\boar2\\AppData\\Roaming\\Python\\Python39\\site-packages\\IPython\\core\\pylabtools.py:152: UserWarning: Glyph 44288 (\\N{HANGUL SYLLABLE GWAN}) missing from font(s) DejaVu Sans.\n",
      "  fig.canvas.print_figure(bytes_io, **kw)\n",
      "C:\\Users\\boar2\\AppData\\Roaming\\Python\\Python39\\site-packages\\IPython\\core\\pylabtools.py:152: UserWarning: Glyph 44228 (\\N{HANGUL SYLLABLE GYE}) missing from font(s) DejaVu Sans.\n",
      "  fig.canvas.print_figure(bytes_io, **kw)\n",
      "C:\\Users\\boar2\\AppData\\Roaming\\Python\\Python39\\site-packages\\IPython\\core\\pylabtools.py:152: UserWarning: Glyph 44508 (\\N{HANGUL SYLLABLE GYU}) missing from font(s) DejaVu Sans.\n",
      "  fig.canvas.print_figure(bytes_io, **kw)\n",
      "C:\\Users\\boar2\\AppData\\Roaming\\Python\\Python39\\site-packages\\IPython\\core\\pylabtools.py:152: UserWarning: Glyph 52825 (\\N{HANGUL SYLLABLE CIG}) missing from font(s) DejaVu Sans.\n",
      "  fig.canvas.print_figure(bytes_io, **kw)\n",
      "C:\\Users\\boar2\\AppData\\Roaming\\Python\\Python39\\site-packages\\IPython\\core\\pylabtools.py:152: UserWarning: Glyph 52286 (\\N{HANGUL SYLLABLE CAJ}) missing from font(s) DejaVu Sans.\n",
      "  fig.canvas.print_figure(bytes_io, **kw)\n",
      "C:\\Users\\boar2\\AppData\\Roaming\\Python\\Python39\\site-packages\\IPython\\core\\pylabtools.py:152: UserWarning: Glyph 44592 (\\N{HANGUL SYLLABLE GI}) missing from font(s) DejaVu Sans.\n",
      "  fig.canvas.print_figure(bytes_io, **kw)\n",
      "C:\\Users\\boar2\\AppData\\Roaming\\Python\\Python39\\site-packages\\IPython\\core\\pylabtools.py:152: UserWarning: Glyph 51221 (\\N{HANGUL SYLLABLE JEONG}) missing from font(s) DejaVu Sans.\n",
      "  fig.canvas.print_figure(bytes_io, **kw)\n",
      "C:\\Users\\boar2\\AppData\\Roaming\\Python\\Python39\\site-packages\\IPython\\core\\pylabtools.py:152: UserWarning: Glyph 54616 (\\N{HANGUL SYLLABLE HA}) missing from font(s) DejaVu Sans.\n",
      "  fig.canvas.print_figure(bytes_io, **kw)\n",
      "C:\\Users\\boar2\\AppData\\Roaming\\Python\\Python39\\site-packages\\IPython\\core\\pylabtools.py:152: UserWarning: Glyph 46321 (\\N{HANGUL SYLLABLE DEUNG}) missing from font(s) DejaVu Sans.\n",
      "  fig.canvas.print_figure(bytes_io, **kw)\n",
      "C:\\Users\\boar2\\AppData\\Roaming\\Python\\Python39\\site-packages\\IPython\\core\\pylabtools.py:152: UserWarning: Glyph 54840 (\\N{HANGUL SYLLABLE HO}) missing from font(s) DejaVu Sans.\n",
      "  fig.canvas.print_figure(bytes_io, **kw)\n",
      "C:\\Users\\boar2\\AppData\\Roaming\\Python\\Python39\\site-packages\\IPython\\core\\pylabtools.py:152: UserWarning: Glyph 46041 (\\N{HANGUL SYLLABLE DONG}) missing from font(s) DejaVu Sans.\n",
      "  fig.canvas.print_figure(bytes_io, **kw)\n",
      "C:\\Users\\boar2\\AppData\\Roaming\\Python\\Python39\\site-packages\\IPython\\core\\pylabtools.py:152: UserWarning: Glyph 52824 (\\N{HANGUL SYLLABLE CI}) missing from font(s) DejaVu Sans.\n",
      "  fig.canvas.print_figure(bytes_io, **kw)\n",
      "C:\\Users\\boar2\\AppData\\Roaming\\Python\\Python39\\site-packages\\IPython\\core\\pylabtools.py:152: UserWarning: Glyph 48176 (\\N{HANGUL SYLLABLE BAE}) missing from font(s) DejaVu Sans.\n",
      "  fig.canvas.print_figure(bytes_io, **kw)\n",
      "C:\\Users\\boar2\\AppData\\Roaming\\Python\\Python39\\site-packages\\IPython\\core\\pylabtools.py:152: UserWarning: Glyph 50676 (\\N{HANGUL SYLLABLE YEOL}) missing from font(s) DejaVu Sans.\n",
      "  fig.canvas.print_figure(bytes_io, **kw)\n",
      "C:\\Users\\boar2\\AppData\\Roaming\\Python\\Python39\\site-packages\\IPython\\core\\pylabtools.py:152: UserWarning: Glyph 50640 (\\N{HANGUL SYLLABLE E}) missing from font(s) DejaVu Sans.\n",
      "  fig.canvas.print_figure(bytes_io, **kw)\n",
      "C:\\Users\\boar2\\AppData\\Roaming\\Python\\Python39\\site-packages\\IPython\\core\\pylabtools.py:152: UserWarning: Glyph 49436 (\\N{HANGUL SYLLABLE SEO}) missing from font(s) DejaVu Sans.\n",
      "  fig.canvas.print_figure(bytes_io, **kw)\n",
      "C:\\Users\\boar2\\AppData\\Roaming\\Python\\Python39\\site-packages\\IPython\\core\\pylabtools.py:152: UserWarning: Glyph 46384 (\\N{HANGUL SYLLABLE DDA}) missing from font(s) DejaVu Sans.\n",
      "  fig.canvas.print_figure(bytes_io, **kw)\n",
      "C:\\Users\\boar2\\AppData\\Roaming\\Python\\Python39\\site-packages\\IPython\\core\\pylabtools.py:152: UserWarning: Glyph 46972 (\\N{HANGUL SYLLABLE RA}) missing from font(s) DejaVu Sans.\n",
      "  fig.canvas.print_figure(bytes_io, **kw)\n",
      "C:\\Users\\boar2\\AppData\\Roaming\\Python\\Python39\\site-packages\\IPython\\core\\pylabtools.py:152: UserWarning: Glyph 49324 (\\N{HANGUL SYLLABLE SA}) missing from font(s) DejaVu Sans.\n",
      "  fig.canvas.print_figure(bytes_io, **kw)\n",
      "C:\\Users\\boar2\\AppData\\Roaming\\Python\\Python39\\site-packages\\IPython\\core\\pylabtools.py:152: UserWarning: Glyph 50857 (\\N{HANGUL SYLLABLE YONG}) missing from font(s) DejaVu Sans.\n",
      "  fig.canvas.print_figure(bytes_io, **kw)\n",
      "C:\\Users\\boar2\\AppData\\Roaming\\Python\\Python39\\site-packages\\IPython\\core\\pylabtools.py:152: UserWarning: Glyph 47932 (\\N{HANGUL SYLLABLE MUL}) missing from font(s) DejaVu Sans.\n",
      "  fig.canvas.print_figure(bytes_io, **kw)\n",
      "C:\\Users\\boar2\\AppData\\Roaming\\Python\\Python39\\site-packages\\IPython\\core\\pylabtools.py:152: UserWarning: Glyph 52404 (\\N{HANGUL SYLLABLE CE}) missing from font(s) DejaVu Sans.\n",
      "  fig.canvas.print_figure(bytes_io, **kw)\n",
      "C:\\Users\\boar2\\AppData\\Roaming\\Python\\Python39\\site-packages\\IPython\\core\\pylabtools.py:152: UserWarning: Glyph 51012 (\\N{HANGUL SYLLABLE EUL}) missing from font(s) DejaVu Sans.\n",
      "  fig.canvas.print_figure(bytes_io, **kw)\n",
      "C:\\Users\\boar2\\AppData\\Roaming\\Python\\Python39\\site-packages\\IPython\\core\\pylabtools.py:152: UserWarning: Glyph 50668 (\\N{HANGUL SYLLABLE YEO}) missing from font(s) DejaVu Sans.\n",
      "  fig.canvas.print_figure(bytes_io, **kw)\n",
      "C:\\Users\\boar2\\AppData\\Roaming\\Python\\Python39\\site-packages\\IPython\\core\\pylabtools.py:152: UserWarning: Glyph 47084 (\\N{HANGUL SYLLABLE REO}) missing from font(s) DejaVu Sans.\n",
      "  fig.canvas.print_figure(bytes_io, **kw)\n",
      "C:\\Users\\boar2\\AppData\\Roaming\\Python\\Python39\\site-packages\\IPython\\core\\pylabtools.py:152: UserWarning: Glyph 44032 (\\N{HANGUL SYLLABLE GA}) missing from font(s) DejaVu Sans.\n",
      "  fig.canvas.print_figure(bytes_io, **kw)\n",
      "C:\\Users\\boar2\\AppData\\Roaming\\Python\\Python39\\site-packages\\IPython\\core\\pylabtools.py:152: UserWarning: Glyph 51648 (\\N{HANGUL SYLLABLE JI}) missing from font(s) DejaVu Sans.\n",
      "  fig.canvas.print_figure(bytes_io, **kw)\n",
      "C:\\Users\\boar2\\AppData\\Roaming\\Python\\Python39\\site-packages\\IPython\\core\\pylabtools.py:152: UserWarning: Glyph 48169 (\\N{HANGUL SYLLABLE BANG}) missing from font(s) DejaVu Sans.\n",
      "  fig.canvas.print_figure(bytes_io, **kw)\n",
      "C:\\Users\\boar2\\AppData\\Roaming\\Python\\Python39\\site-packages\\IPython\\core\\pylabtools.py:152: UserWarning: Glyph 48277 (\\N{HANGUL SYLLABLE BEOB}) missing from font(s) DejaVu Sans.\n",
      "  fig.canvas.print_figure(bytes_io, **kw)\n",
      "C:\\Users\\boar2\\AppData\\Roaming\\Python\\Python39\\site-packages\\IPython\\core\\pylabtools.py:152: UserWarning: Glyph 51004 (\\N{HANGUL SYLLABLE EU}) missing from font(s) DejaVu Sans.\n",
      "  fig.canvas.print_figure(bytes_io, **kw)\n",
      "C:\\Users\\boar2\\AppData\\Roaming\\Python\\Python39\\site-packages\\IPython\\core\\pylabtools.py:152: UserWarning: Glyph 47196 (\\N{HANGUL SYLLABLE RO}) missing from font(s) DejaVu Sans.\n",
      "  fig.canvas.print_figure(bytes_io, **kw)\n",
      "C:\\Users\\boar2\\AppData\\Roaming\\Python\\Python39\\site-packages\\IPython\\core\\pylabtools.py:152: UserWarning: Glyph 54364 (\\N{HANGUL SYLLABLE PYO}) missing from font(s) DejaVu Sans.\n",
      "  fig.canvas.print_figure(bytes_io, **kw)\n",
      "C:\\Users\\boar2\\AppData\\Roaming\\Python\\Python39\\site-packages\\IPython\\core\\pylabtools.py:152: UserWarning: Glyph 54788 (\\N{HANGUL SYLLABLE HYEON}) missing from font(s) DejaVu Sans.\n",
      "  fig.canvas.print_figure(bytes_io, **kw)\n",
      "C:\\Users\\boar2\\AppData\\Roaming\\Python\\Python39\\site-packages\\IPython\\core\\pylabtools.py:152: UserWarning: Glyph 47924 (\\N{HANGUL SYLLABLE MU}) missing from font(s) DejaVu Sans.\n",
      "  fig.canvas.print_figure(bytes_io, **kw)\n",
      "C:\\Users\\boar2\\AppData\\Roaming\\Python\\Python39\\site-packages\\IPython\\core\\pylabtools.py:152: UserWarning: Glyph 45740 (\\N{HANGUL SYLLABLE NYI}) missing from font(s) DejaVu Sans.\n",
      "  fig.canvas.print_figure(bytes_io, **kw)\n",
      "C:\\Users\\boar2\\AppData\\Roaming\\Python\\Python39\\site-packages\\IPython\\core\\pylabtools.py:152: UserWarning: Glyph 49688 (\\N{HANGUL SYLLABLE SU}) missing from font(s) DejaVu Sans.\n",
      "  fig.canvas.print_figure(bytes_io, **kw)\n",
      "C:\\Users\\boar2\\AppData\\Roaming\\Python\\Python39\\site-packages\\IPython\\core\\pylabtools.py:152: UserWarning: Glyph 45796 (\\N{HANGUL SYLLABLE DA}) missing from font(s) DejaVu Sans.\n",
      "  fig.canvas.print_figure(bytes_io, **kw)\n",
      "C:\\Users\\boar2\\AppData\\Roaming\\Python\\Python39\\site-packages\\IPython\\core\\pylabtools.py:152: UserWarning: Glyph 50577 (\\N{HANGUL SYLLABLE YANG}) missing from font(s) DejaVu Sans.\n",
      "  fig.canvas.print_figure(bytes_io, **kw)\n",
      "C:\\Users\\boar2\\AppData\\Roaming\\Python\\Python39\\site-packages\\IPython\\core\\pylabtools.py:152: UserWarning: Glyph 54620 (\\N{HANGUL SYLLABLE HAN}) missing from font(s) DejaVu Sans.\n",
      "  fig.canvas.print_figure(bytes_io, **kw)\n",
      "C:\\Users\\boar2\\AppData\\Roaming\\Python\\Python39\\site-packages\\IPython\\core\\pylabtools.py:152: UserWarning: Glyph 45208 (\\N{HANGUL SYLLABLE NA}) missing from font(s) DejaVu Sans.\n",
      "  fig.canvas.print_figure(bytes_io, **kw)\n",
      "C:\\Users\\boar2\\AppData\\Roaming\\Python\\Python39\\site-packages\\IPython\\core\\pylabtools.py:152: UserWarning: Glyph 53440 (\\N{HANGUL SYLLABLE TA}) missing from font(s) DejaVu Sans.\n",
      "  fig.canvas.print_figure(bytes_io, **kw)\n",
      "C:\\Users\\boar2\\AppData\\Roaming\\Python\\Python39\\site-packages\\IPython\\core\\pylabtools.py:152: UserWarning: Glyph 45236 (\\N{HANGUL SYLLABLE NAE}) missing from font(s) DejaVu Sans.\n",
      "  fig.canvas.print_figure(bytes_io, **kw)\n",
      "C:\\Users\\boar2\\AppData\\Roaming\\Python\\Python39\\site-packages\\IPython\\core\\pylabtools.py:152: UserWarning: Glyph 49885 (\\N{HANGUL SYLLABLE SIG}) missing from font(s) DejaVu Sans.\n",
      "  fig.canvas.print_figure(bytes_io, **kw)\n",
      "C:\\Users\\boar2\\AppData\\Roaming\\Python\\Python39\\site-packages\\IPython\\core\\pylabtools.py:152: UserWarning: Glyph 49328 (\\N{HANGUL SYLLABLE SAN}) missing from font(s) DejaVu Sans.\n",
      "  fig.canvas.print_figure(bytes_io, **kw)\n",
      "C:\\Users\\boar2\\AppData\\Roaming\\Python\\Python39\\site-packages\\IPython\\core\\pylabtools.py:152: UserWarning: Glyph 44208 (\\N{HANGUL SYLLABLE GYEOL}) missing from font(s) DejaVu Sans.\n",
      "  fig.canvas.print_figure(bytes_io, **kw)\n",
      "C:\\Users\\boar2\\AppData\\Roaming\\Python\\Python39\\site-packages\\IPython\\core\\pylabtools.py:152: UserWarning: Glyph 44284 (\\N{HANGUL SYLLABLE GWA}) missing from font(s) DejaVu Sans.\n",
      "  fig.canvas.print_figure(bytes_io, **kw)\n",
      "C:\\Users\\boar2\\AppData\\Roaming\\Python\\Python39\\site-packages\\IPython\\core\\pylabtools.py:152: UserWarning: Glyph 52628 (\\N{HANGUL SYLLABLE CU}) missing from font(s) DejaVu Sans.\n",
      "  fig.canvas.print_figure(bytes_io, **kw)\n",
      "C:\\Users\\boar2\\AppData\\Roaming\\Python\\Python39\\site-packages\\IPython\\core\\pylabtools.py:152: UserWarning: Glyph 52769 (\\N{HANGUL SYLLABLE CEUG}) missing from font(s) DejaVu Sans.\n",
      "  fig.canvas.print_figure(bytes_io, **kw)\n",
      "C:\\Users\\boar2\\AppData\\Roaming\\Python\\Python39\\site-packages\\IPython\\core\\pylabtools.py:152: UserWarning: Glyph 53356 (\\N{HANGUL SYLLABLE KEU}) missing from font(s) DejaVu Sans.\n",
      "  fig.canvas.print_figure(bytes_io, **kw)\n",
      "C:\\Users\\boar2\\AppData\\Roaming\\Python\\Python39\\site-packages\\IPython\\core\\pylabtools.py:152: UserWarning: Glyph 44057 (\\N{HANGUL SYLLABLE GAT}) missing from font(s) DejaVu Sans.\n",
      "  fig.canvas.print_figure(bytes_io, **kw)\n",
      "C:\\Users\\boar2\\AppData\\Roaming\\Python\\Python39\\site-packages\\IPython\\core\\pylabtools.py:152: UserWarning: Glyph 51008 (\\N{HANGUL SYLLABLE EUN}) missing from font(s) DejaVu Sans.\n",
      "  fig.canvas.print_figure(bytes_io, **kw)\n",
      "C:\\Users\\boar2\\AppData\\Roaming\\Python\\Python39\\site-packages\\IPython\\core\\pylabtools.py:152: UserWarning: Glyph 46160 (\\N{HANGUL SYLLABLE DU}) missing from font(s) DejaVu Sans.\n",
      "  fig.canvas.print_figure(bytes_io, **kw)\n",
      "C:\\Users\\boar2\\AppData\\Roaming\\Python\\Python39\\site-packages\\IPython\\core\\pylabtools.py:152: UserWarning: Glyph 51032 (\\N{HANGUL SYLLABLE YI}) missing from font(s) DejaVu Sans.\n",
      "  fig.canvas.print_figure(bytes_io, **kw)\n",
      "C:\\Users\\boar2\\AppData\\Roaming\\Python\\Python39\\site-packages\\IPython\\core\\pylabtools.py:152: UserWarning: Glyph 47484 (\\N{HANGUL SYLLABLE REUL}) missing from font(s) DejaVu Sans.\n",
      "  fig.canvas.print_figure(bytes_io, **kw)\n",
      "C:\\Users\\boar2\\AppData\\Roaming\\Python\\Python39\\site-packages\\IPython\\core\\pylabtools.py:152: UserWarning: Glyph 51088 (\\N{HANGUL SYLLABLE JA}) missing from font(s) DejaVu Sans.\n",
      "  fig.canvas.print_figure(bytes_io, **kw)\n",
      "C:\\Users\\boar2\\AppData\\Roaming\\Python\\Python39\\site-packages\\IPython\\core\\pylabtools.py:152: UserWarning: Glyph 47308 (\\N{HANGUL SYLLABLE RYO}) missing from font(s) DejaVu Sans.\n",
      "  fig.canvas.print_figure(bytes_io, **kw)\n",
      "C:\\Users\\boar2\\AppData\\Roaming\\Python\\Python39\\site-packages\\IPython\\core\\pylabtools.py:152: UserWarning: Glyph 45733 (\\N{HANGUL SYLLABLE NEUNG}) missing from font(s) DejaVu Sans.\n",
      "  fig.canvas.print_figure(bytes_io, **kw)\n",
      "C:\\Users\\boar2\\AppData\\Roaming\\Python\\Python39\\site-packages\\IPython\\core\\pylabtools.py:152: UserWarning: Glyph 49457 (\\N{HANGUL SYLLABLE SEONG}) missing from font(s) DejaVu Sans.\n",
      "  fig.canvas.print_figure(bytes_io, **kw)\n",
      "C:\\Users\\boar2\\AppData\\Roaming\\Python\\Python39\\site-packages\\IPython\\core\\pylabtools.py:152: UserWarning: Glyph 48516 (\\N{HANGUL SYLLABLE BUN}) missing from font(s) DejaVu Sans.\n",
      "  fig.canvas.print_figure(bytes_io, **kw)\n",
      "C:\\Users\\boar2\\AppData\\Roaming\\Python\\Python39\\site-packages\\IPython\\core\\pylabtools.py:152: UserWarning: Glyph 47448 (\\N{HANGUL SYLLABLE RYU}) missing from font(s) DejaVu Sans.\n",
      "  fig.canvas.print_figure(bytes_io, **kw)\n",
      "C:\\Users\\boar2\\AppData\\Roaming\\Python\\Python39\\site-packages\\IPython\\core\\pylabtools.py:152: UserWarning: Glyph 51665 (\\N{HANGUL SYLLABLE JIB}) missing from font(s) DejaVu Sans.\n",
      "  fig.canvas.print_figure(bytes_io, **kw)\n",
      "C:\\Users\\boar2\\AppData\\Roaming\\Python\\Python39\\site-packages\\IPython\\core\\pylabtools.py:152: UserWarning: Glyph 44060 (\\N{HANGUL SYLLABLE GAE}) missing from font(s) DejaVu Sans.\n",
      "  fig.canvas.print_figure(bytes_io, **kw)\n",
      "C:\\Users\\boar2\\AppData\\Roaming\\Python\\Python39\\site-packages\\IPython\\core\\pylabtools.py:152: UserWarning: Glyph 49464 (\\N{HANGUL SYLLABLE SE}) missing from font(s) DejaVu Sans.\n",
      "  fig.canvas.print_figure(bytes_io, **kw)\n",
      "C:\\Users\\boar2\\AppData\\Roaming\\Python\\Python39\\site-packages\\IPython\\core\\pylabtools.py:152: UserWarning: Glyph 51060 (\\N{HANGUL SYLLABLE I}) missing from font(s) DejaVu Sans.\n",
      "  fig.canvas.print_figure(bytes_io, **kw)\n",
      "C:\\Users\\boar2\\AppData\\Roaming\\Python\\Python39\\site-packages\\IPython\\core\\pylabtools.py:152: UserWarning: Glyph 44536 (\\N{HANGUL SYLLABLE GEU}) missing from font(s) DejaVu Sans.\n",
      "  fig.canvas.print_figure(bytes_io, **kw)\n",
      "C:\\Users\\boar2\\AppData\\Roaming\\Python\\Python39\\site-packages\\IPython\\core\\pylabtools.py:152: UserWarning: Glyph 47000 (\\N{HANGUL SYLLABLE RAE}) missing from font(s) DejaVu Sans.\n",
      "  fig.canvas.print_figure(bytes_io, **kw)\n",
      "C:\\Users\\boar2\\AppData\\Roaming\\Python\\Python39\\site-packages\\IPython\\core\\pylabtools.py:152: UserWarning: Glyph 54532 (\\N{HANGUL SYLLABLE PEU}) missing from font(s) DejaVu Sans.\n",
      "  fig.canvas.print_figure(bytes_io, **kw)\n",
      "C:\\Users\\boar2\\AppData\\Roaming\\Python\\Python39\\site-packages\\IPython\\core\\pylabtools.py:152: UserWarning: Glyph 47532 (\\N{HANGUL SYLLABLE RI}) missing from font(s) DejaVu Sans.\n",
      "  fig.canvas.print_figure(bytes_io, **kw)\n",
      "C:\\Users\\boar2\\AppData\\Roaming\\Python\\Python39\\site-packages\\IPython\\core\\pylabtools.py:152: UserWarning: Glyph 51456 (\\N{HANGUL SYLLABLE JUN}) missing from font(s) DejaVu Sans.\n",
      "  fig.canvas.print_figure(bytes_io, **kw)\n",
      "C:\\Users\\boar2\\AppData\\Roaming\\Python\\Python39\\site-packages\\IPython\\core\\pylabtools.py:152: UserWarning: Glyph 47480 (\\N{HANGUL SYLLABLE REUN}) missing from font(s) DejaVu Sans.\n",
      "  fig.canvas.print_figure(bytes_io, **kw)\n",
      "C:\\Users\\boar2\\AppData\\Roaming\\Python\\Python39\\site-packages\\IPython\\core\\pylabtools.py:152: UserWarning: Glyph 47568 (\\N{HANGUL SYLLABLE MAL}) missing from font(s) DejaVu Sans.\n",
      "  fig.canvas.print_figure(bytes_io, **kw)\n",
      "C:\\Users\\boar2\\AppData\\Roaming\\Python\\Python39\\site-packages\\IPython\\core\\pylabtools.py:152: UserWarning: Glyph 47732 (\\N{HANGUL SYLLABLE MYEON}) missing from font(s) DejaVu Sans.\n",
      "  fig.canvas.print_figure(bytes_io, **kw)\n",
      "C:\\Users\\boar2\\AppData\\Roaming\\Python\\Python39\\site-packages\\IPython\\core\\pylabtools.py:152: UserWarning: Glyph 54200 (\\N{HANGUL SYLLABLE PYEON}) missing from font(s) DejaVu Sans.\n",
      "  fig.canvas.print_figure(bytes_io, **kw)\n",
      "C:\\Users\\boar2\\AppData\\Roaming\\Python\\Python39\\site-packages\\IPython\\core\\pylabtools.py:152: UserWarning: Glyph 51216 (\\N{HANGUL SYLLABLE JEOM}) missing from font(s) DejaVu Sans.\n",
      "  fig.canvas.print_figure(bytes_io, **kw)\n",
      "C:\\Users\\boar2\\AppData\\Roaming\\Python\\Python39\\site-packages\\IPython\\core\\pylabtools.py:152: UserWarning: Glyph 47548 (\\N{HANGUL SYLLABLE RIM}) missing from font(s) DejaVu Sans.\n",
      "  fig.canvas.print_figure(bytes_io, **kw)\n",
      "C:\\Users\\boar2\\AppData\\Roaming\\Python\\Python39\\site-packages\\IPython\\core\\pylabtools.py:152: UserWarning: Glyph 44256 (\\N{HANGUL SYLLABLE GO}) missing from font(s) DejaVu Sans.\n",
      "  fig.canvas.print_figure(bytes_io, **kw)\n",
      "C:\\Users\\boar2\\AppData\\Roaming\\Python\\Python39\\site-packages\\IPython\\core\\pylabtools.py:152: UserWarning: Glyph 54644 (\\N{HANGUL SYLLABLE HAE}) missing from font(s) DejaVu Sans.\n",
      "  fig.canvas.print_figure(bytes_io, **kw)\n",
      "C:\\Users\\boar2\\AppData\\Roaming\\Python\\Python39\\site-packages\\IPython\\core\\pylabtools.py:152: UserWarning: Glyph 49437 (\\N{HANGUL SYLLABLE SEOG}) missing from font(s) DejaVu Sans.\n",
      "  fig.canvas.print_figure(bytes_io, **kw)\n",
      "C:\\Users\\boar2\\AppData\\Roaming\\Python\\Python39\\site-packages\\IPython\\core\\pylabtools.py:152: UserWarning: Glyph 47561 (\\N{HANGUL SYLLABLE MAG}) missing from font(s) DejaVu Sans.\n",
      "  fig.canvas.print_figure(bytes_io, **kw)\n",
      "C:\\Users\\boar2\\AppData\\Roaming\\Python\\Python39\\site-packages\\IPython\\core\\pylabtools.py:152: UserWarning: Glyph 45824 (\\N{HANGUL SYLLABLE DAE}) missing from font(s) DejaVu Sans.\n",
      "  fig.canvas.print_figure(bytes_io, **kw)\n",
      "C:\\Users\\boar2\\AppData\\Roaming\\Python\\Python39\\site-packages\\IPython\\core\\pylabtools.py:152: UserWarning: Glyph 44734 (\\N{HANGUL SYLLABLE GGEOGG}) missing from font(s) DejaVu Sans.\n",
      "  fig.canvas.print_figure(bytes_io, **kw)\n",
      "C:\\Users\\boar2\\AppData\\Roaming\\Python\\Python39\\site-packages\\IPython\\core\\pylabtools.py:152: UserWarning: Glyph 49440 (\\N{HANGUL SYLLABLE SEON}) missing from font(s) DejaVu Sans.\n",
      "  fig.canvas.print_figure(bytes_io, **kw)\n"
     ]
    },
    {
     "data": {
      "image/png": "[encoded data removed]",
      "text/plain": [
       "<Figure size 1200x800 with 1 Axes>"
      ]
     },
     "metadata": {},
     "output_type": "display_data"
    }
   ],
   "source": [
    "# 시각화1: Matplotlib\n",
    "\n",
    "import matplotlib.pyplot as plt\n",
    "\n",
    "# 한글 폰트 설정\n",
    "plt.rcParams[\"font.family\"] = \"Malgun Gothic\"  # Windows\n",
    "# plt.rcParams['font.family'] = 'AppleGothic'  # macOS\n",
    "# plt.rcParams['font.family'] = 'NanumGothic'  # Linux\n",
    "\n",
    "# Matplotlib 시각화\n",
    "plt.figure(figsize=(12, 8))\n",
    "pos = nx.spring_layout(G, seed=42)  # 노드 위치 계산\n",
    "nx.draw(\n",
    "    G,\n",
    "    pos,\n",
    "    with_labels=True,\n",
    "    node_size=3000,\n",
    "    font_size=9,\n",
    "    font_color=\"black\",\n",
    "    node_color=\"lightblue\",\n",
    "    edge_color=\"gray\",\n",
    "    arrowsize=20,\n",
    ")\n",
    "plt.title(\"지식공간 - Matplotlib 시각화\", fontsize=16)\n",
    "plt.show()"
   ]
  },
  {
   "cell_type": "code",
   "execution_count": 3,
   "metadata": {},
   "outputs": [
    {
     "data": {
      "text/plain": [
       "'knowledge_space_graphviz.png'"
      ]
     },
     "execution_count": 3,
     "metadata": {},
     "output_type": "execute_result"
    }
   ],
   "source": [
    "from graphviz import Digraph\n",
    "\n",
    "# Graphviz 객체 생성\n",
    "dot = Digraph(format=\"png\")\n",
    "dot.attr(rankdir=\"LR\", fontname=\"Malgun Gothic\")  # Windows\n",
    "# dot.attr(rankdir=\"LR\", fontname=\"AppleGothic\")  # macOS\n",
    "# dot.attr(rankdir=\"LR\", fontname=\"NanumGothic\")  # Linux\n",
    "\n",
    "# 노드와 엣지 추가\n",
    "for node in G.nodes:\n",
    "    dot.node(node, label=node)\n",
    "for edge in G.edges:\n",
    "    dot.edge(edge[0], edge[1])\n",
    "\n",
    "# 출력 및 보기\n",
    "dot.render(\"knowledge_space_graphviz\")\n",
    "dot.view()"
   ]
  },
  {
   "cell_type": "code",
   "execution_count": 4,
   "metadata": {},
   "outputs": [
    {
     "data": {
      "application/vnd.plotly.v1+json": {
       "config": {
        "plotlyServerURL": "https://plot.ly"
       },
       "data": [
        {
         "hoverinfo": "none",
         "line": {
          "color": "#888",
          "width": 0.5
         },
         "mode": "lines",
         "type": "scatter",
         "x": [
          -0.12660156447686405,
          0.007515207541141901,
          null,
          -0.12660156447686405,
          0.04003954952577486,
          null,
          -0.12660156447686405,
          -0.33636558538869016,
          null,
          0.007515207541141901,
          -0.053723391000929155,
          null,
          0.04003954952577486,
          0.024523592568131712,
          null,
          -0.33636558538869016,
          -0.3328124657812647,
          null,
          -0.053723391000929155,
          -0.4022504307671128,
          null,
          -0.053723391000929155,
          -0.7104439089489287,
          null,
          -0.053723391000929155,
          0.5018945392462771,
          null,
          -0.053723391000929155,
          0.7200809544741283,
          null,
          -0.053723391000929155,
          -0.600358863368871,
          null,
          -0.053723391000929155,
          0.07618109134797736,
          null,
          0.024523592568131712,
          -0.8815171401858085,
          null,
          0.024523592568131712,
          0.3437484187337015,
          null,
          0.024523592568131712,
          0.860237054092536,
          null,
          -0.3328124657812647,
          -0.5070753711668659,
          null,
          -0.0180759472590838,
          0.38496617611760175,
          null,
          -0.0180759472590838,
          -0.42311883296492847,
          null,
          0.38496617611760175,
          0.007791123344019083,
          null,
          0.38496617611760175,
          0.7007972026364805,
          null,
          0.38496617611760175,
          0.6249177493851427,
          null,
          -0.42311883296492847,
          -0.34798998250901386,
          null,
          0.007791123344019083,
          0.004350043949705928,
          null,
          0.7007972026364805,
          1,
          null,
          0.6249177493851427,
          0.8020229879438263,
          null,
          -0.34798998250901386,
          0.3984459559742902,
          null,
          -0.34798998250901386,
          -0.8165315238507678,
          null,
          -0.34798998250901386,
          -0.940646639211606,
          null
         ],
         "y": [
          0.14265229501681947,
          -0.11623374904768659,
          null,
          0.14265229501681947,
          -0.33908635583452523,
          null,
          0.14265229501681947,
          0.6882042683270007,
          null,
          -0.11623374904768659,
          -0.12964550626344445,
          null,
          -0.33908635583452523,
          -0.26024961090147486,
          null,
          0.6882042683270007,
          0.6150649154819589,
          null,
          -0.12964550626344445,
          -0.8308404043422671,
          null,
          -0.12964550626344445,
          0.5137265547963173,
          null,
          -0.12964550626344445,
          -0.6966903442265366,
          null,
          -0.12964550626344445,
          -0.5894939375155258,
          null,
          -0.12964550626344445,
          -0.6121678988316939,
          null,
          -0.12964550626344445,
          0.9513910065269604,
          null,
          -0.26024961090147486,
          0.21014258544147096,
          null,
          -0.26024961090147486,
          -0.8989036191198404,
          null,
          -0.26024961090147486,
          -0.28992167105490585,
          null,
          0.6150649154819589,
          0.9067040053244588,
          null,
          0.06884395831257009,
          -0.0730162004943129,
          null,
          0.06884395831257009,
          0.2063092993401097,
          null,
          -0.0730162004943129,
          -0.7749339592516935,
          null,
          -0.0730162004943129,
          0.21509561838239158,
          null,
          -0.0730162004943129,
          0.5664418730946287,
          null,
          0.2063092993401097,
          0.183867738088698,
          null,
          -0.7749339592516935,
          -0.8985909773351959,
          null,
          0.21509561838239158,
          0.25217122247834983,
          null,
          0.5664418730946287,
          0.7097492251272483,
          null,
          0.183867738088698,
          0.9333296967088669,
          null,
          0.183867738088698,
          -0.4942657927220669,
          null,
          0.183867738088698,
          -0.15965423550667843,
          null
         ]
        },
        {
         "marker": {
          "color": "lightblue",
          "line": {
           "width": 2
          },
          "size": 10
         },
         "mode": "markers+text",
         "text": [
          "변화와 관계",
          "규칙 찾기",
          "규칙 정하기",
          "등호와 동치 관계",
          "배열에서 규칙 찾기",
          "규칙에 따라 배열하기",
          "등호 사용하기",
          "물체 배열 규칙을 여러 가지 방법으로 표현하기",
          "무늬 배열 규칙을 여러 가지 방법으로 표현하기",
          "수 배열 규칙을 여러 가지 방법으로 표현하기",
          "다양한 변화 규칙을 수로 나타내기",
          "다양한 변화 규칙을 식으로 나타내기",
          "계산식 배열 규칙으로 계산 결과 추측하기",
          "물체 배열하기",
          "무늬 배열하기",
          "수 배열하기",
          "크기가 같은 두 양의 관계를 식으로 나타내기",
          "자료와 가능성",
          "분류하기",
          "자료 수집하기",
          "개수 세기",
          "표로 나타내기",
          "○, ×, / 를 이용한 그래프로 나타내기",
          "자료 정리하기",
          "기준에 따른 결과 말하기",
          "표로 나타내면 편리한 점 말하기",
          "그래프로 나타내면 편리한 점 말하기",
          "그림그래프로 나타내고 해석하기",
          "막대그래프로 나타내고 해석하기",
          "꺾은선그래프로 나타내고 해석하기"
         ],
         "textposition": "top center",
         "type": "scatter",
         "x": [
          -0.12660156447686405,
          0.007515207541141901,
          0.04003954952577486,
          -0.33636558538869016,
          -0.053723391000929155,
          0.024523592568131712,
          -0.3328124657812647,
          -0.4022504307671128,
          -0.7104439089489287,
          0.5018945392462771,
          0.7200809544741283,
          -0.600358863368871,
          0.07618109134797736,
          -0.8815171401858085,
          0.3437484187337015,
          0.860237054092536,
          -0.5070753711668659,
          -0.0180759472590838,
          0.38496617611760175,
          -0.42311883296492847,
          0.007791123344019083,
          0.7007972026364805,
          0.6249177493851427,
          -0.34798998250901386,
          0.004350043949705928,
          1,
          0.8020229879438263,
          0.3984459559742902,
          -0.8165315238507678,
          -0.940646639211606
         ],
         "y": [
          0.14265229501681947,
          -0.11623374904768659,
          -0.33908635583452523,
          0.6882042683270007,
          -0.12964550626344445,
          -0.26024961090147486,
          0.6150649154819589,
          -0.8308404043422671,
          0.5137265547963173,
          -0.6966903442265366,
          -0.5894939375155258,
          -0.6121678988316939,
          0.9513910065269604,
          0.21014258544147096,
          -0.8989036191198404,
          -0.28992167105490585,
          0.9067040053244588,
          0.06884395831257009,
          -0.0730162004943129,
          0.2063092993401097,
          -0.7749339592516935,
          0.21509561838239158,
          0.5664418730946287,
          0.183867738088698,
          -0.8985909773351959,
          0.25217122247834983,
          0.7097492251272483,
          0.9333296967088669,
          -0.4942657927220669,
          -0.15965423550667843
         ]
        }
       ],
       "layout": {
        "hovermode": "closest",
        "margin": {
         "b": 0,
         "l": 0,
         "r": 0,
         "t": 40
        },
        "showlegend": false,
        "template": {
         "data": {
          "bar": [
           {
            "error_x": {
             "color": "#2a3f5f"
            },
            "error_y": {
             "color": "#2a3f5f"
            },
            "marker": {
             "line": {
              "color": "#E5ECF6",
              "width": 0.5
             },
             "pattern": {
              "fillmode": "overlay",
              "size": 10,
              "solidity": 0.2
             }
            },
            "type": "bar"
           }
          ],
          "barpolar": [
           {
            "marker": {
             "line": {
              "color": "#E5ECF6",
              "width": 0.5
             },
             "pattern": {
              "fillmode": "overlay",
              "size": 10,
              "solidity": 0.2
             }
            },
            "type": "barpolar"
           }
          ],
          "carpet": [
           {
            "aaxis": {
             "endlinecolor": "#2a3f5f",
             "gridcolor": "white",
             "linecolor": "white",
             "minorgridcolor": "white",
             "startlinecolor": "#2a3f5f"
            },
            "baxis": {
             "endlinecolor": "#2a3f5f",
             "gridcolor": "white",
             "linecolor": "white",
             "minorgridcolor": "white",
             "startlinecolor": "#2a3f5f"
            },
            "type": "carpet"
           }
          ],
          "choropleth": [
           {
            "colorbar": {
             "outlinewidth": 0,
             "ticks": ""
            },
            "type": "choropleth"
           }
          ],
          "contour": [
           {
            "colorbar": {
             "outlinewidth": 0,
             "ticks": ""
            },
            "colorscale": [
             [
              0,
              "#0d0887"
             ],
             [
              0.1111111111111111,
              "#46039f"
             ],
             [
              0.2222222222222222,
              "#7201a8"
             ],
             [
              0.3333333333333333,
              "#9c179e"
             ],
             [
              0.4444444444444444,
              "#bd3786"
             ],
             [
              0.5555555555555556,
              "#d8576b"
             ],
             [
              0.6666666666666666,
              "#ed7953"
             ],
             [
              0.7777777777777778,
              "#fb9f3a"
             ],
             [
              0.8888888888888888,
              "#fdca26"
             ],
             [
              1,
              "#f0f921"
             ]
            ],
            "type": "contour"
           }
          ],
          "contourcarpet": [
           {
            "colorbar": {
             "outlinewidth": 0,
             "ticks": ""
            },
            "type": "contourcarpet"
           }
          ],
          "heatmap": [
           {
            "colorbar": {
             "outlinewidth": 0,
             "ticks": ""
            },
            "colorscale": [
             [
              0,
              "#0d0887"
             ],
             [
              0.1111111111111111,
              "#46039f"
             ],
             [
              0.2222222222222222,
              "#7201a8"
             ],
             [
              0.3333333333333333,
              "#9c179e"
             ],
             [
              0.4444444444444444,
              "#bd3786"
             ],
             [
              0.5555555555555556,
              "#d8576b"
             ],
             [
              0.6666666666666666,
              "#ed7953"
             ],
             [
              0.7777777777777778,
              "#fb9f3a"
             ],
             [
              0.8888888888888888,
              "#fdca26"
             ],
             [
              1,
              "#f0f921"
             ]
            ],
            "type": "heatmap"
           }
          ],
          "heatmapgl": [
           {
            "colorbar": {
             "outlinewidth": 0,
             "ticks": ""
            },
            "colorscale": [
             [
              0,
              "#0d0887"
             ],
             [
              0.1111111111111111,
              "#46039f"
             ],
             [
              0.2222222222222222,
              "#7201a8"
             ],
             [
              0.3333333333333333,
              "#9c179e"
             ],
             [
              0.4444444444444444,
              "#bd3786"
             ],
             [
              0.5555555555555556,
              "#d8576b"
             ],
             [
              0.6666666666666666,
              "#ed7953"
             ],
             [
              0.7777777777777778,
              "#fb9f3a"
             ],
             [
              0.8888888888888888,
              "#fdca26"
             ],
             [
              1,
              "#f0f921"
             ]
            ],
            "type": "heatmapgl"
           }
          ],
          "histogram": [
           {
            "marker": {
             "pattern": {
              "fillmode": "overlay",
              "size": 10,
              "solidity": 0.2
             }
            },
            "type": "histogram"
           }
          ],
          "histogram2d": [
           {
            "colorbar": {
             "outlinewidth": 0,
             "ticks": ""
            },
            "colorscale": [
             [
              0,
              "#0d0887"
             ],
             [
              0.1111111111111111,
              "#46039f"
             ],
             [
              0.2222222222222222,
              "#7201a8"
             ],
             [
              0.3333333333333333,
              "#9c179e"
             ],
             [
              0.4444444444444444,
              "#bd3786"
             ],
             [
              0.5555555555555556,
              "#d8576b"
             ],
             [
              0.6666666666666666,
              "#ed7953"
             ],
             [
              0.7777777777777778,
              "#fb9f3a"
             ],
             [
              0.8888888888888888,
              "#fdca26"
             ],
             [
              1,
              "#f0f921"
             ]
            ],
            "type": "histogram2d"
           }
          ],
          "histogram2dcontour": [
           {
            "colorbar": {
             "outlinewidth": 0,
             "ticks": ""
            },
            "colorscale": [
             [
              0,
              "#0d0887"
             ],
             [
              0.1111111111111111,
              "#46039f"
             ],
             [
              0.2222222222222222,
              "#7201a8"
             ],
             [
              0.3333333333333333,
              "#9c179e"
             ],
             [
              0.4444444444444444,
              "#bd3786"
             ],
             [
              0.5555555555555556,
              "#d8576b"
             ],
             [
              0.6666666666666666,
              "#ed7953"
             ],
             [
              0.7777777777777778,
              "#fb9f3a"
             ],
             [
              0.8888888888888888,
              "#fdca26"
             ],
             [
              1,
              "#f0f921"
             ]
            ],
            "type": "histogram2dcontour"
           }
          ],
          "mesh3d": [
           {
            "colorbar": {
             "outlinewidth": 0,
             "ticks": ""
            },
            "type": "mesh3d"
           }
          ],
          "parcoords": [
           {
            "line": {
             "colorbar": {
              "outlinewidth": 0,
              "ticks": ""
             }
            },
            "type": "parcoords"
           }
          ],
          "pie": [
           {
            "automargin": true,
            "type": "pie"
           }
          ],
          "scatter": [
           {
            "fillpattern": {
             "fillmode": "overlay",
             "size": 10,
             "solidity": 0.2
            },
            "type": "scatter"
           }
          ],
          "scatter3d": [
           {
            "line": {
             "colorbar": {
              "outlinewidth": 0,
              "ticks": ""
             }
            },
            "marker": {
             "colorbar": {
              "outlinewidth": 0,
              "ticks": ""
             }
            },
            "type": "scatter3d"
           }
          ],
          "scattercarpet": [
           {
            "marker": {
             "colorbar": {
              "outlinewidth": 0,
              "ticks": ""
             }
            },
            "type": "scattercarpet"
           }
          ],
          "scattergeo": [
           {
            "marker": {
             "colorbar": {
              "outlinewidth": 0,
              "ticks": ""
             }
            },
            "type": "scattergeo"
           }
          ],
          "scattergl": [
           {
            "marker": {
             "colorbar": {
              "outlinewidth": 0,
              "ticks": ""
             }
            },
            "type": "scattergl"
           }
          ],
          "scattermapbox": [
           {
            "marker": {
             "colorbar": {
              "outlinewidth": 0,
              "ticks": ""
             }
            },
            "type": "scattermapbox"
           }
          ],
          "scatterpolar": [
           {
            "marker": {
             "colorbar": {
              "outlinewidth": 0,
              "ticks": ""
             }
            },
            "type": "scatterpolar"
           }
          ],
          "scatterpolargl": [
           {
            "marker": {
             "colorbar": {
              "outlinewidth": 0,
              "ticks": ""
             }
            },
            "type": "scatterpolargl"
           }
          ],
          "scatterternary": [
           {
            "marker": {
             "colorbar": {
              "outlinewidth": 0,
              "ticks": ""
             }
            },
            "type": "scatterternary"
           }
          ],
          "surface": [
           {
            "colorbar": {
             "outlinewidth": 0,
             "ticks": ""
            },
            "colorscale": [
             [
              0,
              "#0d0887"
             ],
             [
              0.1111111111111111,
              "#46039f"
             ],
             [
              0.2222222222222222,
              "#7201a8"
             ],
             [
              0.3333333333333333,
              "#9c179e"
             ],
             [
              0.4444444444444444,
              "#bd3786"
             ],
             [
              0.5555555555555556,
              "#d8576b"
             ],
             [
              0.6666666666666666,
              "#ed7953"
             ],
             [
              0.7777777777777778,
              "#fb9f3a"
             ],
             [
              0.8888888888888888,
              "#fdca26"
             ],
             [
              1,
              "#f0f921"
             ]
            ],
            "type": "surface"
           }
          ],
          "table": [
           {
            "cells": {
             "fill": {
              "color": "#EBF0F8"
             },
             "line": {
              "color": "white"
             }
            },
            "header": {
             "fill": {
              "color": "#C8D4E3"
             },
             "line": {
              "color": "white"
             }
            },
            "type": "table"
           }
          ]
         },
         "layout": {
          "annotationdefaults": {
           "arrowcolor": "#2a3f5f",
           "arrowhead": 0,
           "arrowwidth": 1
          },
          "autotypenumbers": "strict",
          "coloraxis": {
           "colorbar": {
            "outlinewidth": 0,
            "ticks": ""
           }
          },
          "colorscale": {
           "diverging": [
            [
             0,
             "#8e0152"
            ],
            [
             0.1,
             "#c51b7d"
            ],
            [
             0.2,
             "#de77ae"
            ],
            [
             0.3,
             "#f1b6da"
            ],
            [
             0.4,
             "#fde0ef"
            ],
            [
             0.5,
             "#f7f7f7"
            ],
            [
             0.6,
             "#e6f5d0"
            ],
            [
             0.7,
             "#b8e186"
            ],
            [
             0.8,
             "#7fbc41"
            ],
            [
             0.9,
             "#4d9221"
            ],
            [
             1,
             "#276419"
            ]
           ],
           "sequential": [
            [
             0,
             "#0d0887"
            ],
            [
             0.1111111111111111,
             "#46039f"
            ],
            [
             0.2222222222222222,
             "#7201a8"
            ],
            [
             0.3333333333333333,
             "#9c179e"
            ],
            [
             0.4444444444444444,
             "#bd3786"
            ],
            [
             0.5555555555555556,
             "#d8576b"
            ],
            [
             0.6666666666666666,
             "#ed7953"
            ],
            [
             0.7777777777777778,
             "#fb9f3a"
            ],
            [
             0.8888888888888888,
             "#fdca26"
            ],
            [
             1,
             "#f0f921"
            ]
           ],
           "sequentialminus": [
            [
             0,
             "#0d0887"
            ],
            [
             0.1111111111111111,
             "#46039f"
            ],
            [
             0.2222222222222222,
             "#7201a8"
            ],
            [
             0.3333333333333333,
             "#9c179e"
            ],
            [
             0.4444444444444444,
             "#bd3786"
            ],
            [
             0.5555555555555556,
             "#d8576b"
            ],
            [
             0.6666666666666666,
             "#ed7953"
            ],
            [
             0.7777777777777778,
             "#fb9f3a"
            ],
            [
             0.8888888888888888,
             "#fdca26"
            ],
            [
             1,
             "#f0f921"
            ]
           ]
          },
          "colorway": [
           "#636efa",
           "#EF553B",
           "#00cc96",
           "#ab63fa",
           "#FFA15A",
           "#19d3f3",
           "#FF6692",
           "#B6E880",
           "#FF97FF",
           "#FECB52"
          ],
          "font": {
           "color": "#2a3f5f"
          },
          "geo": {
           "bgcolor": "white",
           "lakecolor": "white",
           "landcolor": "#E5ECF6",
           "showlakes": true,
           "showland": true,
           "subunitcolor": "white"
          },
          "hoverlabel": {
           "align": "left"
          },
          "hovermode": "closest",
          "mapbox": {
           "style": "light"
          },
          "paper_bgcolor": "white",
          "plot_bgcolor": "#E5ECF6",
          "polar": {
           "angularaxis": {
            "gridcolor": "white",
            "linecolor": "white",
            "ticks": ""
           },
           "bgcolor": "#E5ECF6",
           "radialaxis": {
            "gridcolor": "white",
            "linecolor": "white",
            "ticks": ""
           }
          },
          "scene": {
           "xaxis": {
            "backgroundcolor": "#E5ECF6",
            "gridcolor": "white",
            "gridwidth": 2,
            "linecolor": "white",
            "showbackground": true,
            "ticks": "",
            "zerolinecolor": "white"
           },
           "yaxis": {
            "backgroundcolor": "#E5ECF6",
            "gridcolor": "white",
            "gridwidth": 2,
            "linecolor": "white",
            "showbackground": true,
            "ticks": "",
            "zerolinecolor": "white"
           },
           "zaxis": {
            "backgroundcolor": "#E5ECF6",
            "gridcolor": "white",
            "gridwidth": 2,
            "linecolor": "white",
            "showbackground": true,
            "ticks": "",
            "zerolinecolor": "white"
           }
          },
          "shapedefaults": {
           "line": {
            "color": "#2a3f5f"
           }
          },
          "ternary": {
           "aaxis": {
            "gridcolor": "white",
            "linecolor": "white",
            "ticks": ""
           },
           "baxis": {
            "gridcolor": "white",
            "linecolor": "white",
            "ticks": ""
           },
           "bgcolor": "#E5ECF6",
           "caxis": {
            "gridcolor": "white",
            "linecolor": "white",
            "ticks": ""
           }
          },
          "title": {
           "x": 0.05
          },
          "xaxis": {
           "automargin": true,
           "gridcolor": "white",
           "linecolor": "white",
           "ticks": "",
           "title": {
            "standoff": 15
           },
           "zerolinecolor": "white",
           "zerolinewidth": 2
          },
          "yaxis": {
           "automargin": true,
           "gridcolor": "white",
           "linecolor": "white",
           "ticks": "",
           "title": {
            "standoff": 15
           },
           "zerolinecolor": "white",
           "zerolinewidth": 2
          }
         }
        },
        "title": {
         "font": {
          "size": 16
         },
         "text": "Plotly 시각화"
        },
        "xaxis": {
         "showgrid": false,
         "zeroline": false
        },
        "yaxis": {
         "showgrid": false,
         "zeroline": false
        }
       }
      }
     },
     "metadata": {},
     "output_type": "display_data"
    }
   ],
   "source": [
    "import plotly.graph_objects as go\n",
    "\n",
    "# 노드와 엣지 데이터 생성\n",
    "pos = nx.spring_layout(G, seed=42)\n",
    "edge_x = []\n",
    "edge_y = []\n",
    "for edge in G.edges:\n",
    "    x0, y0 = pos[edge[0]]\n",
    "    x1, y1 = pos[edge[1]]\n",
    "    edge_x.extend([x0, x1, None])\n",
    "    edge_y.extend([y0, y1, None])\n",
    "\n",
    "# 엣지 추적\n",
    "edge_trace = go.Scatter(\n",
    "    x=edge_x,\n",
    "    y=edge_y,\n",
    "    line=dict(width=0.5, color=\"#888\"),\n",
    "    hoverinfo=\"none\",\n",
    "    mode=\"lines\",\n",
    ")\n",
    "\n",
    "# 노드 추적\n",
    "node_x = []\n",
    "node_y = []\n",
    "node_text = []\n",
    "for node in G.nodes:\n",
    "    x, y = pos[node]\n",
    "    node_x.append(x)\n",
    "    node_y.append(y)\n",
    "    node_text.append(node)\n",
    "\n",
    "node_trace = go.Scatter(\n",
    "    x=node_x,\n",
    "    y=node_y,\n",
    "    mode=\"markers+text\",\n",
    "    text=node_text,\n",
    "    textposition=\"top center\",\n",
    "    marker=dict(size=10, color=\"lightblue\", line_width=2),\n",
    ")\n",
    "\n",
    "# Plotly Figure 생성\n",
    "fig = go.Figure(\n",
    "    data=[edge_trace, node_trace],\n",
    "    layout=go.Layout(\n",
    "        title=\"Plotly 시각화\",\n",
    "        titlefont_size=16,\n",
    "        showlegend=False,\n",
    "        hovermode=\"closest\",\n",
    "        margin=dict(b=0, l=0, r=0, t=40),\n",
    "        xaxis=dict(showgrid=False, zeroline=False),\n",
    "        yaxis=dict(showgrid=False, zeroline=False),\n",
    "    ),\n",
    ")\n",
    "fig.show()"
   ]
  },
  {
   "cell_type": "code",
   "execution_count": 5,
   "metadata": {},
   "outputs": [
    {
     "data": {
      "application/vnd.plotly.v1+json": {
       "config": {
        "plotlyServerURL": "https://plot.ly"
       },
       "data": [
        {
         "hoverinfo": "none",
         "line": {
          "color": "#888",
          "width": 0.5
         },
         "mode": "lines",
         "type": "scatter",
         "x": [
          -0.09429363722018717,
          0.046077824604432466,
          null,
          -0.09429363722018717,
          0.0670050173742125,
          null,
          -0.09429363722018717,
          -0.30537933607567797,
          null,
          0.046077824604432466,
          -0.017341578038791626,
          null,
          0.0670050173742125,
          0.05159453608305243,
          null,
          -0.30537933607567797,
          -0.2951424573890168,
          null,
          -0.017341578038791626,
          -0.3668220588618999,
          null,
          -0.017341578038791626,
          -0.6738265551638032,
          null,
          -0.017341578038791626,
          0.5348803306614699,
          null,
          -0.017341578038791626,
          0.7448258459903405,
          null,
          -0.017341578038791626,
          -0.5653203918087364,
          null,
          -0.017341578038791626,
          0.15529892090447725,
          null,
          0.05159453608305243,
          -0.8480280772960124,
          null,
          0.05159453608305243,
          0.37704141383640033,
          null,
          0.05159453608305243,
          0.8756703557687765,
          null,
          -0.2951424573890168,
          -0.45911739854480405,
          null,
          -0.07225403694199568,
          0.23583786913405058,
          null,
          -0.07225403694199568,
          -0.3796027882308279,
          null,
          0.23583786913405058,
          0.04192664448832363,
          null,
          0.23583786913405058,
          0.7098221701056332,
          null,
          0.23583786913405058,
          -0.0939963819169076,
          null,
          -0.3796027882308279,
          -0.30144056019122406,
          null,
          0.04192664448832363,
          0.042135289985359654,
          null,
          0.7098221701056332,
          1,
          null,
          -0.0939963819169076,
          0.8131817685924155,
          null,
          -0.0939963819169076,
          0.4687261510626788,
          null,
          -0.0939963819169076,
          -0.7832152568651142,
          null,
          -0.0939963819169076,
          -0.9082436240466241,
          null,
          -0.30144056019122406,
          0.4687261510626788,
          null,
          -0.30144056019122406,
          -0.7832152568651142,
          null,
          -0.30144056019122406,
          -0.9082436240466241,
          null
         ],
         "y": [
          0.16178750851450704,
          -0.09361276579115689,
          null,
          0.16178750851450704,
          -0.31525999428606893,
          null,
          0.16178750851450704,
          0.7013828006588226,
          null,
          -0.09361276579115689,
          -0.11280385459338912,
          null,
          -0.31525999428606893,
          -0.23382841226271195,
          null,
          0.7013828006588226,
          0.6247905174137156,
          null,
          -0.11280385459338912,
          -0.8154805855214013,
          null,
          -0.11280385459338912,
          0.5279241551071576,
          null,
          -0.11280385459338912,
          -0.6612106932039845,
          null,
          -0.11280385459338912,
          -0.5495907872968876,
          null,
          -0.11280385459338912,
          -0.6021407837027164,
          null,
          -0.11280385459338912,
          0.9435175240463349,
          null,
          -0.23382841226271195,
          0.22535772533152157,
          null,
          -0.23382841226271195,
          -0.870680376769822,
          null,
          -0.23382841226271195,
          -0.2430393789869569,
          null,
          0.6247905174137156,
          0.9154409184821177,
          null,
          0.0346569786536803,
          -0.1315583262043071,
          null,
          0.0346569786536803,
          0.20162124386340938,
          null,
          -0.1315583262043071,
          -0.754713105719115,
          null,
          -0.1315583262043071,
          0.24165617784054358,
          null,
          -0.1315583262043071,
          0.23728902654807937,
          null,
          0.20162124386340938,
          0.1775489159589609,
          null,
          -0.754713105719115,
          -0.8781410874227058,
          null,
          0.24165617784054358,
          0.29114871105431755,
          null,
          0.23728902654807937,
          0.7072992502668213,
          null,
          0.23728902654807937,
          0.9021737736386516,
          null,
          0.23728902654807937,
          -0.4833080947826528,
          null,
          0.23728902654807937,
          -0.14822698083476507,
          null,
          0.1775489159589609,
          0.9021737736386516,
          null,
          0.1775489159589609,
          -0.4833080947826528,
          null,
          0.1775489159589609,
          -0.14822698083476507,
          null
         ]
        },
        {
         "hovertext": [
          "태깅 번호: 02<br>라벨: 변화와 관계",
          "태깅 번호: 02-01<br>라벨: 규칙 찾기",
          "태깅 번호: 02-02<br>라벨: 규칙 정하기",
          "태깅 번호: 02-03<br>라벨: 등호와 동치 관계",
          "태깅 번호: 02-01-01<br>라벨: 배열에서 규칙 찾기",
          "태깅 번호: 02-02-01<br>라벨: 규칙에 따라 배열하기",
          "태깅 번호: 02-03-01<br>라벨: 등호 사용하기",
          "태깅 번호: 02-01-01-01<br>라벨: 물체 배열 규칙을 여러 가지 방법으로 표현하기",
          "태깅 번호: 02-01-01-02<br>라벨: 무늬 배열 규칙을 여러 가지 방법으로 표현하기",
          "태깅 번호: 02-01-01-03<br>라벨: 수 배열 규칙을 여러 가지 방법으로 표현하기",
          "태깅 번호: 02-01-01-04<br>라벨: 다양한 변화 규칙을 수로 나타내기",
          "태깅 번호: 02-01-01-05<br>라벨: 다양한 변화 규칙을 식으로 나타내기",
          "태깅 번호: 02-01-01-06<br>라벨: 계산식 배열 규칙으로 계산 결과 추측하기",
          "태깅 번호: 02-02-01-01<br>라벨: 물체 배열하기",
          "태깅 번호: 02-02-01-02<br>라벨: 무늬 배열하기",
          "태깅 번호: 02-02-01-03<br>라벨: 수 배열하기",
          "태깅 번호: 02-03-01-01<br>라벨: 크기가 같은 두 양의 관계를 식으로 나타내기",
          "태깅 번호: 04<br>라벨: 자료와 가능성",
          "태깅 번호: 04-01<br>라벨: 분류하기",
          "태깅 번호: 04-02<br>라벨: 자료 수집하기",
          "태깅 번호: 04-01-01<br>라벨: 개수 세기",
          "태깅 번호: 04-01-02<br>라벨: 표로 나타내기",
          "태깅 번호: 04-01-03<br>라벨: ○, ×, / 를 이용한 그래프로 나타내기",
          "태깅 번호: 04-02-01<br>라벨: 자료 정리하기",
          "태깅 번호: 04-01-01-01<br>라벨: 기준에 따른 결과 말하기",
          "태깅 번호: 04-01-02-01<br>라벨: 표로 나타내면 편리한 점 말하기",
          "태깅 번호: 04-01-03-01<br>라벨: 그래프로 나타내면 편리한 점 말하기",
          "태깅 번호: 04-02-01-01<br>라벨: 그림그래프로 나타내고 해석하기",
          "태깅 번호: 04-02-01-02<br>라벨: 막대그래프로 나타내고 해석하기",
          "태깅 번호: 04-02-01-03<br>라벨: 꺾은선그래프로 나타내고 해석하기"
         ],
         "marker": {
          "color": "lightblue",
          "line": {
           "width": 2
          },
          "size": 10
         },
         "mode": "markers",
         "type": "scatter",
         "x": [
          -0.09429363722018717,
          0.046077824604432466,
          0.0670050173742125,
          -0.30537933607567797,
          -0.017341578038791626,
          0.05159453608305243,
          -0.2951424573890168,
          -0.3668220588618999,
          -0.6738265551638032,
          0.5348803306614699,
          0.7448258459903405,
          -0.5653203918087364,
          0.15529892090447725,
          -0.8480280772960124,
          0.37704141383640033,
          0.8756703557687765,
          -0.45911739854480405,
          -0.07225403694199568,
          0.23583786913405058,
          -0.3796027882308279,
          0.04192664448832363,
          0.7098221701056332,
          -0.0939963819169076,
          -0.30144056019122406,
          0.042135289985359654,
          1,
          0.8131817685924155,
          0.4687261510626788,
          -0.7832152568651142,
          -0.9082436240466241
         ],
         "y": [
          0.16178750851450704,
          -0.09361276579115689,
          -0.31525999428606893,
          0.7013828006588226,
          -0.11280385459338912,
          -0.23382841226271195,
          0.6247905174137156,
          -0.8154805855214013,
          0.5279241551071576,
          -0.6612106932039845,
          -0.5495907872968876,
          -0.6021407837027164,
          0.9435175240463349,
          0.22535772533152157,
          -0.870680376769822,
          -0.2430393789869569,
          0.9154409184821177,
          0.0346569786536803,
          -0.1315583262043071,
          0.20162124386340938,
          -0.754713105719115,
          0.24165617784054358,
          0.23728902654807937,
          0.1775489159589609,
          -0.8781410874227058,
          0.29114871105431755,
          0.7072992502668213,
          0.9021737736386516,
          -0.4833080947826528,
          -0.14822698083476507
         ]
        }
       ],
       "layout": {
        "hovermode": "closest",
        "margin": {
         "b": 0,
         "l": 0,
         "r": 0,
         "t": 40
        },
        "showlegend": false,
        "template": {
         "data": {
          "bar": [
           {
            "error_x": {
             "color": "#2a3f5f"
            },
            "error_y": {
             "color": "#2a3f5f"
            },
            "marker": {
             "line": {
              "color": "#E5ECF6",
              "width": 0.5
             },
             "pattern": {
              "fillmode": "overlay",
              "size": 10,
              "solidity": 0.2
             }
            },
            "type": "bar"
           }
          ],
          "barpolar": [
           {
            "marker": {
             "line": {
              "color": "#E5ECF6",
              "width": 0.5
             },
             "pattern": {
              "fillmode": "overlay",
              "size": 10,
              "solidity": 0.2
             }
            },
            "type": "barpolar"
           }
          ],
          "carpet": [
           {
            "aaxis": {
             "endlinecolor": "#2a3f5f",
             "gridcolor": "white",
             "linecolor": "white",
             "minorgridcolor": "white",
             "startlinecolor": "#2a3f5f"
            },
            "baxis": {
             "endlinecolor": "#2a3f5f",
             "gridcolor": "white",
             "linecolor": "white",
             "minorgridcolor": "white",
             "startlinecolor": "#2a3f5f"
            },
            "type": "carpet"
           }
          ],
          "choropleth": [
           {
            "colorbar": {
             "outlinewidth": 0,
             "ticks": ""
            },
            "type": "choropleth"
           }
          ],
          "contour": [
           {
            "colorbar": {
             "outlinewidth": 0,
             "ticks": ""
            },
            "colorscale": [
             [
              0,
              "#0d0887"
             ],
             [
              0.1111111111111111,
              "#46039f"
             ],
             [
              0.2222222222222222,
              "#7201a8"
             ],
             [
              0.3333333333333333,
              "#9c179e"
             ],
             [
              0.4444444444444444,
              "#bd3786"
             ],
             [
              0.5555555555555556,
              "#d8576b"
             ],
             [
              0.6666666666666666,
              "#ed7953"
             ],
             [
              0.7777777777777778,
              "#fb9f3a"
             ],
             [
              0.8888888888888888,
              "#fdca26"
             ],
             [
              1,
              "#f0f921"
             ]
            ],
            "type": "contour"
           }
          ],
          "contourcarpet": [
           {
            "colorbar": {
             "outlinewidth": 0,
             "ticks": ""
            },
            "type": "contourcarpet"
           }
          ],
          "heatmap": [
           {
            "colorbar": {
             "outlinewidth": 0,
             "ticks": ""
            },
            "colorscale": [
             [
              0,
              "#0d0887"
             ],
             [
              0.1111111111111111,
              "#46039f"
             ],
             [
              0.2222222222222222,
              "#7201a8"
             ],
             [
              0.3333333333333333,
              "#9c179e"
             ],
             [
              0.4444444444444444,
              "#bd3786"
             ],
             [
              0.5555555555555556,
              "#d8576b"
             ],
             [
              0.6666666666666666,
              "#ed7953"
             ],
             [
              0.7777777777777778,
              "#fb9f3a"
             ],
             [
              0.8888888888888888,
              "#fdca26"
             ],
             [
              1,
              "#f0f921"
             ]
            ],
            "type": "heatmap"
           }
          ],
          "heatmapgl": [
           {
            "colorbar": {
             "outlinewidth": 0,
             "ticks": ""
            },
            "colorscale": [
             [
              0,
              "#0d0887"
             ],
             [
              0.1111111111111111,
              "#46039f"
             ],
             [
              0.2222222222222222,
              "#7201a8"
             ],
             [
              0.3333333333333333,
              "#9c179e"
             ],
             [
              0.4444444444444444,
              "#bd3786"
             ],
             [
              0.5555555555555556,
              "#d8576b"
             ],
             [
              0.6666666666666666,
              "#ed7953"
             ],
             [
              0.7777777777777778,
              "#fb9f3a"
             ],
             [
              0.8888888888888888,
              "#fdca26"
             ],
             [
              1,
              "#f0f921"
             ]
            ],
            "type": "heatmapgl"
           }
          ],
          "histogram": [
           {
            "marker": {
             "pattern": {
              "fillmode": "overlay",
              "size": 10,
              "solidity": 0.2
             }
            },
            "type": "histogram"
           }
          ],
          "histogram2d": [
           {
            "colorbar": {
             "outlinewidth": 0,
             "ticks": ""
            },
            "colorscale": [
             [
              0,
              "#0d0887"
             ],
             [
              0.1111111111111111,
              "#46039f"
             ],
             [
              0.2222222222222222,
              "#7201a8"
             ],
             [
              0.3333333333333333,
              "#9c179e"
             ],
             [
              0.4444444444444444,
              "#bd3786"
             ],
             [
              0.5555555555555556,
              "#d8576b"
             ],
             [
              0.6666666666666666,
              "#ed7953"
             ],
             [
              0.7777777777777778,
              "#fb9f3a"
             ],
             [
              0.8888888888888888,
              "#fdca26"
             ],
             [
              1,
              "#f0f921"
             ]
            ],
            "type": "histogram2d"
           }
          ],
          "histogram2dcontour": [
           {
            "colorbar": {
             "outlinewidth": 0,
             "ticks": ""
            },
            "colorscale": [
             [
              0,
              "#0d0887"
             ],
             [
              0.1111111111111111,
              "#46039f"
             ],
             [
              0.2222222222222222,
              "#7201a8"
             ],
             [
              0.3333333333333333,
              "#9c179e"
             ],
             [
              0.4444444444444444,
              "#bd3786"
             ],
             [
              0.5555555555555556,
              "#d8576b"
             ],
             [
              0.6666666666666666,
              "#ed7953"
             ],
             [
              0.7777777777777778,
              "#fb9f3a"
             ],
             [
              0.8888888888888888,
              "#fdca26"
             ],
             [
              1,
              "#f0f921"
             ]
            ],
            "type": "histogram2dcontour"
           }
          ],
          "mesh3d": [
           {
            "colorbar": {
             "outlinewidth": 0,
             "ticks": ""
            },
            "type": "mesh3d"
           }
          ],
          "parcoords": [
           {
            "line": {
             "colorbar": {
              "outlinewidth": 0,
              "ticks": ""
             }
            },
            "type": "parcoords"
           }
          ],
          "pie": [
           {
            "automargin": true,
            "type": "pie"
           }
          ],
          "scatter": [
           {
            "fillpattern": {
             "fillmode": "overlay",
             "size": 10,
             "solidity": 0.2
            },
            "type": "scatter"
           }
          ],
          "scatter3d": [
           {
            "line": {
             "colorbar": {
              "outlinewidth": 0,
              "ticks": ""
             }
            },
            "marker": {
             "colorbar": {
              "outlinewidth": 0,
              "ticks": ""
             }
            },
            "type": "scatter3d"
           }
          ],
          "scattercarpet": [
           {
            "marker": {
             "colorbar": {
              "outlinewidth": 0,
              "ticks": ""
             }
            },
            "type": "scattercarpet"
           }
          ],
          "scattergeo": [
           {
            "marker": {
             "colorbar": {
              "outlinewidth": 0,
              "ticks": ""
             }
            },
            "type": "scattergeo"
           }
          ],
          "scattergl": [
           {
            "marker": {
             "colorbar": {
              "outlinewidth": 0,
              "ticks": ""
             }
            },
            "type": "scattergl"
           }
          ],
          "scattermapbox": [
           {
            "marker": {
             "colorbar": {
              "outlinewidth": 0,
              "ticks": ""
             }
            },
            "type": "scattermapbox"
           }
          ],
          "scatterpolar": [
           {
            "marker": {
             "colorbar": {
              "outlinewidth": 0,
              "ticks": ""
             }
            },
            "type": "scatterpolar"
           }
          ],
          "scatterpolargl": [
           {
            "marker": {
             "colorbar": {
              "outlinewidth": 0,
              "ticks": ""
             }
            },
            "type": "scatterpolargl"
           }
          ],
          "scatterternary": [
           {
            "marker": {
             "colorbar": {
              "outlinewidth": 0,
              "ticks": ""
             }
            },
            "type": "scatterternary"
           }
          ],
          "surface": [
           {
            "colorbar": {
             "outlinewidth": 0,
             "ticks": ""
            },
            "colorscale": [
             [
              0,
              "#0d0887"
             ],
             [
              0.1111111111111111,
              "#46039f"
             ],
             [
              0.2222222222222222,
              "#7201a8"
             ],
             [
              0.3333333333333333,
              "#9c179e"
             ],
             [
              0.4444444444444444,
              "#bd3786"
             ],
             [
              0.5555555555555556,
              "#d8576b"
             ],
             [
              0.6666666666666666,
              "#ed7953"
             ],
             [
              0.7777777777777778,
              "#fb9f3a"
             ],
             [
              0.8888888888888888,
              "#fdca26"
             ],
             [
              1,
              "#f0f921"
             ]
            ],
            "type": "surface"
           }
          ],
          "table": [
           {
            "cells": {
             "fill": {
              "color": "#EBF0F8"
             },
             "line": {
              "color": "white"
             }
            },
            "header": {
             "fill": {
              "color": "#C8D4E3"
             },
             "line": {
              "color": "white"
             }
            },
            "type": "table"
           }
          ]
         },
         "layout": {
          "annotationdefaults": {
           "arrowcolor": "#2a3f5f",
           "arrowhead": 0,
           "arrowwidth": 1
          },
          "autotypenumbers": "strict",
          "coloraxis": {
           "colorbar": {
            "outlinewidth": 0,
            "ticks": ""
           }
          },
          "colorscale": {
           "diverging": [
            [
             0,
             "#8e0152"
            ],
            [
             0.1,
             "#c51b7d"
            ],
            [
             0.2,
             "#de77ae"
            ],
            [
             0.3,
             "#f1b6da"
            ],
            [
             0.4,
             "#fde0ef"
            ],
            [
             0.5,
             "#f7f7f7"
            ],
            [
             0.6,
             "#e6f5d0"
            ],
            [
             0.7,
             "#b8e186"
            ],
            [
             0.8,
             "#7fbc41"
            ],
            [
             0.9,
             "#4d9221"
            ],
            [
             1,
             "#276419"
            ]
           ],
           "sequential": [
            [
             0,
             "#0d0887"
            ],
            [
             0.1111111111111111,
             "#46039f"
            ],
            [
             0.2222222222222222,
             "#7201a8"
            ],
            [
             0.3333333333333333,
             "#9c179e"
            ],
            [
             0.4444444444444444,
             "#bd3786"
            ],
            [
             0.5555555555555556,
             "#d8576b"
            ],
            [
             0.6666666666666666,
             "#ed7953"
            ],
            [
             0.7777777777777778,
             "#fb9f3a"
            ],
            [
             0.8888888888888888,
             "#fdca26"
            ],
            [
             1,
             "#f0f921"
            ]
           ],
           "sequentialminus": [
            [
             0,
             "#0d0887"
            ],
            [
             0.1111111111111111,
             "#46039f"
            ],
            [
             0.2222222222222222,
             "#7201a8"
            ],
            [
             0.3333333333333333,
             "#9c179e"
            ],
            [
             0.4444444444444444,
             "#bd3786"
            ],
            [
             0.5555555555555556,
             "#d8576b"
            ],
            [
             0.6666666666666666,
             "#ed7953"
            ],
            [
             0.7777777777777778,
             "#fb9f3a"
            ],
            [
             0.8888888888888888,
             "#fdca26"
            ],
            [
             1,
             "#f0f921"
            ]
           ]
          },
          "colorway": [
           "#636efa",
           "#EF553B",
           "#00cc96",
           "#ab63fa",
           "#FFA15A",
           "#19d3f3",
           "#FF6692",
           "#B6E880",
           "#FF97FF",
           "#FECB52"
          ],
          "font": {
           "color": "#2a3f5f"
          },
          "geo": {
           "bgcolor": "white",
           "lakecolor": "white",
           "landcolor": "#E5ECF6",
           "showlakes": true,
           "showland": true,
           "subunitcolor": "white"
          },
          "hoverlabel": {
           "align": "left"
          },
          "hovermode": "closest",
          "mapbox": {
           "style": "light"
          },
          "paper_bgcolor": "white",
          "plot_bgcolor": "#E5ECF6",
          "polar": {
           "angularaxis": {
            "gridcolor": "white",
            "linecolor": "white",
            "ticks": ""
           },
           "bgcolor": "#E5ECF6",
           "radialaxis": {
            "gridcolor": "white",
            "linecolor": "white",
            "ticks": ""
           }
          },
          "scene": {
           "xaxis": {
            "backgroundcolor": "#E5ECF6",
            "gridcolor": "white",
            "gridwidth": 2,
            "linecolor": "white",
            "showbackground": true,
            "ticks": "",
            "zerolinecolor": "white"
           },
           "yaxis": {
            "backgroundcolor": "#E5ECF6",
            "gridcolor": "white",
            "gridwidth": 2,
            "linecolor": "white",
            "showbackground": true,
            "ticks": "",
            "zerolinecolor": "white"
           },
           "zaxis": {
            "backgroundcolor": "#E5ECF6",
            "gridcolor": "white",
            "gridwidth": 2,
            "linecolor": "white",
            "showbackground": true,
            "ticks": "",
            "zerolinecolor": "white"
           }
          },
          "shapedefaults": {
           "line": {
            "color": "#2a3f5f"
           }
          },
          "ternary": {
           "aaxis": {
            "gridcolor": "white",
            "linecolor": "white",
            "ticks": ""
           },
           "baxis": {
            "gridcolor": "white",
            "linecolor": "white",
            "ticks": ""
           },
           "bgcolor": "#E5ECF6",
           "caxis": {
            "gridcolor": "white",
            "linecolor": "white",
            "ticks": ""
           }
          },
          "title": {
           "x": 0.05
          },
          "xaxis": {
           "automargin": true,
           "gridcolor": "white",
           "linecolor": "white",
           "ticks": "",
           "title": {
            "standoff": 15
           },
           "zerolinecolor": "white",
           "zerolinewidth": 2
          },
          "yaxis": {
           "automargin": true,
           "gridcolor": "white",
           "linecolor": "white",
           "ticks": "",
           "title": {
            "standoff": 15
           },
           "zerolinecolor": "white",
           "zerolinewidth": 2
          }
         }
        },
        "title": {
         "font": {
          "size": 16
         },
         "text": "교육과정 표 기반 지식맵 - Plotly 시각화"
        },
        "xaxis": {
         "showgrid": false,
         "zeroline": false
        },
        "yaxis": {
         "showgrid": false,
         "zeroline": false
        }
       }
      }
     },
     "metadata": {},
     "output_type": "display_data"
    }
   ],
   "source": [
    "import plotly.graph_objects as go\n",
    "import networkx as nx\n",
    "\n",
    "# 숫자 태깅 번호와 라벨 매핑 (교육과정 표 데이터)\n",
    "nodes_data = {\n",
    "    \"02\": \"변화와 관계\",\n",
    "    \"02-01\": \"규칙 찾기\",\n",
    "    \"02-02\": \"규칙 정하기\",\n",
    "    \"02-03\": \"등호와 동치 관계\",\n",
    "    \"02-01-01\": \"배열에서 규칙 찾기\",\n",
    "    \"02-02-01\": \"규칙에 따라 배열하기\",\n",
    "    \"02-03-01\": \"등호 사용하기\",\n",
    "    \"02-01-01-01\": \"물체 배열 규칙을 여러 가지 방법으로 표현하기\",\n",
    "    \"02-01-01-02\": \"무늬 배열 규칙을 여러 가지 방법으로 표현하기\",\n",
    "    \"02-01-01-03\": \"수 배열 규칙을 여러 가지 방법으로 표현하기\",\n",
    "    \"02-01-01-04\": \"다양한 변화 규칙을 수로 나타내기\",\n",
    "    \"02-01-01-05\": \"다양한 변화 규칙을 식으로 나타내기\",\n",
    "    \"02-01-01-06\": \"계산식 배열 규칙으로 계산 결과 추측하기\",\n",
    "    \"02-02-01-01\": \"물체 배열하기\",\n",
    "    \"02-02-01-02\": \"무늬 배열하기\",\n",
    "    \"02-02-01-03\": \"수 배열하기\",\n",
    "    \"02-03-01-01\": \"크기가 같은 두 양의 관계를 식으로 나타내기\",\n",
    "    \"04\": \"자료와 가능성\",\n",
    "    \"04-01\": \"분류하기\",\n",
    "    \"04-02\": \"자료 수집하기\",\n",
    "    \"04-01-01\": \"개수 세기\",\n",
    "    \"04-01-02\": \"표로 나타내기\",\n",
    "    \"04-01-03\": \"○, ×, / 를 이용한 그래프로 나타내기\",\n",
    "    \"04-02-01\": \"자료 정리하기\",\n",
    "    \"04-01-01-01\": \"기준에 따른 결과 말하기\",\n",
    "    \"04-01-02-01\": \"표로 나타내면 편리한 점 말하기\",\n",
    "    \"04-01-03-01\": \"그래프로 나타내면 편리한 점 말하기\",\n",
    "    \"04-02-01-01\": \"그림그래프로 나타내고 해석하기\",\n",
    "    \"04-02-01-02\": \"막대그래프로 나타내고 해석하기\",\n",
    "    \"04-02-01-03\": \"꺾은선그래프로 나타내고 해석하기\",\n",
    "}\n",
    "\n",
    "edges = [\n",
    "    (\"02\", \"02-01\"),\n",
    "    (\"02\", \"02-02\"),\n",
    "    (\"02\", \"02-03\"),\n",
    "    (\"02-01\", \"02-01-01\"),\n",
    "    (\"02-02\", \"02-02-01\"),\n",
    "    (\"02-03\", \"02-03-01\"),\n",
    "    (\"02-01-01\", \"02-01-01-01\"),\n",
    "    (\"02-01-01\", \"02-01-01-02\"),\n",
    "    (\"02-01-01\", \"02-01-01-03\"),\n",
    "    (\"02-01-01\", \"02-01-01-04\"),\n",
    "    (\"02-01-01\", \"02-01-01-05\"),\n",
    "    (\"02-01-01\", \"02-01-01-06\"),\n",
    "    (\"02-02-01\", \"02-02-01-01\"),\n",
    "    (\"02-02-01\", \"02-02-01-02\"),\n",
    "    (\"02-02-01\", \"02-02-01-03\"),\n",
    "    (\"02-03-01\", \"02-03-01-01\"),\n",
    "    (\"04\", \"04-01\"),\n",
    "    (\"04\", \"04-02\"),\n",
    "    (\"04-01\", \"04-01-01\"),\n",
    "    (\"04-01\", \"04-01-02\"),\n",
    "    (\"04-01\", \"04-01-03\"),\n",
    "    (\"04-02\", \"04-02-01\"),\n",
    "    (\"04-01-01\", \"04-01-01-01\"),\n",
    "    (\"04-01-02\", \"04-01-02-01\"),\n",
    "    (\"04-01-03\", \"04-01-03-01\"),\n",
    "    (\"04-01-03\", \"04-02-01-01\"),\n",
    "    (\"04-01-03\", \"04-02-01-02\"),\n",
    "    (\"04-01-03\", \"04-02-01-03\"),\n",
    "    (\"04-02-01\", \"04-02-01-01\"),\n",
    "    (\"04-02-01\", \"04-02-01-02\"),\n",
    "    (\"04-02-01\", \"04-02-01-03\"),\n",
    "]\n",
    "\n",
    "# 그래프 생성\n",
    "G = nx.DiGraph()\n",
    "G.add_edges_from(edges)\n",
    "\n",
    "# 노드와 엣지 데이터 생성\n",
    "pos = nx.spring_layout(G, seed=42)\n",
    "edge_x = []\n",
    "edge_y = []\n",
    "for edge in G.edges:\n",
    "    x0, y0 = pos[edge[0]]\n",
    "    x1, y1 = pos[edge[1]]\n",
    "    edge_x.extend([x0, x1, None])\n",
    "    edge_y.extend([y0, y1, None])\n",
    "\n",
    "# 엣지 추적\n",
    "edge_trace = go.Scatter(\n",
    "    x=edge_x,\n",
    "    y=edge_y,\n",
    "    line=dict(width=0.5, color=\"#888\"),\n",
    "    hoverinfo=\"none\",\n",
    "    mode=\"lines\",\n",
    ")\n",
    "\n",
    "# 노드 추적\n",
    "node_x = []\n",
    "node_y = []\n",
    "node_hovertext = []\n",
    "for node in G.nodes:\n",
    "    x, y = pos[node]\n",
    "    node_x.append(x)\n",
    "    node_y.append(y)\n",
    "    # 마우스 호버 시 태깅 번호와 라벨 표시\n",
    "    node_hovertext.append(f\"태깅 번호: {node}<br>라벨: {nodes_data[node]}\")\n",
    "\n",
    "node_trace = go.Scatter(\n",
    "    x=node_x,\n",
    "    y=node_y,\n",
    "    mode=\"markers\",\n",
    "    hovertext=node_hovertext,  # 노드 호버 정보 추가\n",
    "    marker=dict(size=10, color=\"lightblue\", line_width=2),\n",
    ")\n",
    "\n",
    "# Plotly Figure 생성\n",
    "fig = go.Figure(\n",
    "    data=[edge_trace, node_trace],\n",
    "    layout=go.Layout(\n",
    "        title=\"교육과정 표 기반 지식맵 - Plotly 시각화\",\n",
    "        titlefont_size=16,\n",
    "        showlegend=False,\n",
    "        hovermode=\"closest\",\n",
    "        margin=dict(b=0, l=0, r=0, t=40),\n",
    "        xaxis=dict(showgrid=False, zeroline=False),\n",
    "        yaxis=dict(showgrid=False, zeroline=False),\n",
    "    ),\n",
    ")\n",
    "fig.show()"
   ]
  },
  {
   "cell_type": "code",
   "execution_count": 6,
   "metadata": {},
   "outputs": [
    {
     "data": {
      "application/vnd.plotly.v1+json": {
       "config": {
        "plotlyServerURL": "https://plot.ly"
       },
       "data": [
        {
         "hoverinfo": "none",
         "line": {
          "color": "#888",
          "width": 0.5
         },
         "mode": "lines",
         "type": "scatter",
         "x": [
          -0.09429363722018717,
          0.046077824604432466,
          null,
          -0.09429363722018717,
          0.0670050173742125,
          null,
          -0.09429363722018717,
          -0.30537933607567797,
          null,
          0.046077824604432466,
          -0.017341578038791626,
          null,
          0.0670050173742125,
          0.05159453608305243,
          null,
          -0.30537933607567797,
          -0.2951424573890168,
          null,
          -0.017341578038791626,
          -0.3668220588618999,
          null,
          -0.017341578038791626,
          -0.6738265551638032,
          null,
          -0.017341578038791626,
          0.5348803306614699,
          null,
          -0.017341578038791626,
          0.7448258459903405,
          null,
          -0.017341578038791626,
          -0.5653203918087364,
          null,
          -0.017341578038791626,
          0.15529892090447725,
          null,
          0.05159453608305243,
          -0.8480280772960124,
          null,
          0.05159453608305243,
          0.37704141383640033,
          null,
          0.05159453608305243,
          0.8756703557687765,
          null,
          -0.2951424573890168,
          -0.45911739854480405,
          null,
          -0.07225403694199568,
          0.23583786913405058,
          null,
          -0.07225403694199568,
          -0.3796027882308279,
          null,
          0.23583786913405058,
          0.04192664448832363,
          null,
          0.23583786913405058,
          0.7098221701056332,
          null,
          0.23583786913405058,
          -0.0939963819169076,
          null,
          -0.3796027882308279,
          -0.30144056019122406,
          null,
          0.04192664448832363,
          0.042135289985359654,
          null,
          0.7098221701056332,
          1,
          null,
          -0.0939963819169076,
          0.8131817685924155,
          null,
          -0.0939963819169076,
          0.4687261510626788,
          null,
          -0.0939963819169076,
          -0.7832152568651142,
          null,
          -0.0939963819169076,
          -0.9082436240466241,
          null,
          -0.30144056019122406,
          0.4687261510626788,
          null,
          -0.30144056019122406,
          -0.7832152568651142,
          null,
          -0.30144056019122406,
          -0.9082436240466241,
          null
         ],
         "y": [
          0.16178750851450704,
          -0.09361276579115689,
          null,
          0.16178750851450704,
          -0.31525999428606893,
          null,
          0.16178750851450704,
          0.7013828006588226,
          null,
          -0.09361276579115689,
          -0.11280385459338912,
          null,
          -0.31525999428606893,
          -0.23382841226271195,
          null,
          0.7013828006588226,
          0.6247905174137156,
          null,
          -0.11280385459338912,
          -0.8154805855214013,
          null,
          -0.11280385459338912,
          0.5279241551071576,
          null,
          -0.11280385459338912,
          -0.6612106932039845,
          null,
          -0.11280385459338912,
          -0.5495907872968876,
          null,
          -0.11280385459338912,
          -0.6021407837027164,
          null,
          -0.11280385459338912,
          0.9435175240463349,
          null,
          -0.23382841226271195,
          0.22535772533152157,
          null,
          -0.23382841226271195,
          -0.870680376769822,
          null,
          -0.23382841226271195,
          -0.2430393789869569,
          null,
          0.6247905174137156,
          0.9154409184821177,
          null,
          0.0346569786536803,
          -0.1315583262043071,
          null,
          0.0346569786536803,
          0.20162124386340938,
          null,
          -0.1315583262043071,
          -0.754713105719115,
          null,
          -0.1315583262043071,
          0.24165617784054358,
          null,
          -0.1315583262043071,
          0.23728902654807937,
          null,
          0.20162124386340938,
          0.1775489159589609,
          null,
          -0.754713105719115,
          -0.8781410874227058,
          null,
          0.24165617784054358,
          0.29114871105431755,
          null,
          0.23728902654807937,
          0.7072992502668213,
          null,
          0.23728902654807937,
          0.9021737736386516,
          null,
          0.23728902654807937,
          -0.4833080947826528,
          null,
          0.23728902654807937,
          -0.14822698083476507,
          null,
          0.1775489159589609,
          0.9021737736386516,
          null,
          0.1775489159589609,
          -0.4833080947826528,
          null,
          0.1775489159589609,
          -0.14822698083476507,
          null
         ]
        },
        {
         "hovertext": [
          "태깅 번호: 02",
          "태깅 번호: 02-01",
          "태깅 번호: 02-02",
          "태깅 번호: 02-03",
          "태깅 번호: 02-01-01",
          "태깅 번호: 02-02-01",
          "태깅 번호: 02-03-01",
          "태깅 번호: 02-01-01-01",
          "태깅 번호: 02-01-01-02",
          "태깅 번호: 02-01-01-03",
          "태깅 번호: 02-01-01-04",
          "태깅 번호: 02-01-01-05",
          "태깅 번호: 02-01-01-06",
          "태깅 번호: 02-02-01-01",
          "태깅 번호: 02-02-01-02",
          "태깅 번호: 02-02-01-03",
          "태깅 번호: 02-03-01-01",
          "태깅 번호: 04",
          "태깅 번호: 04-01",
          "태깅 번호: 04-02",
          "태깅 번호: 04-01-01",
          "태깅 번호: 04-01-02",
          "태깅 번호: 04-01-03",
          "태깅 번호: 04-02-01",
          "태깅 번호: 04-01-01-01",
          "태깅 번호: 04-01-02-01",
          "태깅 번호: 04-01-03-01",
          "태깅 번호: 04-02-01-01",
          "태깅 번호: 04-02-01-02",
          "태깅 번호: 04-02-01-03"
         ],
         "marker": {
          "color": "lightblue",
          "line": {
           "width": 2
          },
          "size": 10
         },
         "mode": "markers+text",
         "text": [
          "변화와 관계",
          "규칙 찾기",
          "규칙 정하기",
          "등호와 동치 관계",
          "배열에서 규칙 찾기",
          "규칙에 따라 배열하기",
          "등호 사용하기",
          "물체 배열 규칙을 여러 가지 방법으로 표현하기",
          "무늬 배열 규칙을 여러 가지 방법으로 표현하기",
          "수 배열 규칙을 여러 가지 방법으로 표현하기",
          "다양한 변화 규칙을 수로 나타내기",
          "다양한 변화 규칙을 식으로 나타내기",
          "계산식 배열 규칙으로 계산 결과 추측하기",
          "물체 배열하기",
          "무늬 배열하기",
          "수 배열하기",
          "크기가 같은 두 양의 관계를 식으로 나타내기",
          "자료와 가능성",
          "분류하기",
          "자료 수집하기",
          "개수 세기",
          "표로 나타내기",
          "○, ×, / 를 이용한 그래프로 나타내기",
          "자료 정리하기",
          "기준에 따른 결과 말하기",
          "표로 나타내면 편리한 점 말하기",
          "그래프로 나타내면 편리한 점 말하기",
          "그림그래프로 나타내고 해석하기",
          "막대그래프로 나타내고 해석하기",
          "꺾은선그래프로 나타내고 해석하기"
         ],
         "textposition": "top center",
         "type": "scatter",
         "x": [
          -0.09429363722018717,
          0.046077824604432466,
          0.0670050173742125,
          -0.30537933607567797,
          -0.017341578038791626,
          0.05159453608305243,
          -0.2951424573890168,
          -0.3668220588618999,
          -0.6738265551638032,
          0.5348803306614699,
          0.7448258459903405,
          -0.5653203918087364,
          0.15529892090447725,
          -0.8480280772960124,
          0.37704141383640033,
          0.8756703557687765,
          -0.45911739854480405,
          -0.07225403694199568,
          0.23583786913405058,
          -0.3796027882308279,
          0.04192664448832363,
          0.7098221701056332,
          -0.0939963819169076,
          -0.30144056019122406,
          0.042135289985359654,
          1,
          0.8131817685924155,
          0.4687261510626788,
          -0.7832152568651142,
          -0.9082436240466241
         ],
         "y": [
          0.16178750851450704,
          -0.09361276579115689,
          -0.31525999428606893,
          0.7013828006588226,
          -0.11280385459338912,
          -0.23382841226271195,
          0.6247905174137156,
          -0.8154805855214013,
          0.5279241551071576,
          -0.6612106932039845,
          -0.5495907872968876,
          -0.6021407837027164,
          0.9435175240463349,
          0.22535772533152157,
          -0.870680376769822,
          -0.2430393789869569,
          0.9154409184821177,
          0.0346569786536803,
          -0.1315583262043071,
          0.20162124386340938,
          -0.754713105719115,
          0.24165617784054358,
          0.23728902654807937,
          0.1775489159589609,
          -0.8781410874227058,
          0.29114871105431755,
          0.7072992502668213,
          0.9021737736386516,
          -0.4833080947826528,
          -0.14822698083476507
         ]
        }
       ],
       "layout": {
        "hovermode": "closest",
        "margin": {
         "b": 0,
         "l": 0,
         "r": 0,
         "t": 40
        },
        "showlegend": false,
        "template": {
         "data": {
          "bar": [
           {
            "error_x": {
             "color": "#2a3f5f"
            },
            "error_y": {
             "color": "#2a3f5f"
            },
            "marker": {
             "line": {
              "color": "#E5ECF6",
              "width": 0.5
             },
             "pattern": {
              "fillmode": "overlay",
              "size": 10,
              "solidity": 0.2
             }
            },
            "type": "bar"
           }
          ],
          "barpolar": [
           {
            "marker": {
             "line": {
              "color": "#E5ECF6",
              "width": 0.5
             },
             "pattern": {
              "fillmode": "overlay",
              "size": 10,
              "solidity": 0.2
             }
            },
            "type": "barpolar"
           }
          ],
          "carpet": [
           {
            "aaxis": {
             "endlinecolor": "#2a3f5f",
             "gridcolor": "white",
             "linecolor": "white",
             "minorgridcolor": "white",
             "startlinecolor": "#2a3f5f"
            },
            "baxis": {
             "endlinecolor": "#2a3f5f",
             "gridcolor": "white",
             "linecolor": "white",
             "minorgridcolor": "white",
             "startlinecolor": "#2a3f5f"
            },
            "type": "carpet"
           }
          ],
          "choropleth": [
           {
            "colorbar": {
             "outlinewidth": 0,
             "ticks": ""
            },
            "type": "choropleth"
           }
          ],
          "contour": [
           {
            "colorbar": {
             "outlinewidth": 0,
             "ticks": ""
            },
            "colorscale": [
             [
              0,
              "#0d0887"
             ],
             [
              0.1111111111111111,
              "#46039f"
             ],
             [
              0.2222222222222222,
              "#7201a8"
             ],
             [
              0.3333333333333333,
              "#9c179e"
             ],
             [
              0.4444444444444444,
              "#bd3786"
             ],
             [
              0.5555555555555556,
              "#d8576b"
             ],
             [
              0.6666666666666666,
              "#ed7953"
             ],
             [
              0.7777777777777778,
              "#fb9f3a"
             ],
             [
              0.8888888888888888,
              "#fdca26"
             ],
             [
              1,
              "#f0f921"
             ]
            ],
            "type": "contour"
           }
          ],
          "contourcarpet": [
           {
            "colorbar": {
             "outlinewidth": 0,
             "ticks": ""
            },
            "type": "contourcarpet"
           }
          ],
          "heatmap": [
           {
            "colorbar": {
             "outlinewidth": 0,
             "ticks": ""
            },
            "colorscale": [
             [
              0,
              "#0d0887"
             ],
             [
              0.1111111111111111,
              "#46039f"
             ],
             [
              0.2222222222222222,
              "#7201a8"
             ],
             [
              0.3333333333333333,
              "#9c179e"
             ],
             [
              0.4444444444444444,
              "#bd3786"
             ],
             [
              0.5555555555555556,
              "#d8576b"
             ],
             [
              0.6666666666666666,
              "#ed7953"
             ],
             [
              0.7777777777777778,
              "#fb9f3a"
             ],
             [
              0.8888888888888888,
              "#fdca26"
             ],
             [
              1,
              "#f0f921"
             ]
            ],
            "type": "heatmap"
           }
          ],
          "heatmapgl": [
           {
            "colorbar": {
             "outlinewidth": 0,
             "ticks": ""
            },
            "colorscale": [
             [
              0,
              "#0d0887"
             ],
             [
              0.1111111111111111,
              "#46039f"
             ],
             [
              0.2222222222222222,
              "#7201a8"
             ],
             [
              0.3333333333333333,
              "#9c179e"
             ],
             [
              0.4444444444444444,
              "#bd3786"
             ],
             [
              0.5555555555555556,
              "#d8576b"
             ],
             [
              0.6666666666666666,
              "#ed7953"
             ],
             [
              0.7777777777777778,
              "#fb9f3a"
             ],
             [
              0.8888888888888888,
              "#fdca26"
             ],
             [
              1,
              "#f0f921"
             ]
            ],
            "type": "heatmapgl"
           }
          ],
          "histogram": [
           {
            "marker": {
             "pattern": {
              "fillmode": "overlay",
              "size": 10,
              "solidity": 0.2
             }
            },
            "type": "histogram"
           }
          ],
          "histogram2d": [
           {
            "colorbar": {
             "outlinewidth": 0,
             "ticks": ""
            },
            "colorscale": [
             [
              0,
              "#0d0887"
             ],
             [
              0.1111111111111111,
              "#46039f"
             ],
             [
              0.2222222222222222,
              "#7201a8"
             ],
             [
              0.3333333333333333,
              "#9c179e"
             ],
             [
              0.4444444444444444,
              "#bd3786"
             ],
             [
              0.5555555555555556,
              "#d8576b"
             ],
             [
              0.6666666666666666,
              "#ed7953"
             ],
             [
              0.7777777777777778,
              "#fb9f3a"
             ],
             [
              0.8888888888888888,
              "#fdca26"
             ],
             [
              1,
              "#f0f921"
             ]
            ],
            "type": "histogram2d"
           }
          ],
          "histogram2dcontour": [
           {
            "colorbar": {
             "outlinewidth": 0,
             "ticks": ""
            },
            "colorscale": [
             [
              0,
              "#0d0887"
             ],
             [
              0.1111111111111111,
              "#46039f"
             ],
             [
              0.2222222222222222,
              "#7201a8"
             ],
             [
              0.3333333333333333,
              "#9c179e"
             ],
             [
              0.4444444444444444,
              "#bd3786"
             ],
             [
              0.5555555555555556,
              "#d8576b"
             ],
             [
              0.6666666666666666,
              "#ed7953"
             ],
             [
              0.7777777777777778,
              "#fb9f3a"
             ],
             [
              0.8888888888888888,
              "#fdca26"
             ],
             [
              1,
              "#f0f921"
             ]
            ],
            "type": "histogram2dcontour"
           }
          ],
          "mesh3d": [
           {
            "colorbar": {
             "outlinewidth": 0,
             "ticks": ""
            },
            "type": "mesh3d"
           }
          ],
          "parcoords": [
           {
            "line": {
             "colorbar": {
              "outlinewidth": 0,
              "ticks": ""
             }
            },
            "type": "parcoords"
           }
          ],
          "pie": [
           {
            "automargin": true,
            "type": "pie"
           }
          ],
          "scatter": [
           {
            "fillpattern": {
             "fillmode": "overlay",
             "size": 10,
             "solidity": 0.2
            },
            "type": "scatter"
           }
          ],
          "scatter3d": [
           {
            "line": {
             "colorbar": {
              "outlinewidth": 0,
              "ticks": ""
             }
            },
            "marker": {
             "colorbar": {
              "outlinewidth": 0,
              "ticks": ""
             }
            },
            "type": "scatter3d"
           }
          ],
          "scattercarpet": [
           {
            "marker": {
             "colorbar": {
              "outlinewidth": 0,
              "ticks": ""
             }
            },
            "type": "scattercarpet"
           }
          ],
          "scattergeo": [
           {
            "marker": {
             "colorbar": {
              "outlinewidth": 0,
              "ticks": ""
             }
            },
            "type": "scattergeo"
           }
          ],
          "scattergl": [
           {
            "marker": {
             "colorbar": {
              "outlinewidth": 0,
              "ticks": ""
             }
            },
            "type": "scattergl"
           }
          ],
          "scattermapbox": [
           {
            "marker": {
             "colorbar": {
              "outlinewidth": 0,
              "ticks": ""
             }
            },
            "type": "scattermapbox"
           }
          ],
          "scatterpolar": [
           {
            "marker": {
             "colorbar": {
              "outlinewidth": 0,
              "ticks": ""
             }
            },
            "type": "scatterpolar"
           }
          ],
          "scatterpolargl": [
           {
            "marker": {
             "colorbar": {
              "outlinewidth": 0,
              "ticks": ""
             }
            },
            "type": "scatterpolargl"
           }
          ],
          "scatterternary": [
           {
            "marker": {
             "colorbar": {
              "outlinewidth": 0,
              "ticks": ""
             }
            },
            "type": "scatterternary"
           }
          ],
          "surface": [
           {
            "colorbar": {
             "outlinewidth": 0,
             "ticks": ""
            },
            "colorscale": [
             [
              0,
              "#0d0887"
             ],
             [
              0.1111111111111111,
              "#46039f"
             ],
             [
              0.2222222222222222,
              "#7201a8"
             ],
             [
              0.3333333333333333,
              "#9c179e"
             ],
             [
              0.4444444444444444,
              "#bd3786"
             ],
             [
              0.5555555555555556,
              "#d8576b"
             ],
             [
              0.6666666666666666,
              "#ed7953"
             ],
             [
              0.7777777777777778,
              "#fb9f3a"
             ],
             [
              0.8888888888888888,
              "#fdca26"
             ],
             [
              1,
              "#f0f921"
             ]
            ],
            "type": "surface"
           }
          ],
          "table": [
           {
            "cells": {
             "fill": {
              "color": "#EBF0F8"
             },
             "line": {
              "color": "white"
             }
            },
            "header": {
             "fill": {
              "color": "#C8D4E3"
             },
             "line": {
              "color": "white"
             }
            },
            "type": "table"
           }
          ]
         },
         "layout": {
          "annotationdefaults": {
           "arrowcolor": "#2a3f5f",
           "arrowhead": 0,
           "arrowwidth": 1
          },
          "autotypenumbers": "strict",
          "coloraxis": {
           "colorbar": {
            "outlinewidth": 0,
            "ticks": ""
           }
          },
          "colorscale": {
           "diverging": [
            [
             0,
             "#8e0152"
            ],
            [
             0.1,
             "#c51b7d"
            ],
            [
             0.2,
             "#de77ae"
            ],
            [
             0.3,
             "#f1b6da"
            ],
            [
             0.4,
             "#fde0ef"
            ],
            [
             0.5,
             "#f7f7f7"
            ],
            [
             0.6,
             "#e6f5d0"
            ],
            [
             0.7,
             "#b8e186"
            ],
            [
             0.8,
             "#7fbc41"
            ],
            [
             0.9,
             "#4d9221"
            ],
            [
             1,
             "#276419"
            ]
           ],
           "sequential": [
            [
             0,
             "#0d0887"
            ],
            [
             0.1111111111111111,
             "#46039f"
            ],
            [
             0.2222222222222222,
             "#7201a8"
            ],
            [
             0.3333333333333333,
             "#9c179e"
            ],
            [
             0.4444444444444444,
             "#bd3786"
            ],
            [
             0.5555555555555556,
             "#d8576b"
            ],
            [
             0.6666666666666666,
             "#ed7953"
            ],
            [
             0.7777777777777778,
             "#fb9f3a"
            ],
            [
             0.8888888888888888,
             "#fdca26"
            ],
            [
             1,
             "#f0f921"
            ]
           ],
           "sequentialminus": [
            [
             0,
             "#0d0887"
            ],
            [
             0.1111111111111111,
             "#46039f"
            ],
            [
             0.2222222222222222,
             "#7201a8"
            ],
            [
             0.3333333333333333,
             "#9c179e"
            ],
            [
             0.4444444444444444,
             "#bd3786"
            ],
            [
             0.5555555555555556,
             "#d8576b"
            ],
            [
             0.6666666666666666,
             "#ed7953"
            ],
            [
             0.7777777777777778,
             "#fb9f3a"
            ],
            [
             0.8888888888888888,
             "#fdca26"
            ],
            [
             1,
             "#f0f921"
            ]
           ]
          },
          "colorway": [
           "#636efa",
           "#EF553B",
           "#00cc96",
           "#ab63fa",
           "#FFA15A",
           "#19d3f3",
           "#FF6692",
           "#B6E880",
           "#FF97FF",
           "#FECB52"
          ],
          "font": {
           "color": "#2a3f5f"
          },
          "geo": {
           "bgcolor": "white",
           "lakecolor": "white",
           "landcolor": "#E5ECF6",
           "showlakes": true,
           "showland": true,
           "subunitcolor": "white"
          },
          "hoverlabel": {
           "align": "left"
          },
          "hovermode": "closest",
          "mapbox": {
           "style": "light"
          },
          "paper_bgcolor": "white",
          "plot_bgcolor": "#E5ECF6",
          "polar": {
           "angularaxis": {
            "gridcolor": "white",
            "linecolor": "white",
            "ticks": ""
           },
           "bgcolor": "#E5ECF6",
           "radialaxis": {
            "gridcolor": "white",
            "linecolor": "white",
            "ticks": ""
           }
          },
          "scene": {
           "xaxis": {
            "backgroundcolor": "#E5ECF6",
            "gridcolor": "white",
            "gridwidth": 2,
            "linecolor": "white",
            "showbackground": true,
            "ticks": "",
            "zerolinecolor": "white"
           },
           "yaxis": {
            "backgroundcolor": "#E5ECF6",
            "gridcolor": "white",
            "gridwidth": 2,
            "linecolor": "white",
            "showbackground": true,
            "ticks": "",
            "zerolinecolor": "white"
           },
           "zaxis": {
            "backgroundcolor": "#E5ECF6",
            "gridcolor": "white",
            "gridwidth": 2,
            "linecolor": "white",
            "showbackground": true,
            "ticks": "",
            "zerolinecolor": "white"
           }
          },
          "shapedefaults": {
           "line": {
            "color": "#2a3f5f"
           }
          },
          "ternary": {
           "aaxis": {
            "gridcolor": "white",
            "linecolor": "white",
            "ticks": ""
           },
           "baxis": {
            "gridcolor": "white",
            "linecolor": "white",
            "ticks": ""
           },
           "bgcolor": "#E5ECF6",
           "caxis": {
            "gridcolor": "white",
            "linecolor": "white",
            "ticks": ""
           }
          },
          "title": {
           "x": 0.05
          },
          "xaxis": {
           "automargin": true,
           "gridcolor": "white",
           "linecolor": "white",
           "ticks": "",
           "title": {
            "standoff": 15
           },
           "zerolinecolor": "white",
           "zerolinewidth": 2
          },
          "yaxis": {
           "automargin": true,
           "gridcolor": "white",
           "linecolor": "white",
           "ticks": "",
           "title": {
            "standoff": 15
           },
           "zerolinecolor": "white",
           "zerolinewidth": 2
          }
         }
        },
        "title": {
         "font": {
          "size": 16
         },
         "text": "교육과정 표 기반 지식맵 - Plotly 시각화"
        },
        "xaxis": {
         "showgrid": false,
         "zeroline": false
        },
        "yaxis": {
         "showgrid": false,
         "zeroline": false
        }
       }
      }
     },
     "metadata": {},
     "output_type": "display_data"
    }
   ],
   "source": [
    "import plotly.graph_objects as go\n",
    "import networkx as nx\n",
    "\n",
    "# 숫자 태깅 번호와 라벨 매핑 (교육과정 표 데이터)\n",
    "nodes_data = {\n",
    "    \"02\": \"변화와 관계\",\n",
    "    \"02-01\": \"규칙 찾기\",\n",
    "    \"02-02\": \"규칙 정하기\",\n",
    "    \"02-03\": \"등호와 동치 관계\",\n",
    "    \"02-01-01\": \"배열에서 규칙 찾기\",\n",
    "    \"02-02-01\": \"규칙에 따라 배열하기\",\n",
    "    \"02-03-01\": \"등호 사용하기\",\n",
    "    \"02-01-01-01\": \"물체 배열 규칙을 여러 가지 방법으로 표현하기\",\n",
    "    \"02-01-01-02\": \"무늬 배열 규칙을 여러 가지 방법으로 표현하기\",\n",
    "    \"02-01-01-03\": \"수 배열 규칙을 여러 가지 방법으로 표현하기\",\n",
    "    \"02-01-01-04\": \"다양한 변화 규칙을 수로 나타내기\",\n",
    "    \"02-01-01-05\": \"다양한 변화 규칙을 식으로 나타내기\",\n",
    "    \"02-01-01-06\": \"계산식 배열 규칙으로 계산 결과 추측하기\",\n",
    "    \"02-02-01-01\": \"물체 배열하기\",\n",
    "    \"02-02-01-02\": \"무늬 배열하기\",\n",
    "    \"02-02-01-03\": \"수 배열하기\",\n",
    "    \"02-03-01-01\": \"크기가 같은 두 양의 관계를 식으로 나타내기\",\n",
    "    \"04\": \"자료와 가능성\",\n",
    "    \"04-01\": \"분류하기\",\n",
    "    \"04-02\": \"자료 수집하기\",\n",
    "    \"04-01-01\": \"개수 세기\",\n",
    "    \"04-01-02\": \"표로 나타내기\",\n",
    "    \"04-01-03\": \"○, ×, / 를 이용한 그래프로 나타내기\",\n",
    "    \"04-02-01\": \"자료 정리하기\",\n",
    "    \"04-01-01-01\": \"기준에 따른 결과 말하기\",\n",
    "    \"04-01-02-01\": \"표로 나타내면 편리한 점 말하기\",\n",
    "    \"04-01-03-01\": \"그래프로 나타내면 편리한 점 말하기\",\n",
    "    \"04-02-01-01\": \"그림그래프로 나타내고 해석하기\",\n",
    "    \"04-02-01-02\": \"막대그래프로 나타내고 해석하기\",\n",
    "    \"04-02-01-03\": \"꺾은선그래프로 나타내고 해석하기\",\n",
    "}\n",
    "\n",
    "edges = [\n",
    "    (\"02\", \"02-01\"),\n",
    "    (\"02\", \"02-02\"),\n",
    "    (\"02\", \"02-03\"),\n",
    "    (\"02-01\", \"02-01-01\"),\n",
    "    (\"02-02\", \"02-02-01\"),\n",
    "    (\"02-03\", \"02-03-01\"),\n",
    "    (\"02-01-01\", \"02-01-01-01\"),\n",
    "    (\"02-01-01\", \"02-01-01-02\"),\n",
    "    (\"02-01-01\", \"02-01-01-03\"),\n",
    "    (\"02-01-01\", \"02-01-01-04\"),\n",
    "    (\"02-01-01\", \"02-01-01-05\"),\n",
    "    (\"02-01-01\", \"02-01-01-06\"),\n",
    "    (\"02-02-01\", \"02-02-01-01\"),\n",
    "    (\"02-02-01\", \"02-02-01-02\"),\n",
    "    (\"02-02-01\", \"02-02-01-03\"),\n",
    "    (\"02-03-01\", \"02-03-01-01\"),\n",
    "    (\"04\", \"04-01\"),\n",
    "    (\"04\", \"04-02\"),\n",
    "    (\"04-01\", \"04-01-01\"),\n",
    "    (\"04-01\", \"04-01-02\"),\n",
    "    (\"04-01\", \"04-01-03\"),\n",
    "    (\"04-02\", \"04-02-01\"),\n",
    "    (\"04-01-01\", \"04-01-01-01\"),\n",
    "    (\"04-01-02\", \"04-01-02-01\"),\n",
    "    (\"04-01-03\", \"04-01-03-01\"),\n",
    "    (\"04-01-03\", \"04-02-01-01\"),\n",
    "    (\"04-01-03\", \"04-02-01-02\"),\n",
    "    (\"04-01-03\", \"04-02-01-03\"),\n",
    "    (\"04-02-01\", \"04-02-01-01\"),\n",
    "    (\"04-02-01\", \"04-02-01-02\"),\n",
    "    (\"04-02-01\", \"04-02-01-03\"),\n",
    "]\n",
    "\n",
    "# 그래프 생성\n",
    "G = nx.DiGraph()\n",
    "G.add_edges_from(edges)\n",
    "\n",
    "# 노드와 엣지 데이터 생성\n",
    "pos = nx.spring_layout(G, seed=42)\n",
    "edge_x = []\n",
    "edge_y = []\n",
    "for edge in G.edges:\n",
    "    x0, y0 = pos[edge[0]]\n",
    "    x1, y1 = pos[edge[1]]\n",
    "    edge_x.extend([x0, x1, None])\n",
    "    edge_y.extend([y0, y1, None])\n",
    "\n",
    "# 엣지 추적\n",
    "edge_trace = go.Scatter(\n",
    "    x=edge_x,\n",
    "    y=edge_y,\n",
    "    line=dict(width=0.5, color=\"#888\"),\n",
    "    hoverinfo=\"none\",\n",
    "    mode=\"lines\",\n",
    ")\n",
    "\n",
    "# 노드 추적\n",
    "node_x = []\n",
    "node_y = []\n",
    "node_text = []\n",
    "node_hovertext = []\n",
    "for node in G.nodes:\n",
    "    x, y = pos[node]\n",
    "    node_x.append(x)\n",
    "    node_y.append(y)\n",
    "    node_text.append(nodes_data[node])  # 노드에 표시할 한글 라벨\n",
    "    node_hovertext.append(f\"태깅 번호: {node}\")  # 마우스 호버 시 태깅 번호 표시\n",
    "\n",
    "node_trace = go.Scatter(\n",
    "    x=node_x,\n",
    "    y=node_y,\n",
    "    mode=\"markers+text\",\n",
    "    text=node_text,  # 노드에 한글 라벨 표시\n",
    "    textposition=\"top center\",\n",
    "    hovertext=node_hovertext,  # 마우스 호버 시 태깅 번호 표시\n",
    "    marker=dict(size=10, color=\"lightblue\", line_width=2),\n",
    ")\n",
    "\n",
    "# Plotly Figure 생성\n",
    "fig = go.Figure(\n",
    "    data=[edge_trace, node_trace],\n",
    "    layout=go.Layout(\n",
    "        title=\"교육과정 표 기반 지식맵 - Plotly 시각화\",\n",
    "        titlefont_size=16,\n",
    "        showlegend=False,\n",
    "        hovermode=\"closest\",\n",
    "        margin=dict(b=0, l=0, r=0, t=40),\n",
    "        xaxis=dict(showgrid=False, zeroline=False),\n",
    "        yaxis=dict(showgrid=False, zeroline=False),\n",
    "    ),\n",
    ")\n",
    "fig.show()"
   ]
  },
  {
   "cell_type": "code",
   "execution_count": 7,
   "metadata": {},
   "outputs": [
    {
     "data": {
      "image/png": "[encoded data removed]",
      "text/plain": [
       "<Figure size 1400x1000 with 1 Axes>"
      ]
     },
     "metadata": {},
     "output_type": "display_data"
    }
   ],
   "source": [
    "# NetworkX 기본 그래프 시각화\n",
    "plt.figure(figsize=(14, 10))\n",
    "pos = nx.spring_layout(G, seed=42)\n",
    "nx.draw_networkx_nodes(G, pos, node_color=\"lightblue\", node_size=3000)\n",
    "nx.draw_networkx_edges(G, pos, edge_color=\"gray\", arrowsize=20)\n",
    "nx.draw_networkx_labels(\n",
    "    G,\n",
    "    pos,\n",
    "    labels={node: node for node in G.nodes},\n",
    "    font_size=9,\n",
    "    font_family=\"Malgun Gothic\",\n",
    ")  # Windows\n",
    "plt.title(\"NetworkX 기본 그래프\", fontsize=16)\n",
    "plt.show()"
   ]
  }
 ],
 "metadata": {
  "kernelspec": {
   "display_name": "kst_pp",
   "language": "python",
   "name": "python3"
  },
  "language_info": {
   "codemirror_mode": {
    "name": "ipython",
    "version": 3
   },
   "file_extension": ".py",
   "mimetype": "text/x-python",
   "name": "python",
   "nbconvert_exporter": "python",
   "pygments_lexer": "ipython3",
   "version": "3.9.20"
  }
 },
 "nbformat": 4,
 "nbformat_minor": 2
}
