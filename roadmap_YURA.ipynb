{
 "cells": [
  {
   "cell_type": "code",
   "execution_count": 36,
   "metadata": {},
   "outputs": [],
   "source": [
    "# !pip install graphviz"
   ]
  },
  {
   "cell_type": "code",
   "execution_count": 37,
   "metadata": {},
   "outputs": [],
   "source": [
    "from graphviz import Digraph\n",
    "\n",
    "# 다이어그램 생성\n",
    "dot = Digraph(comment=\"초등 수학 - 변화와 관계\", format=\"png\", engine=\"dot\")"
   ]
  },
  {
   "cell_type": "code",
   "execution_count": 38,
   "metadata": {},
   "outputs": [],
   "source": [
    "# 노드 추가\n",
    "# 2. 변화와 관계\n",
    "dot.node(\"02\", \"변화와 관계\")  # 대분류\n",
    "\n",
    "\n",
    "dot.node(\"02-01\", \"규칙 찾기\")  # 중분류\n",
    "dot.node(\"02-02\", \"규칙 정하기\")\n",
    "dot.node(\"02-03\", \"등호와 동치 관계\")\n",
    "\n",
    "\n",
    "dot.node(\"02-01-01\", \"배열에서 규칙 찾기\")  # 소분류\n",
    "dot.node(\"02-02-01\", \"규칙에 따라 배열하기\")\n",
    "dot.node(\"02-03-01\", \"등호 사용하기\")\n",
    "\n",
    "\n",
    "dot.node(\"02-01-01-01\", \"물체 배열 규칙을 여러 가지 방법으로 표현하기\")  # 하위분류\n",
    "dot.node(\"02-01-01-02\", \"무늬 배열 규칙을 여러 가지 방법으로 표현하기\")\n",
    "dot.node(\"02-01-01-03\", \"수 배열 규칙을 여러 가지 방법으로 표현하기\")\n",
    "dot.node(\"02-01-01-04\", \"다양한 변화 규칙을 수로 나타내기\")\n",
    "dot.node(\"02-01-01-05\", \"다양한 변화 규칙을 식으로 나타내기\")\n",
    "dot.node(\"02-01-01-06\", \"계산식 배열 규칙으로 계산 결과 추측하기\")\n",
    "\n",
    "dot.node(\"02-02-01-01\", \"물체 배열하기\")\n",
    "dot.node(\"02-02-01-02\", \"무늬 배열하기\")\n",
    "dot.node(\"02-02-01-03\", \"수 배열하기\")\n",
    "\n",
    "dot.node(\"02-03-01-01\", \"크기가 같은 두 양의 관계를 식으로 나타내기\")"
   ]
  },
  {
   "cell_type": "code",
   "execution_count": 39,
   "metadata": {},
   "outputs": [],
   "source": [
    "# 관계 설정\n",
    "# 2. 변화와 관계\n",
    "# 대분류 -> 중분류\n",
    "dot.edge(\"02\", \"02-01\")  # 변화와 관계 -> 규칙 찾기\n",
    "dot.edge(\"02\", \"02-02\")  # 변화와 관계 -> 규칙 정하기\n",
    "dot.edge(\"02\", \"02-03\")  # 변화와 관계 -> 등호와 동치 관계\n",
    "\n",
    "# 중분류 -> 소분류\n",
    "dot.edge(\"02-01\", \"02-01-01\")  # 규칙 찾기 -> 배열에서 규칙 찾기\n",
    "dot.edge(\"02-02\", \"02-02-01\")  # 규칙 정하기 -> 규칙에 따라 배열하기\n",
    "dot.edge(\"02-03\", \"02-03-01\")  # 등호와 동치 관계 -> 등호 사용하기\n",
    "\n",
    "# 소분류 -> 하위분류 (배열에서 규칙 찾기)\n",
    "dot.edge(\"02-01-01\", \"02-01-01-01\")  # 배열에서 규칙 찾기 -> 물체 배열 규칙을 여러 가지 방법으로 표현하기\n",
    "dot.edge(\"02-01-01\", \"02-01-01-02\")  # 배열에서 규칙 찾기 -> 무늬 배열 규칙을 여러 가지 방법으로 표현하기\n",
    "dot.edge(\"02-01-01\", \"02-01-01-03\")  # 배열에서 규칙 찾기 -> 수 배열 규칙을 여러 가지 방법으로 표현하기\n",
    "dot.edge(\"02-01-01\", \"02-01-01-04\")  # 배열에서 규칙 찾기 -> 다양한 변화 규칙을 수로 나타내기\n",
    "dot.edge(\"02-01-01\", \"02-01-01-05\")  # 배열에서 규칙 찾기 -> 다양한 변화 규칙을 식으로 나타내기\n",
    "dot.edge(\"02-01-01\", \"02-01-01-06\")  # 배열에서 규칙 찾기 -> 계산식 배열 규칙으로 계산 결과 추측하기\n",
    "\n",
    "# 소분류 -> 하위분류 (규칙에 따라 배열하기)\n",
    "dot.edge(\"02-02-01\", \"02-02-01-01\")  # 규칙에 따라 배열하기 -> 물체 배열하기\n",
    "dot.edge(\"02-02-01\", \"02-02-01-02\")  # 규칙에 따라 배열하기 -> 무늬 배열하기\n",
    "dot.edge(\"02-02-01\", \"02-02-01-03\")  # 규칙에 따라 배열하기 -> 수 배열하기\n",
    "\n",
    "# 소분류 -> 하위분류 (등호 사용하기)\n",
    "dot.edge(\"02-03-01\", \"02-03-01-01\")  # 등호 사용하기 -> 크기가 같은 두 양의 관계를 식으로 나타내기\n"
   ]
  },
  {
   "cell_type": "code",
   "execution_count": 40,
   "metadata": {},
   "outputs": [
    {
     "data": {
      "text/plain": [
       "'math_curriculum_diagram_jb_1.png'"
      ]
     },
     "execution_count": 40,
     "metadata": {},
     "output_type": "execute_result"
    }
   ],
   "source": [
    "# 글꼴 설정 (맑은 고딕 등 한글 지원 글꼴 지정)\n",
    "dot.graph_attr.update({\"fontname\": \"Malgun Gothic\"})  # Windows: 맑은 고딕\n",
    "\n",
    "dot.node_attr.update({\"fontname\": \"Malgun Gothic\"})\n",
    "\n",
    "# 글꼴 설정 (맑은 고딕 등 한글 지원 글꼴 지정)\n",
    "dot.edge_attr.update({\"fontname\": \"Malgun Gothic\"})  # Windows: 맑은 고딕\n",
    "\n",
    "# 그래프 방향 설정 (왼쪽에서 오른쪽으로)\n",
    "dot.attr(rankdir=\"LR\")\n",
    "\n",
    "# 다이어그램 생성\n",
    "dot.render(\"math_curriculum_diagram_jb_1\", view=True)"
   ]
  },
  {
   "cell_type": "code",
   "execution_count": 41,
   "metadata": {},
   "outputs": [],
   "source": [
    "# 노드 추가\n",
    "# 4. 자료와 가능성\n",
    "dot.node(\"04\", \"자료와 가능성\")  # 대분류\n",
    "\n",
    "\n",
    "dot.node(\"04-01\", \"분류하기\")  # 중분류\n",
    "dot.node(\"04-02\", \"자료 수집하기\")\n",
    "\n",
    "\n",
    "dot.node(\"04-01-01\", \"개수 세기\")  # 소분류\n",
    "dot.node(\"04-01-02\", \"표로 나타내기\")\n",
    "dot.node(\"04-01-03\", \"○, ×, / 를 이용한 그래프로 나타내기\")\n",
    "dot.node(\"04-02-01\", \"자료 정리하기\")\n",
    "\n",
    "\n",
    "dot.node(\"04-01-01-01\", \"기준에 따른 결과 말하기\")  # 하위분류\n",
    "dot.node(\"04-01-02-01\", \"표로 나타내면 편리한 점 말하기\")\n",
    "dot.node(\"04-01-03-01\", \"그래프로 나타내면 편리한 점 말하기\")\n",
    "\n",
    "dot.node(\"04-02-01-01\", \"그림그래프로 나타내고 해석하기\")  \n",
    "dot.node(\"04-02-01-02\", \"막대그래프로 나타내고 해석하기\")\n",
    "dot.node(\"04-02-01-03\", \"꺾은선그래프로 나타내고 해석하기\")"
   ]
  },
  {
   "cell_type": "code",
   "execution_count": 42,
   "metadata": {},
   "outputs": [],
   "source": [
    "# 관계 설정\n",
    "# 4. 자료와 가능성\n",
    "# 대분류 -> 중분류\n",
    "dot.edge(\"04\", \"04-01\")  # 자료와 가능성 -> 분류하기\n",
    "dot.edge(\"04\", \"04-02\")  # 자료와 가능성 -> 자료 수집하기\n",
    "\n",
    "# 중분류 -> 소분류\n",
    "dot.edge(\"04-01\", \"04-01-01\")  # 분류하기 -> 개수 세기\n",
    "dot.edge(\"04-01\", \"04-01-02\")  # 분류하기 -> 표로 나타내기\n",
    "dot.edge(\"04-01\", \"04-01-03\")  # 분류하기 -> ○, ×, / 를 이용한 그래프로 나타내기\n",
    "dot.edge(\"04-02\", \"04-02-01\")  # 자료 수집하기 -> 자료 정리하기\n",
    "\n",
    "# 소분류 -> 하위분류 (분류하기)\n",
    "dot.edge(\"04-01-01\", \"04-01-01-01\")  # 개수 세기 -> 기준에 따른 결과 말하기\n",
    "dot.edge(\"04-01-02\", \"04-01-02-01\")  # 표로 나타내기 -> 표로 나타내면 편리한 점 말하기\n",
    "dot.edge(\"04-01-03\", \"04-01-03-01\")  # ○, ×, / 를 이용한 그래프로 나타내기 -> 그래프로 나타내면 편리한 점 말하기\n",
    "# 엣지 추가\n",
    "dot.edge(\"04-01-03\", \"04-02-01-01\")\n",
    "dot.edge(\"04-01-03\", \"04-02-01-02\")\n",
    "dot.edge(\"04-01-03\", \"04-02-01-03\")\n",
    "\n",
    "# 소분류 -> 하위분류 (자료 정리하기)\n",
    "dot.edge(\"04-02-01\", \"04-02-01-01\")  # 자료 정리하기 -> 그림그래프로 나타내고 해석하기\n",
    "dot.edge(\"04-02-01\", \"04-02-01-02\")  # 자료 정리하기 -> 막대그래프로 나타내고 해석하기\n",
    "dot.edge(\"04-02-01\", \"04-02-01-03\")  # 자료 정리하기 -> 꺾은선그래프로 나타내고 해석하기"
   ]
  },
  {
   "cell_type": "code",
   "execution_count": 43,
   "metadata": {},
   "outputs": [
    {
     "data": {
      "text/plain": [
       "'math_curriculum_diagram_jb_2.png'"
      ]
     },
     "execution_count": 43,
     "metadata": {},
     "output_type": "execute_result"
    }
   ],
   "source": [
    "# 글꼴 설정 (맑은 고딕 등 한글 지원 글꼴 지정)\n",
    "dot.graph_attr.update({\"fontname\": \"Malgun Gothic\"})  # Windows: 맑은 고딕\n",
    "\n",
    "dot.node_attr.update({\"fontname\": \"Malgun Gothic\"})\n",
    "\n",
    "# 글꼴 설정 (맑은 고딕 등 한글 지원 글꼴 지정)\n",
    "dot.edge_attr.update({\"fontname\": \"Malgun Gothic\"})  # Windows: 맑은 고딕\n",
    "\n",
    "# 그래프 방향 설정 (왼쪽에서 오른쪽으로)\n",
    "dot.attr(rankdir=\"LR\")\n",
    "\n",
    "# 다이어그램 생성\n",
    "dot.render(\"math_curriculum_diagram_jb_2\", view=True)"
   ]
  }
 ],
 "metadata": {
  "kernelspec": {
   "display_name": "kst_pp",
   "language": "python",
   "name": "python3"
  },
  "language_info": {
   "codemirror_mode": {
    "name": "ipython",
    "version": 3
   },
   "file_extension": ".py",
   "mimetype": "text/x-python",
   "name": "python",
   "nbconvert_exporter": "python",
   "pygments_lexer": "ipython3",
   "version": "3.9.20"
  }
 },
 "nbformat": 4,
 "nbformat_minor": 2
}
