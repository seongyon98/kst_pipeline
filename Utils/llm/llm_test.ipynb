{
 "cells": [
  {
   "cell_type": "code",
   "execution_count": 288,
   "metadata": {},
   "outputs": [],
   "source": [
    "import openai\n",
    "import os\n",
    "from dotenv import load_dotenv\n",
    "from neo4j import GraphDatabase\n",
    "from sentence_transformers import SentenceTransformer\n",
    "from sklearn.metrics.pairwise import cosine_similarity\n",
    "import numpy as np\n",
    "import torch"
   ]
  },
  {
   "cell_type": "code",
   "execution_count": 289,
   "metadata": {},
   "outputs": [],
   "source": [
    "# .env 파일 로드\n",
    "load_dotenv()\n",
    "\n",
    "# 환경 변수에서 값 가져오기\n",
    "openai.api_key = os.getenv(\"OPENAI_API_KEY\")\n",
    "uri = os.getenv(\"NEO4J_URI\")\n",
    "username = os.getenv(\"NEO4J_USERNAME\")\n",
    "password = os.getenv(\"NEO4J_PASSWORD\")\n",
    "\n",
    "# Neo4j 데이터베이스 연결\n",
    "driver = GraphDatabase.driver(uri, auth=(username, password))\n",
    "session = driver.session()"
   ]
  },
  {
   "cell_type": "code",
   "execution_count": 290,
   "metadata": {},
   "outputs": [],
   "source": [
    "# LLM을 사용한 수학 키워드 및 대분류 추출 함수\n",
    "def extract_keywords_and_category_from_math_problem(text):\n",
    "    prompt = (\n",
    "        \"다음 수학 문제에서 수학과 관련된 키워드와 가장 적합한 대분류를 추출하세요. \"\n",
    "        \"키워드는 '키워드:'로 시작하고 대분류는 '대분류:'로 시작하여 각각 추출해주세요. \"\n",
    "        \"대분류는 '변화와 관계', '도형과 측정', '자료와 가능성' 중에서 하나를 먼저 확인하고, \"\n",
    "        \"그래프나 표와 관련된 문제는 우선적으로 '자료와 가능성'으로 분류하고, \"\n",
    "        \"길이, 넓이, 들이, 무게 등의 단위 관련 문제는 '도형과 측정'으로 분류하며, \"\n",
    "        \"배열, 규칙, 비율과 관련된 문제는 '변화와 관계'로 분류하세요. \"\n",
    "        \"어디에도 속하지 않으면 '수와 연산'으로 분류하세요.\\n\"\n",
    "        f\"문제: {text}\"\n",
    "    )\n",
    "    response = openai.ChatCompletion.create(\n",
    "        model=\"gpt-4\",\n",
    "        messages=[\n",
    "            {\"role\": \"system\", \"content\": \"You are a helpful assistant.\"},\n",
    "            {\"role\": \"user\", \"content\": prompt},\n",
    "        ],\n",
    "        max_tokens=150,\n",
    "        temperature=0.5,\n",
    "    )\n",
    "    return response.choices[0].message[\"content\"].strip()\n",
    "\n",
    "\n",
    "# 키워드 전처리 함수\n",
    "def preprocess_keywords(raw_keywords):\n",
    "    # 키워드 부분만 추출\n",
    "    keywords = raw_keywords.split(\"키워드:\")[1].strip().split(\", \")\n",
    "    # 각 키워드를 소문자로 변환하여 리스트로 반환\n",
    "    return [kw.lower() for kw in keywords]"
   ]
  },
  {
   "cell_type": "code",
   "execution_count": 291,
   "metadata": {},
   "outputs": [],
   "source": [
    "# 시드 고정\n",
    "def set_seed(seed=12345):\n",
    "    np.random.seed(seed)\n",
    "    torch.manual_seed(seed)\n",
    "    if torch.cuda.is_available():\n",
    "        torch.cuda.manual_seed_all(seed)\n",
    "\n",
    "\n",
    "# 시드 고정 설정\n",
    "set_seed()"
   ]
  },
  {
   "cell_type": "code",
   "execution_count": null,
   "metadata": {},
   "outputs": [
    {
     "data": {
      "application/vnd.jupyter.widget-view+json": {
       "model_id": "51bd8cec56da4c7996d0a8b4b58d7da3",
       "version_major": 2,
       "version_minor": 0
      },
      "text/plain": [
       "modules.json:   0%|          | 0.00/461 [00:00<?, ?B/s]"
      ]
     },
     "metadata": {},
     "output_type": "display_data"
    },
    {
     "name": "stderr",
     "output_type": "stream",
     "text": [
      "c:\\Users\\seong\\anaconda3\\envs\\kst_pp\\lib\\site-packages\\huggingface_hub\\file_download.py:139: UserWarning: `huggingface_hub` cache-system uses symlinks by default to efficiently store duplicated files but your machine does not support them in C:\\Users\\seong\\.cache\\huggingface\\hub\\models--sentence-transformers--LaBSE. Caching files will still work but in a degraded version that might require more space on your disk. This warning can be disabled by setting the `HF_HUB_DISABLE_SYMLINKS_WARNING` environment variable. For more details, see https://huggingface.co/docs/huggingface_hub/how-to-cache#limitations.\n",
      "To support symlinks on Windows, you either need to activate Developer Mode or to run Python as an administrator. In order to activate developer mode, see this article: https://docs.microsoft.com/en-us/windows/apps/get-started/enable-your-device-for-development\n",
      "  warnings.warn(message)\n"
     ]
    },
    {
     "data": {
      "application/vnd.jupyter.widget-view+json": {
       "model_id": "a2468ac072da47d6916c4628b6900659",
       "version_major": 2,
       "version_minor": 0
      },
      "text/plain": [
       "config_sentence_transformers.json:   0%|          | 0.00/122 [00:00<?, ?B/s]"
      ]
     },
     "metadata": {},
     "output_type": "display_data"
    },
    {
     "data": {
      "application/vnd.jupyter.widget-view+json": {
       "model_id": "3cfff757f9844fe3b15cf9f18680df79",
       "version_major": 2,
       "version_minor": 0
      },
      "text/plain": [
       "README.md:   0%|          | 0.00/2.22k [00:00<?, ?B/s]"
      ]
     },
     "metadata": {},
     "output_type": "display_data"
    },
    {
     "data": {
      "application/vnd.jupyter.widget-view+json": {
       "model_id": "84c96d2c6e0747deaf929d6b8ca1e4a9",
       "version_major": 2,
       "version_minor": 0
      },
      "text/plain": [
       "sentence_bert_config.json:   0%|          | 0.00/53.0 [00:00<?, ?B/s]"
      ]
     },
     "metadata": {},
     "output_type": "display_data"
    },
    {
     "data": {
      "application/vnd.jupyter.widget-view+json": {
       "model_id": "4708fb65d93c43448cca0edf64758923",
       "version_major": 2,
       "version_minor": 0
      },
      "text/plain": [
       "config.json:   0%|          | 0.00/804 [00:00<?, ?B/s]"
      ]
     },
     "metadata": {},
     "output_type": "display_data"
    },
    {
     "data": {
      "application/vnd.jupyter.widget-view+json": {
       "model_id": "417152254ea54a62a85f7628e02b78b3",
       "version_major": 2,
       "version_minor": 0
      },
      "text/plain": [
       "model.safetensors:   0%|          | 0.00/1.88G [00:00<?, ?B/s]"
      ]
     },
     "metadata": {},
     "output_type": "display_data"
    },
    {
     "data": {
      "application/vnd.jupyter.widget-view+json": {
       "model_id": "1ef8230c966a4b4da9f607e0c5ac4a0c",
       "version_major": 2,
       "version_minor": 0
      },
      "text/plain": [
       "tokenizer_config.json:   0%|          | 0.00/397 [00:00<?, ?B/s]"
      ]
     },
     "metadata": {},
     "output_type": "display_data"
    },
    {
     "data": {
      "application/vnd.jupyter.widget-view+json": {
       "model_id": "6ea733f49307469fb7a593334273f1aa",
       "version_major": 2,
       "version_minor": 0
      },
      "text/plain": [
       "vocab.txt:   0%|          | 0.00/5.22M [00:00<?, ?B/s]"
      ]
     },
     "metadata": {},
     "output_type": "display_data"
    },
    {
     "data": {
      "application/vnd.jupyter.widget-view+json": {
       "model_id": "82595d48accc44f3a9109864dd1e4a4b",
       "version_major": 2,
       "version_minor": 0
      },
      "text/plain": [
       "tokenizer.json:   0%|          | 0.00/9.62M [00:00<?, ?B/s]"
      ]
     },
     "metadata": {},
     "output_type": "display_data"
    },
    {
     "data": {
      "application/vnd.jupyter.widget-view+json": {
       "model_id": "1acaab90333643008775874023a0f61e",
       "version_major": 2,
       "version_minor": 0
      },
      "text/plain": [
       "special_tokens_map.json:   0%|          | 0.00/112 [00:00<?, ?B/s]"
      ]
     },
     "metadata": {},
     "output_type": "display_data"
    },
    {
     "data": {
      "application/vnd.jupyter.widget-view+json": {
       "model_id": "293267f7fe4246dc9e3a8ecbf6fefe87",
       "version_major": 2,
       "version_minor": 0
      },
      "text/plain": [
       "1_Pooling/config.json:   0%|          | 0.00/190 [00:00<?, ?B/s]"
      ]
     },
     "metadata": {},
     "output_type": "display_data"
    },
    {
     "data": {
      "application/vnd.jupyter.widget-view+json": {
       "model_id": "fc03cfb04dce4d6c93148c7c9fedb2c1",
       "version_major": 2,
       "version_minor": 0
      },
      "text/plain": [
       "2_Dense/config.json:   0%|          | 0.00/114 [00:00<?, ?B/s]"
      ]
     },
     "metadata": {},
     "output_type": "display_data"
    },
    {
     "data": {
      "application/vnd.jupyter.widget-view+json": {
       "model_id": "369bf2fcb6a14cd3ae68fc91350072de",
       "version_major": 2,
       "version_minor": 0
      },
      "text/plain": [
       "pytorch_model.bin:   0%|          | 0.00/2.36M [00:00<?, ?B/s]"
      ]
     },
     "metadata": {},
     "output_type": "display_data"
    },
    {
     "data": {
      "application/vnd.jupyter.widget-view+json": {
       "model_id": "25fe3ddd702f410fb624bfdb1afab0b0",
       "version_major": 2,
       "version_minor": 0
      },
      "text/plain": [
       "model.safetensors:   0%|          | 0.00/2.36M [00:00<?, ?B/s]"
      ]
     },
     "metadata": {},
     "output_type": "display_data"
    }
   ],
   "source": [
    "# SentenceTransformer 모델 로드\n",
    "model = SentenceTransformer(\n",
    "    \"sentence-transformers/paraphrase-multilingual-MiniLM-L12-v2\"\n",
    ")\n",
    "\n",
    "\n",
    "def calculate_similarity(keyword, item_name):\n",
    "    \"\"\"\n",
    "    키워드와 항목 이름 간 임베딩 기반 코사인 유사도 계산.\n",
    "    :param keyword: 키워드 문자열\n",
    "    :param item_name: 항목 이름 문자열\n",
    "    :return: 코사인 유사도 (0~1)\n",
    "    \"\"\"\n",
    "    embeddings = model.encode([keyword, item_name])\n",
    "    return cosine_similarity([embeddings[0]], [embeddings[1]])[0][0]"
   ]
  },
  {
   "cell_type": "code",
   "execution_count": 293,
   "metadata": {},
   "outputs": [],
   "source": [
    "def find_similar_nodes_from_graph(keywords, category, level, similarity_threshold=0.8):\n",
    "    \"\"\"\n",
    "    특정 카테고리 내에서 레벨별로 키워드와 유사도가 높은 항목을 탐색.\n",
    "    :param keywords: 키워드 리스트\n",
    "    :param category: 대분류/중분류 이름\n",
    "    :param level: 검색할 노드의 레벨 (\"Subcategory\", \"Leaf\" 등)\n",
    "    :param similarity_threshold: 유사도 임계값\n",
    "    :return: 유사도가 높은 노드 리스트\n",
    "    \"\"\"\n",
    "    query = f\"\"\"\n",
    "    MATCH (c {{name: $category}})-[:HAS_CHILD]->(n:{level})\n",
    "    RETURN n.name AS node_name\n",
    "    \"\"\"\n",
    "    results = session.run(query, category=category)\n",
    "    nodes = [record[\"node_name\"] for record in results]\n",
    "\n",
    "    matched_nodes = []\n",
    "\n",
    "    for node in nodes:\n",
    "        similarities = []\n",
    "        for keyword in keywords:\n",
    "            similarity = calculate_similarity(keyword, node)\n",
    "            similarities.append(similarity)\n",
    "            print(f\"키워드 '{keyword}' vs 노드 '{node}': 유사도 {similarity:.2f}\")\n",
    "        average_similarity = sum(similarities) / len(similarities)\n",
    "        print(f\"노드 '{node}'의 평균 유사도: {average_similarity:.2f}\")\n",
    "        if average_similarity >= similarity_threshold:\n",
    "            matched_nodes.append(node)\n",
    "\n",
    "    return list(set(matched_nodes))"
   ]
  },
  {
   "cell_type": "code",
   "execution_count": 294,
   "metadata": {},
   "outputs": [],
   "source": [
    "def find_most_similar_node(keywords, category, level):\n",
    "    \"\"\"\n",
    "    특정 카테고리 내에서 가장 유사한 노드를 찾는다.\n",
    "    :param keywords: 키워드 리스트\n",
    "    :param category: 대분류/중분류 이름\n",
    "    :param level: 검색할 노드의 레벨 (\"Subcategory\", \"Leaf\" 등)\n",
    "    :return: 가장 유사한 노드 이름\n",
    "    \"\"\"\n",
    "    query = f\"\"\"\n",
    "    MATCH (c {{name: $category}})-[:HAS_CHILD]->(n:{level})\n",
    "    RETURN n.name AS node_name\n",
    "    \"\"\"\n",
    "    results = session.run(query, category=category)\n",
    "    nodes = [record[\"node_name\"] for record in results]\n",
    "\n",
    "    best_match = None\n",
    "    highest_similarity = 0\n",
    "\n",
    "    for node in nodes:\n",
    "        similarities = []\n",
    "        for keyword in keywords:\n",
    "            similarity = calculate_similarity(keyword, node)\n",
    "            similarities.append(similarity)\n",
    "        average_similarity = sum(similarities) / len(similarities)\n",
    "        if average_similarity > highest_similarity:\n",
    "            highest_similarity = average_similarity\n",
    "            best_match = node\n",
    "\n",
    "    return best_match"
   ]
  },
  {
   "cell_type": "code",
   "execution_count": 295,
   "metadata": {},
   "outputs": [],
   "source": [
    "def find_subcategories(keywords, category, similarity_threshold=0.5):\n",
    "    \"\"\"\n",
    "    대분류(category)에서 중분류를 찾는다.\n",
    "    :param keywords: 키워드 리스트\n",
    "    :param category: 대분류 이름\n",
    "    :param similarity_threshold: 유사도 임계값\n",
    "    :return: 중분류 리스트\n",
    "    \"\"\"\n",
    "    subcategories = find_similar_nodes_from_graph(\n",
    "        keywords,\n",
    "        category,\n",
    "        level=\"Subcategory\",\n",
    "        similarity_threshold=similarity_threshold,\n",
    "    )\n",
    "\n",
    "    if not subcategories:\n",
    "        print(f\"중분류를 찾을 수 없습니다. 대분류: {category}\")\n",
    "        # 가장 유사도 높은 중분류 선택\n",
    "        best_match = find_most_similar_node(keywords, category, level=\"Subcategory\")\n",
    "        if best_match:\n",
    "            subcategories = [best_match]\n",
    "\n",
    "    return subcategories"
   ]
  },
  {
   "cell_type": "code",
   "execution_count": 296,
   "metadata": {},
   "outputs": [],
   "source": [
    "def find_leaf_nodes(keywords, category_name, similarity_threshold=0.6):\n",
    "    # 중분류 찾기\n",
    "    subcategories = find_subcategories(keywords, category_name, similarity_threshold)\n",
    "    if not subcategories:\n",
    "        print(f\"중분류를 찾을 수 없습니다. 대분류: {category_name}\")\n",
    "        return []\n",
    "\n",
    "    leaf_nodes = []\n",
    "    for subcategory in subcategories:\n",
    "        print(f\"중분류 '{subcategory}'에서 하위 노드 탐색 시작\")\n",
    "        # 해당 중분류에 연결된 item 찾기\n",
    "        items = find_similar_nodes_from_graph(\n",
    "            keywords,\n",
    "            subcategory,\n",
    "            level=\"Item\",\n",
    "            similarity_threshold=similarity_threshold,\n",
    "        )\n",
    "        if not items:\n",
    "            print(f\"중분류 '{subcategory}'에 연결된 item이 없습니다.\")\n",
    "            continue\n",
    "        print(f\"중분류 '{subcategory}'에 연결된 item: {items}\")\n",
    "\n",
    "        for item in items:\n",
    "            # 해당 item에 연결된 leaf 찾기\n",
    "            query = \"\"\"\n",
    "            MATCH (i:Item {name: $item})-[:HAS_CHILD]->(ln:Leaf)\n",
    "            RETURN ln.name AS leaf\n",
    "            \"\"\"\n",
    "            result = session.run(query, item=item)\n",
    "            leaf_candidates = [record[\"leaf\"] for record in result]\n",
    "\n",
    "            for leaf in leaf_candidates:\n",
    "                # 최하위 노드(leaf) 유사도 검증\n",
    "                leaf_similarity = calculate_similarity(keywords, leaf)\n",
    "                if leaf_similarity >= similarity_threshold:\n",
    "                    print(\n",
    "                        f\"최하위 노드 '{leaf}'는 유사도 {leaf_similarity:.2f}로 선택됨\"\n",
    "                    )\n",
    "                    leaf_nodes.append(leaf)\n",
    "                else:\n",
    "                    print(\n",
    "                        f\"최하위 노드 '{leaf}'는 유사도 {leaf_similarity:.2f}로 선택되지 않음\"\n",
    "                    )\n",
    "\n",
    "    print(f\"최종 선택된 하위 노드(leaf nodes): {leaf_nodes}\")\n",
    "    return list(set(leaf_nodes))"
   ]
  },
  {
   "cell_type": "code",
   "execution_count": 297,
   "metadata": {},
   "outputs": [],
   "source": [
    "def verify_classification_with_llm(classification, keywords):\n",
    "    prompt = (\n",
    "        f\"다음 키워드: {', '.join(keywords)} 가 분류 '{classification}'에 정확히 적합한지 평가해주세요. \"\n",
    "        \"해당 분류가 키워드 모두와 직접적으로 연관되어야 합니다. \"\n",
    "        \"적합하지 않다면 '부적합'으로, 적합하다면 '적합'으로만 대답해주세요. \"\n",
    "        \"예를 들어, 키워드 '덧셈'이 분류 '곱셈'에 해당하는 경우 '부적합'으로 응답해야 합니다.\"\n",
    "    )\n",
    "    response = openai.ChatCompletion.create(\n",
    "        model=\"gpt-3.5-turbo\",\n",
    "        messages=[\n",
    "            {\"role\": \"system\", \"content\": \"You are a helpful assistant.\"},\n",
    "            {\"role\": \"user\", \"content\": prompt},\n",
    "        ],\n",
    "        max_tokens=50,\n",
    "        temperature=0.5,\n",
    "    )\n",
    "    result = response.choices[0].message[\"content\"].strip()\n",
    "    print(f\"LLM 응답: {result}\")  # 응답 메시지 출력 (디버깅용)\n",
    "    return result"
   ]
  },
  {
   "cell_type": "code",
   "execution_count": 298,
   "metadata": {},
   "outputs": [],
   "source": [
    "def process_math_problem(problem):\n",
    "    # 1단계: 키워드 및 대분류 추출\n",
    "    raw_keywords_and_category = extract_keywords_and_category_from_math_problem(problem)\n",
    "    print(f\"추출된 키워드 및 대분류 (원본): {raw_keywords_and_category}\")\n",
    "\n",
    "    # 키워드와 대분류 분리\n",
    "    try:\n",
    "        raw_keywords, most_similar_category = raw_keywords_and_category.split(\n",
    "            \"\\n대분류: \"\n",
    "        )\n",
    "    except ValueError:\n",
    "        print(\"응답 형식이 맞지 않습니다. 기본값으로 '수와 연산'을 사용합니다.\")\n",
    "        raw_keywords = raw_keywords_and_category\n",
    "        most_similar_category = \"수와 연산\"\n",
    "\n",
    "    keywords = preprocess_keywords(raw_keywords)\n",
    "    print(f\"전처리된 키워드: {keywords}\")\n",
    "    print(f\"가장 유사한 대분류: {most_similar_category}\")\n",
    "\n",
    "    # 2단계: 하위 노드 탐색\n",
    "    leaf_nodes = find_leaf_nodes(\n",
    "        keywords, most_similar_category, similarity_threshold=0.6\n",
    "    )\n",
    "    if not leaf_nodes:\n",
    "        print(\"하위 노드를 찾을 수 없습니다. 프로세스를 종료합니다.\")\n",
    "        return\n",
    "\n",
    "    print(f\"찾은 하위 노드: {leaf_nodes}\")\n",
    "\n",
    "    # 3단계: 최종 검증\n",
    "    verified_labels = []\n",
    "    for leaf in leaf_nodes:\n",
    "        verification = verify_classification_with_llm(leaf, keywords)\n",
    "        if verification == \"적합\":\n",
    "            verified_labels.append(leaf)\n",
    "\n",
    "    if verified_labels:\n",
    "        print(f\"최종 라벨: {verified_labels}\")\n",
    "    else:\n",
    "        print(\"적합한 라벨을 찾을 수 없습니다.\")"
   ]
  },
  {
   "cell_type": "code",
   "execution_count": 299,
   "metadata": {},
   "outputs": [
    {
     "name": "stdout",
     "output_type": "stream",
     "text": [
      "추출된 키워드 및 대분류 (원본): 키워드: 3, +, 5\n",
      "대분류: 수와 연산\n",
      "전처리된 키워드: ['3', '+', '5']\n",
      "가장 유사한 대분류: 수와 연산\n",
      "키워드 '3' vs 노드 '소수': 유사도 0.32\n",
      "키워드 '+' vs 노드 '소수': 유사도 0.15\n",
      "키워드 '5' vs 노드 '소수': 유사도 0.29\n",
      "노드 '소수'의 평균 유사도: 0.25\n",
      "키워드 '3' vs 노드 '혼합 계산': 유사도 0.20\n",
      "키워드 '+' vs 노드 '혼합 계산': 유사도 0.18\n",
      "키워드 '5' vs 노드 '혼합 계산': 유사도 0.15\n",
      "노드 '혼합 계산'의 평균 유사도: 0.18\n",
      "키워드 '3' vs 노드 '약수와 배수': 유사도 0.12\n",
      "키워드 '+' vs 노드 '약수와 배수': 유사도 0.06\n",
      "키워드 '5' vs 노드 '약수와 배수': 유사도 0.13\n",
      "노드 '약수와 배수'의 평균 유사도: 0.10\n",
      "키워드 '3' vs 노드 '분수와 소수의 관계': 유사도 0.10\n",
      "키워드 '+' vs 노드 '분수와 소수의 관계': 유사도 -0.03\n",
      "키워드 '5' vs 노드 '분수와 소수의 관계': 유사도 0.11\n",
      "노드 '분수와 소수의 관계'의 평균 유사도: 0.06\n",
      "키워드 '3' vs 노드 '수': 유사도 0.42\n",
      "키워드 '+' vs 노드 '수': 유사도 0.37\n",
      "키워드 '5' vs 노드 '수': 유사도 0.38\n",
      "노드 '수'의 평균 유사도: 0.39\n",
      "키워드 '3' vs 노드 '덧셈': 유사도 0.38\n",
      "키워드 '+' vs 노드 '덧셈': 유사도 0.54\n",
      "키워드 '5' vs 노드 '덧셈': 유사도 0.39\n",
      "노드 '덧셈'의 평균 유사도: 0.44\n",
      "키워드 '3' vs 노드 '뺄셈': 유사도 0.29\n",
      "키워드 '+' vs 노드 '뺄셈': 유사도 0.32\n",
      "키워드 '5' vs 노드 '뺄셈': 유사도 0.31\n",
      "노드 '뺄셈'의 평균 유사도: 0.30\n",
      "키워드 '3' vs 노드 '곱셈': 유사도 0.30\n",
      "키워드 '+' vs 노드 '곱셈': 유사도 0.33\n",
      "키워드 '5' vs 노드 '곱셈': 유사도 0.28\n",
      "노드 '곱셈'의 평균 유사도: 0.30\n",
      "키워드 '3' vs 노드 '나눗셈': 유사도 -0.23\n",
      "키워드 '+' vs 노드 '나눗셈': 유사도 -0.11\n",
      "키워드 '5' vs 노드 '나눗셈': 유사도 -0.27\n",
      "노드 '나눗셈'의 평균 유사도: -0.21\n",
      "키워드 '3' vs 노드 '자연수의 어림셈': 유사도 0.11\n",
      "키워드 '+' vs 노드 '자연수의 어림셈': 유사도 0.04\n",
      "키워드 '5' vs 노드 '자연수의 어림셈': 유사도 0.07\n",
      "노드 '자연수의 어림셈'의 평균 유사도: 0.07\n",
      "키워드 '3' vs 노드 '분수': 유사도 0.31\n",
      "키워드 '+' vs 노드 '분수': 유사도 0.23\n",
      "키워드 '5' vs 노드 '분수': 유사도 0.34\n",
      "노드 '분수'의 평균 유사도: 0.30\n",
      "중분류를 찾을 수 없습니다. 대분류: 수와 연산\n",
      "중분류 '덧셈'에서 하위 노드 탐색 시작\n",
      "키워드 '3' vs 노드 '덧셈의 의미': 유사도 0.18\n",
      "키워드 '+' vs 노드 '덧셈의 의미': 유사도 0.29\n",
      "키워드 '5' vs 노드 '덧셈의 의미': 유사도 0.14\n",
      "노드 '덧셈의 의미'의 평균 유사도: 0.21\n",
      "키워드 '3' vs 노드 '두 자리 수의 덧셈': 유사도 0.19\n",
      "키워드 '+' vs 노드 '두 자리 수의 덧셈': 유사도 0.25\n",
      "키워드 '5' vs 노드 '두 자리 수의 덧셈': 유사도 0.14\n",
      "노드 '두 자리 수의 덧셈'의 평균 유사도: 0.19\n",
      "키워드 '3' vs 노드 '세 자리 수의 덧셈': 유사도 0.32\n",
      "키워드 '+' vs 노드 '세 자리 수의 덧셈': 유사도 0.23\n",
      "키워드 '5' vs 노드 '세 자리 수의 덧셈': 유사도 0.17\n",
      "노드 '세 자리 수의 덧셈'의 평균 유사도: 0.24\n",
      "키워드 '3' vs 노드 '세 수의 덧셈': 유사도 0.40\n",
      "키워드 '+' vs 노드 '세 수의 덧셈': 유사도 0.25\n",
      "키워드 '5' vs 노드 '세 수의 덧셈': 유사도 0.24\n",
      "노드 '세 수의 덧셈'의 평균 유사도: 0.30\n",
      "키워드 '3' vs 노드 '□가 사용된 덧셈식': 유사도 0.13\n",
      "키워드 '+' vs 노드 '□가 사용된 덧셈식': 유사도 0.26\n",
      "키워드 '5' vs 노드 '□가 사용된 덧셈식': 유사도 0.13\n",
      "노드 '□가 사용된 덧셈식'의 평균 유사도: 0.17\n",
      "중분류 '덧셈'에 연결된 item이 없습니다.\n",
      "최종 선택된 하위 노드(leaf nodes): []\n",
      "하위 노드를 찾을 수 없습니다. 프로세스를 종료합니다.\n"
     ]
    }
   ],
   "source": [
    "# 예시 수학 문제\n",
    "problem = \"3 + 5는?\"\n",
    "process_math_problem(problem)\n",
    "\n",
    "# Neo4j 세션 종료\n",
    "session.close()"
   ]
  }
 ],
 "metadata": {
  "kernelspec": {
   "display_name": "kst_pp",
   "language": "python",
   "name": "python3"
  },
  "language_info": {
   "codemirror_mode": {
    "name": "ipython",
    "version": 3
   },
   "file_extension": ".py",
   "mimetype": "text/x-python",
   "name": "python",
   "nbconvert_exporter": "python",
   "pygments_lexer": "ipython3",
   "version": "3.9.20"
  }
 },
 "nbformat": 4,
 "nbformat_minor": 2
}
