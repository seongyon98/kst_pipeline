{
 "cells": [
  {
   "cell_type": "code",
   "execution_count": 1,
   "metadata": {},
   "outputs": [
    {
     "name": "stdout",
     "output_type": "stream",
     "text": [
      "Collecting neo4j\n",
      "  Downloading neo4j-5.27.0-py3-none-any.whl.metadata (5.9 kB)\n",
      "Requirement already satisfied: pytz in c:\\users\\seong\\anaconda3\\envs\\kst_pp\\lib\\site-packages (from neo4j) (2024.2)\n",
      "Downloading neo4j-5.27.0-py3-none-any.whl (301 kB)\n",
      "Installing collected packages: neo4j\n",
      "Successfully installed neo4j-5.27.0\n"
     ]
    }
   ],
   "source": [
    "!pip install neo4j"
   ]
  },
  {
   "cell_type": "code",
   "execution_count": 18,
   "metadata": {},
   "outputs": [
    {
     "name": "stdout",
     "output_type": "stream",
     "text": [
      "Requirement already satisfied: python-dotenv in c:\\users\\seong\\anaconda3\\envs\\kst_pp\\lib\\site-packages (1.0.1)\n"
     ]
    }
   ],
   "source": [
    "!pip install python-dotenv"
   ]
  },
  {
   "cell_type": "code",
   "execution_count": 33,
   "metadata": {},
   "outputs": [],
   "source": [
    "import json\n",
    "import os\n",
    "from neo4j import GraphDatabase\n",
    "from dotenv import load_dotenv\n",
    "\n",
    "# .env 파일에서 환경 변수 로드\n",
    "load_dotenv()\n",
    "\n",
    "# Neo4j 연결 설정 (환경 변수에서 읽어오기)\n",
    "uri = os.getenv(\"NEO4J_URI\")\n",
    "username = os.getenv(\"NEO4J_USERNAME\")\n",
    "password = os.getenv(\"NEO4J_PASSWORD\")\n",
    "\n",
    "# Neo4j 데이터베이스에 연결\n",
    "driver = GraphDatabase.driver(uri, auth=(username, password))\n",
    "session = driver.session()\n",
    "\n",
    "# JSON 파일 경로들\n",
    "json_files = [\n",
    "    \"D:/programming/python/chunjae/finalproject/kst_pipeline/Preprocessing/01_num_cal.json\",\n",
    "    \"D:/programming/python/chunjae/finalproject/kst_pipeline/Preprocessing/02_change_of_relationship.json\",\n",
    "    \"D:/programming/python/chunjae/finalproject/kst_pipeline/Preprocessing/03_shape_meas.json\",\n",
    "    \"D:/programming/python/chunjae/finalproject/kst_pipeline/Preprocessing/04_data_and_possibility.json\",\n",
    "]\n",
    "\n",
    "\n",
    "# 대분류 노드를 생성하는 함수\n",
    "def create_category_node(name):\n",
    "    query = \"\"\"\n",
    "    MERGE (c:Category {name: $name})\n",
    "    RETURN c\n",
    "    \"\"\"\n",
    "    session.run(query, name=name)\n",
    "\n",
    "\n",
    "# 세부 항목 노드를 생성하는 함수\n",
    "def create_item_node(name, parent_name=None):\n",
    "    query = \"\"\"\n",
    "    MERGE (i:Item {name: $name})\n",
    "    \"\"\"\n",
    "    if parent_name:\n",
    "        query += \"\"\"\n",
    "        WITH i\n",
    "        MATCH (p {name: $parent_name})\n",
    "        MERGE (p)-[:HAS_CHILD]->(i)\n",
    "        \"\"\"\n",
    "    session.run(query, name=name, parent_name=parent_name)\n",
    "\n",
    "\n",
    "# JSON 파일을 읽고 노드를 삽입하는 함수\n",
    "def insert_json_data(file_path):\n",
    "    with open(file_path, \"r\", encoding=\"utf-8\") as file:\n",
    "        data = json.load(file)\n",
    "\n",
    "        # 대분류 노드 생성\n",
    "        for key, value in data.items():\n",
    "            category_name = value[\"name\"]\n",
    "            create_category_node(category_name)\n",
    "\n",
    "            # 세부 항목을 처리하여 노드 삽입\n",
    "            def process_items(data, parent_name=None):\n",
    "                for key, value in data.items():\n",
    "                    if isinstance(value, dict):\n",
    "                        item_name = value[\"name\"]\n",
    "                        # 항목 노드 생성\n",
    "                        create_item_node(item_name, parent_name=parent_name)\n",
    "\n",
    "                        # 자식 항목이 있을 경우 재귀적으로 처리\n",
    "                        if \"children\" in value:\n",
    "                            process_items(value[\"children\"], item_name)\n",
    "                    else:\n",
    "                        # Handle case where value is not a dict but a direct string\n",
    "                        item_name = value\n",
    "                        create_item_node(item_name, parent_name=parent_name)\n",
    "\n",
    "            process_items(value[\"children\"], parent_name=category_name)\n",
    "\n",
    "\n",
    "# 각 JSON 파일을 순차적으로 처리\n",
    "for file_path in json_files:\n",
    "    # JSON 파일 데이터를 Neo4j에 삽입\n",
    "    insert_json_data(file_path)\n",
    "\n",
    "# Neo4j 세션 종료\n",
    "session.close()"
   ]
  }
 ],
 "metadata": {
  "kernelspec": {
   "display_name": "kst_pp",
   "language": "python",
   "name": "python3"
  },
  "language_info": {
   "codemirror_mode": {
    "name": "ipython",
    "version": 3
   },
   "file_extension": ".py",
   "mimetype": "text/x-python",
   "name": "python",
   "nbconvert_exporter": "python",
   "pygments_lexer": "ipython3",
   "version": "3.9.20"
  }
 },
 "nbformat": 4,
 "nbformat_minor": 2
}
