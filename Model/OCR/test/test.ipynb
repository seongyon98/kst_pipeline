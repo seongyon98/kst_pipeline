{
 "cells": [
  {
   "cell_type": "code",
   "execution_count": null,
   "metadata": {
    "vscode": {
     "languageId": "plaintext"
    }
   },
   "outputs": [],
   "source": [
    "import matplotlib.pyplot as plt\n",
    "\n",
    "# 테스트 코드\n",
    "if __name__ == \"__main__\":\n",
    "    config = load_project_config()\n",
    "    image_dir = os.path.join(config[\"local_paths\"][\"ocr_data_dir\"], \"images\", \"train\")\n",
    "    label_dir = os.path.join(config[\"local_paths\"][\"ocr_data_dir\"], \"labels\", \"train\")\n",
    "    \n",
    "    processor = None  # Processor는 여기서는 필요하지 않음\n",
    "    dataset = OCRDataset(image_dir, label_dir, processor)\n",
    "    \n",
    "    for idx in range(3):  # 상위 3개의 데이터를 확인\n",
    "        cropped_images, text = dataset[idx]\n",
    "        print(f\"Text: {text}\")\n",
    "        \n",
    "        # bbox 영역 시각화\n",
    "        for i, crop in enumerate(cropped_images):\n",
    "            plt.subplot(1, len(cropped_images), i+1)\n",
    "            plt.imshow(crop.permute(1, 2, 0))  # Tensor를 이미지로 변환\n",
    "            plt.axis(\"off\")\n",
    "        plt.show()\n"
   ]
  }
 ],
 "metadata": {
  "language_info": {
   "name": "python"
  }
 },
 "nbformat": 4,
 "nbformat_minor": 2
}
