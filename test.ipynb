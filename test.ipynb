{
 "cells": [
  {
   "cell_type": "code",
   "execution_count": 3,
   "metadata": {},
   "outputs": [],
   "source": [
    "import pandas as pd\n",
    "import numpy as np\n",
    "\n",
    "# 학생 응답 데이터\n",
    "data = pd.DataFrame({\n",
    "    'A': [1, 1, 0, 1, 0],\n",
    "    'B': [1, 0, 0, 1, 0],\n",
    "    'C': [1, 1, 1, 1, 0]\n",
    "})"
   ]
  },
  {
   "cell_type": "code",
   "execution_count": null,
   "metadata": {},
   "outputs": [
    {
     "name": "stdout",
     "output_type": "stream",
     "text": [
      "예측된 관계: [0]\n"
     ]
    },
    {
     "name": "stderr",
     "output_type": "stream",
     "text": [
      "C:\\Users\\82107\\AppData\\Roaming\\Python\\Python311\\site-packages\\sklearn\\base.py:493: UserWarning: X does not have valid feature names, but RandomForestClassifier was fitted with feature names\n",
      "  warnings.warn(\n"
     ]
    }
   ],
   "source": [
    "from sklearn.ensemble import RandomForestClassifier\n",
    "\n",
    "\n",
    "\n",
    "# 입력 데이터 및 레이블 정의\n",
    "X = data[['A', 'B', 'C']]  # 응답 데이터\n",
    "y = [1, 0, 1, 0, 1]  # A → B 관계 여부\n",
    "\n",
    "# 모델 학습\n",
    "model = RandomForestClassifier()\n",
    "model.fit(X, y)\n",
    "\n",
    "# 관계 예측\n",
    "new_data = [[1, 0, 1]]  # 새로운 학생 응답\n",
    "prediction = model.predict(new_data)\n",
    "print(f\"예측된 관계: {prediction}\")\n"
   ]
  },
  {
   "cell_type": "code",
   "execution_count": 5,
   "metadata": {},
   "outputs": [
    {
     "ename": "ModuleNotFoundError",
     "evalue": "No module named 'torch_geometric'",
     "output_type": "error",
     "traceback": [
      "\u001b[1;31m---------------------------------------------------------------------------\u001b[0m",
      "\u001b[1;31mModuleNotFoundError\u001b[0m                       Traceback (most recent call last)",
      "Cell \u001b[1;32mIn[5], line 2\u001b[0m\n\u001b[0;32m      1\u001b[0m \u001b[38;5;28;01mimport\u001b[39;00m \u001b[38;5;21;01mtorch\u001b[39;00m\n\u001b[1;32m----> 2\u001b[0m \u001b[38;5;28;01mfrom\u001b[39;00m \u001b[38;5;21;01mtorch_geometric\u001b[39;00m\u001b[38;5;21;01m.\u001b[39;00m\u001b[38;5;21;01mdata\u001b[39;00m \u001b[38;5;28;01mimport\u001b[39;00m Data\n\u001b[0;32m      4\u001b[0m \u001b[38;5;66;03m# 그래프 정의\u001b[39;00m\n\u001b[0;32m      5\u001b[0m nodes \u001b[38;5;241m=\u001b[39m torch\u001b[38;5;241m.\u001b[39mtensor([\u001b[38;5;241m0\u001b[39m, \u001b[38;5;241m1\u001b[39m, \u001b[38;5;241m2\u001b[39m])  \u001b[38;5;66;03m# 문제 A, B, C\u001b[39;00m\n",
      "\u001b[1;31mModuleNotFoundError\u001b[0m: No module named 'torch_geometric'"
     ]
    }
   ],
   "source": [
    "import torch\n",
    "from torch_geometric.data import Data\n",
    "\n",
    "# 그래프 정의\n",
    "nodes = torch.tensor([0, 1, 2])  # 문제 A, B, C\n",
    "edges = torch.tensor([[0, 1], [1, 2]], dtype=torch.long).t()  # A → B, B → C\n",
    "\n",
    "graph_data = Data(x=nodes, edge_index=edges)\n",
    "\n",
    "# GNN 학습 (PyTorch Geometric 활용)\n"
   ]
  },
  {
   "cell_type": "code",
   "execution_count": null,
   "metadata": {},
   "outputs": [],
   "source": [
    "import numpy as np\n",
    "from sklearn.metrics.pairwise import cosine_similarity\n",
    "\n",
    "# 1. 벡터 추출\n",
    "embeddings = [node['embedding'] for node in nodes]\n",
    "\n",
    "# 2. 코사인 유사도 계산\n",
    "similarity_matrix = cosine_similarity(embeddings)\n",
    "\n",
    "# 3. 유사도 기반 관계 추정\n",
    "threshold = 0.7  # 유사도 임계값\n",
    "edges = []\n",
    "for i in range(len(nodes)):\n",
    "    for j in range(i + 1, len(nodes)):\n",
    "        similarity = similarity_matrix[i, j]\n",
    "        if similarity > threshold:\n",
    "            edges.append({\"source\": nodes[i]['id'], \"target\": nodes[j]['id'], \"similarity\": similarity})\n"
   ]
  }
 ],
 "metadata": {
  "kernelspec": {
   "display_name": "Python 3",
   "language": "python",
   "name": "python3"
  },
  "language_info": {
   "codemirror_mode": {
    "name": "ipython",
    "version": 3
   },
   "file_extension": ".py",
   "mimetype": "text/x-python",
   "name": "python",
   "nbconvert_exporter": "python",
   "pygments_lexer": "ipython3",
   "version": "3.11.4"
  }
 },
 "nbformat": 4,
 "nbformat_minor": 2
}
