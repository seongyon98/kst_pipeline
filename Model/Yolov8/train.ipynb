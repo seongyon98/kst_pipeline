{
 "cells": [
  {
   "cell_type": "code",
   "execution_count": 1,
   "metadata": {},
   "outputs": [
    {
     "name": "stdout",
     "output_type": "stream",
     "text": [
      "YOLO 포맷 라벨 파일이 C:/Users/user/Desktop/aws_s3_Data/labels_format에 저장되었습니다.\n"
     ]
    }
   ],
   "source": [
    "import os\n",
    "\n",
    "# 원본 라벨 파일 경로 및 YOLO 포맷 라벨 저장 경로\n",
    "input_label_dir = (\n",
    "    \"C:/Users/user/Desktop/aws_s3_Data/labels\"  # 원본 라벨 파일이 있는 폴더\n",
    ")\n",
    "output_label_dir = (\n",
    "    \"C:/Users/user/Desktop/aws_s3_Data/labels_format\"  # YOLO 포맷으로 저장할 폴더\n",
    ")\n",
    "\n",
    "# 출력 폴더 생성\n",
    "os.makedirs(output_label_dir, exist_ok=True)\n",
    "\n",
    "\n",
    "# YOLO 포맷으로 변환하는 함수\n",
    "def convert_to_yolo_format(label_file, output_dir):\n",
    "    with open(label_file, \"r\", encoding=\"utf-8\") as f:\n",
    "        lines = f.readlines()\n",
    "\n",
    "    bboxs_section = False\n",
    "    yolo_labels = []\n",
    "\n",
    "    # bboxs 섹션만 처리\n",
    "    for line in lines:\n",
    "        if \"[bboxs]\" in line:\n",
    "            bboxs_section = True\n",
    "            continue\n",
    "        if \"[question_text]\" in line:\n",
    "            bboxs_section = False\n",
    "            break\n",
    "\n",
    "        if bboxs_section and line.strip():  # bboxs 섹션 내부\n",
    "            values = line.strip().split()\n",
    "            if len(values) == 5:  # YOLO 포맷: class, x_center, y_center, width, height\n",
    "                class_id = int(values[0])  # 클래스 ID (0: 텍스트, 1: 비텍스트)\n",
    "                x_center = float(values[1])\n",
    "                y_center = float(values[2])\n",
    "                width = float(values[3])\n",
    "                height = float(values[4])\n",
    "                yolo_labels.append(f\"{class_id} {x_center} {y_center} {width} {height}\")\n",
    "\n",
    "    # YOLO 포맷 파일 저장\n",
    "    output_file = os.path.join(output_dir, os.path.basename(label_file))\n",
    "    output_file = output_file.replace(\".txt\", \".txt\")  # 동일한 이름으로 저장\n",
    "    with open(output_file, \"w\", encoding=\"utf-8\") as f:\n",
    "        f.write(\"\\n\".join(yolo_labels))\n",
    "\n",
    "\n",
    "# 디렉토리 내 모든 파일 변환\n",
    "for label_file in os.listdir(input_label_dir):\n",
    "    if label_file.endswith(\".txt\"):\n",
    "        convert_to_yolo_format(\n",
    "            os.path.join(input_label_dir, label_file), output_label_dir\n",
    "        )\n",
    "\n",
    "print(f\"YOLO 포맷 라벨 파일이 {output_label_dir}에 저장되었습니다.\")"
   ]
  },
  {
   "cell_type": "code",
   "execution_count": 2,
   "metadata": {},
   "outputs": [
    {
     "name": "stdout",
     "output_type": "stream",
     "text": [
      "학습 데이터 12178개, 검증 데이터 3045개로 분리되었습니다.\n"
     ]
    }
   ],
   "source": [
    "import os\n",
    "import shutil\n",
    "import random\n",
    "\n",
    "# 데이터 경로\n",
    "DATASET_ROOT = \"C:/Users/user/Desktop/aws_s3_Data\"\n",
    "IMAGE_DIR = os.path.join(DATASET_ROOT, \"images\")\n",
    "LABEL_DIR = os.path.join(DATASET_ROOT, \"labels_format\")\n",
    "\n",
    "# 분리된 데이터 저장 경로\n",
    "TRAIN_IMAGE_DIR = os.path.join(DATASET_ROOT, \"images/train\")\n",
    "VAL_IMAGE_DIR = os.path.join(DATASET_ROOT, \"images/val\")\n",
    "TRAIN_LABEL_DIR = os.path.join(DATASET_ROOT, \"labels/train\")\n",
    "VAL_LABEL_DIR = os.path.join(DATASET_ROOT, \"labels/val\")\n",
    "\n",
    "# 폴더 생성\n",
    "os.makedirs(TRAIN_IMAGE_DIR, exist_ok=True)\n",
    "os.makedirs(VAL_IMAGE_DIR, exist_ok=True)\n",
    "os.makedirs(TRAIN_LABEL_DIR, exist_ok=True)\n",
    "os.makedirs(VAL_LABEL_DIR, exist_ok=True)\n",
    "\n",
    "# 이미지와 라벨 파일 리스트 가져오기\n",
    "image_files = [f for f in os.listdir(IMAGE_DIR) if f.endswith((\".jpg\", \".png\"))]\n",
    "label_files = [f for f in os.listdir(LABEL_DIR) if f.endswith(\".txt\")]\n",
    "\n",
    "# 데이터 검증: 이미지와 라벨 매칭 확인\n",
    "image_files = sorted(image_files)\n",
    "label_files = sorted(label_files)\n",
    "assert len(image_files) == len(label_files), \"이미지와 라벨 파일 수가 일치하지 않습니다.\"\n",
    "\n",
    "# 데이터를 랜덤하게 섞기\n",
    "data = list(zip(image_files, label_files))\n",
    "random.seed(42)  # 재현성을 위해 고정\n",
    "random.shuffle(data)\n",
    "\n",
    "# 학습/검증 비율 설정\n",
    "train_ratio = 0.8\n",
    "train_count = int(len(data) * train_ratio)\n",
    "\n",
    "train_data = data[:train_count]\n",
    "val_data = data[train_count:]\n",
    "\n",
    "# 파일 이동\n",
    "def move_files(data, src_image_dir, src_label_dir, dest_image_dir, dest_label_dir):\n",
    "    for image_file, label_file in data:\n",
    "        shutil.move(os.path.join(src_image_dir, image_file), os.path.join(dest_image_dir, image_file))\n",
    "        shutil.move(os.path.join(src_label_dir, label_file), os.path.join(dest_label_dir, label_file))\n",
    "\n",
    "# 학습 데이터 이동\n",
    "move_files(train_data, IMAGE_DIR, LABEL_DIR, TRAIN_IMAGE_DIR, TRAIN_LABEL_DIR)\n",
    "# 검증 데이터 이동\n",
    "move_files(val_data, IMAGE_DIR, LABEL_DIR, VAL_IMAGE_DIR, VAL_LABEL_DIR)\n",
    "\n",
    "print(f\"학습 데이터 {len(train_data)}개, 검증 데이터 {len(val_data)}개로 분리되었습니다.\")\n"
   ]
  },
  {
   "cell_type": "code",
   "execution_count": 3,
   "metadata": {},
   "outputs": [
    {
     "name": "stdout",
     "output_type": "stream",
     "text": [
      "==== YOLOv8 학습 시작 ====\n",
      "New https://pypi.org/project/ultralytics/8.3.54 available  Update with 'pip install -U ultralytics'\n",
      "Ultralytics 8.3.48  Python-3.9.20 torch-2.5.1+cpu CPU (12th Gen Intel Core(TM) i7-12700)\n",
      "\u001b[34m\u001b[1mengine\\trainer: \u001b[0mtask=detect, mode=train, model=yolov8n.pt, data=C:/Users/user/Desktop/aws_s3_Data\\data.yaml, epochs=20, time=None, patience=3, batch=8, imgsz=640, save=True, save_period=-1, cache=False, device=cpu, workers=4, project=None, name=text_nontext_classifier5, exist_ok=False, pretrained=True, optimizer=Adam, verbose=True, seed=0, deterministic=True, single_cls=False, rect=False, cos_lr=False, close_mosaic=10, resume=False, amp=True, fraction=1.0, profile=False, freeze=None, multi_scale=False, overlap_mask=True, mask_ratio=4, dropout=0.0, val=True, split=val, save_json=False, save_hybrid=False, conf=None, iou=0.7, max_det=300, half=False, dnn=False, plots=True, source=None, vid_stride=1, stream_buffer=False, visualize=False, augment=True, agnostic_nms=False, classes=None, retina_masks=False, embed=None, show=False, save_frames=False, save_txt=False, save_conf=False, save_crop=False, show_labels=True, show_conf=True, show_boxes=True, line_width=None, format=torchscript, keras=False, optimize=False, int8=False, dynamic=False, simplify=True, opset=None, workspace=None, nms=False, lr0=0.01, lrf=0.01, momentum=0.937, weight_decay=0.0005, warmup_epochs=3.0, warmup_momentum=0.8, warmup_bias_lr=0.1, box=7.5, cls=0.5, dfl=1.5, pose=12.0, kobj=1.0, nbs=64, hsv_h=0.015, hsv_s=0.7, hsv_v=0.4, degrees=0.0, translate=0.1, scale=0.5, shear=0.0, perspective=0.0, flipud=0.0, fliplr=0.5, bgr=0.0, mosaic=1.0, mixup=0.0, copy_paste=0.0, copy_paste_mode=flip, auto_augment=randaugment, erasing=0.4, crop_fraction=1.0, cfg=None, tracker=botsort.yaml, save_dir=c:\\Users\\user\\runs\\detect\\text_nontext_classifier5\n",
      "Overriding model.yaml nc=80 with nc=2\n",
      "\n",
      "                   from  n    params  module                                       arguments                     \n",
      "  0                  -1  1       464  ultralytics.nn.modules.conv.Conv             [3, 16, 3, 2]                 \n",
      "  1                  -1  1      4672  ultralytics.nn.modules.conv.Conv             [16, 32, 3, 2]                \n",
      "  2                  -1  1      7360  ultralytics.nn.modules.block.C2f             [32, 32, 1, True]             \n",
      "  3                  -1  1     18560  ultralytics.nn.modules.conv.Conv             [32, 64, 3, 2]                \n",
      "  4                  -1  2     49664  ultralytics.nn.modules.block.C2f             [64, 64, 2, True]             \n",
      "  5                  -1  1     73984  ultralytics.nn.modules.conv.Conv             [64, 128, 3, 2]               \n",
      "  6                  -1  2    197632  ultralytics.nn.modules.block.C2f             [128, 128, 2, True]           \n",
      "  7                  -1  1    295424  ultralytics.nn.modules.conv.Conv             [128, 256, 3, 2]              \n",
      "  8                  -1  1    460288  ultralytics.nn.modules.block.C2f             [256, 256, 1, True]           \n",
      "  9                  -1  1    164608  ultralytics.nn.modules.block.SPPF            [256, 256, 5]                 \n",
      " 10                  -1  1         0  torch.nn.modules.upsampling.Upsample         [None, 2, 'nearest']          \n",
      " 11             [-1, 6]  1         0  ultralytics.nn.modules.conv.Concat           [1]                           \n",
      " 12                  -1  1    148224  ultralytics.nn.modules.block.C2f             [384, 128, 1]                 \n",
      " 13                  -1  1         0  torch.nn.modules.upsampling.Upsample         [None, 2, 'nearest']          \n",
      " 14             [-1, 4]  1         0  ultralytics.nn.modules.conv.Concat           [1]                           \n",
      " 15                  -1  1     37248  ultralytics.nn.modules.block.C2f             [192, 64, 1]                  \n",
      " 16                  -1  1     36992  ultralytics.nn.modules.conv.Conv             [64, 64, 3, 2]                \n",
      " 17            [-1, 12]  1         0  ultralytics.nn.modules.conv.Concat           [1]                           \n",
      " 18                  -1  1    123648  ultralytics.nn.modules.block.C2f             [192, 128, 1]                 \n",
      " 19                  -1  1    147712  ultralytics.nn.modules.conv.Conv             [128, 128, 3, 2]              \n",
      " 20             [-1, 9]  1         0  ultralytics.nn.modules.conv.Concat           [1]                           \n",
      " 21                  -1  1    493056  ultralytics.nn.modules.block.C2f             [384, 256, 1]                 \n",
      " 22        [15, 18, 21]  1    751702  ultralytics.nn.modules.head.Detect           [2, [64, 128, 256]]           \n",
      "Model summary: 225 layers, 3,011,238 parameters, 3,011,222 gradients, 8.2 GFLOPs\n",
      "\n",
      "Transferred 319/355 items from pretrained weights\n",
      "Freezing layer 'model.22.dfl.conv.weight'\n"
     ]
    },
    {
     "name": "stderr",
     "output_type": "stream",
     "text": [
      "\u001b[34m\u001b[1mtrain: \u001b[0mScanning C:\\Users\\user\\Desktop\\aws_s3_Data\\labels\\train... 12178 images, 0 backgrounds, 0 corrupt: 100%|██████████| 12178/12178 [00:11<00:00, 1038.77it/s]"
     ]
    },
    {
     "name": "stdout",
     "output_type": "stream",
     "text": [
      "\u001b[34m\u001b[1mtrain: \u001b[0mWARNING  C:\\Users\\user\\Desktop\\aws_s3_Data\\images\\train\\P3_1_03_34290_161336.png: 1 duplicate labels removed\n",
      "\u001b[34m\u001b[1mtrain: \u001b[0mWARNING  C:\\Users\\user\\Desktop\\aws_s3_Data\\images\\train\\P4_1_05_23128_63810.png: 1 duplicate labels removed\n",
      "\u001b[34m\u001b[1mtrain: \u001b[0mWARNING  C:\\Users\\user\\Desktop\\aws_s3_Data\\images\\train\\P4_1_06_23352_65124.png: 1 duplicate labels removed\n",
      "\u001b[34m\u001b[1mtrain: \u001b[0mWARNING  C:\\Users\\user\\Desktop\\aws_s3_Data\\images\\train\\P4_2_04_40324_157628.png: 1 duplicate labels removed\n",
      "\u001b[34m\u001b[1mtrain: \u001b[0mWARNING  C:\\Users\\user\\Desktop\\aws_s3_Data\\images\\train\\P4_2_06_33364_129538.png: 1 duplicate labels removed\n",
      "\u001b[34m\u001b[1mtrain: \u001b[0mWARNING  C:\\Users\\user\\Desktop\\aws_s3_Data\\images\\train\\P4_2_06_33366_129748.png: 1 duplicate labels removed\n",
      "\u001b[34m\u001b[1mtrain: \u001b[0mWARNING  C:\\Users\\user\\Desktop\\aws_s3_Data\\images\\train\\P5_1_01_34423_137097.png: 1 duplicate labels removed\n",
      "\u001b[34m\u001b[1mtrain: \u001b[0mWARNING  C:\\Users\\user\\Desktop\\aws_s3_Data\\images\\train\\P5_1_03_42328_164871.png: 1 duplicate labels removed\n",
      "\u001b[34m\u001b[1mtrain: \u001b[0mWARNING  C:\\Users\\user\\Desktop\\aws_s3_Data\\images\\train\\P5_1_06_42681_166543.png: 1 duplicate labels removed\n",
      "\u001b[34m\u001b[1mtrain: \u001b[0mWARNING  C:\\Users\\user\\Desktop\\aws_s3_Data\\images\\train\\P5_1_06_42774_166899.png: 1 duplicate labels removed\n",
      "\u001b[34m\u001b[1mtrain: \u001b[0mWARNING  C:\\Users\\user\\Desktop\\aws_s3_Data\\images\\train\\P5_2_03_33600_130980.png: 1 duplicate labels removed\n",
      "\u001b[34m\u001b[1mtrain: \u001b[0mWARNING  C:\\Users\\user\\Desktop\\aws_s3_Data\\images\\train\\P5_2_05_40650_158481.png: 1 duplicate labels removed\n",
      "\u001b[34m\u001b[1mtrain: \u001b[0mWARNING  C:\\Users\\user\\Desktop\\aws_s3_Data\\images\\train\\P6_1_01_27242_92237.png: 1 duplicate labels removed\n",
      "\u001b[34m\u001b[1mtrain: \u001b[0mWARNING  C:\\Users\\user\\Desktop\\aws_s3_Data\\images\\train\\P6_1_02_19797_42095.png: 1 duplicate labels removed\n",
      "\u001b[34m\u001b[1mtrain: \u001b[0mWARNING  C:\\Users\\user\\Desktop\\aws_s3_Data\\images\\train\\P6_1_05_28179_96425.png: 1 duplicate labels removed\n",
      "\u001b[34m\u001b[1mtrain: \u001b[0mWARNING  C:\\Users\\user\\Desktop\\aws_s3_Data\\images\\train\\P6_1_06_19244_38079.png: 1 duplicate labels removed\n",
      "\u001b[34m\u001b[1mtrain: \u001b[0mWARNING  C:\\Users\\user\\Desktop\\aws_s3_Data\\images\\train\\P6_1_06_28015_96130.png: 1 duplicate labels removed\n"
     ]
    },
    {
     "name": "stderr",
     "output_type": "stream",
     "text": [
      "\n"
     ]
    },
    {
     "name": "stdout",
     "output_type": "stream",
     "text": [
      "\u001b[34m\u001b[1mtrain: \u001b[0mNew cache created: C:\\Users\\user\\Desktop\\aws_s3_Data\\labels\\train.cache\n"
     ]
    },
    {
     "name": "stderr",
     "output_type": "stream",
     "text": [
      "\u001b[34m\u001b[1mval: \u001b[0mScanning C:\\Users\\user\\Desktop\\aws_s3_Data\\labels\\val... 3045 images, 0 backgrounds, 0 corrupt: 100%|██████████| 3045/3045 [00:02<00:00, 1017.68it/s]"
     ]
    },
    {
     "name": "stdout",
     "output_type": "stream",
     "text": [
      "\u001b[34m\u001b[1mval: \u001b[0mWARNING  C:\\Users\\user\\Desktop\\aws_s3_Data\\images\\val\\P5_2_05_40640_158112.png: 1 duplicate labels removed\n",
      "\u001b[34m\u001b[1mval: \u001b[0mWARNING  C:\\Users\\user\\Desktop\\aws_s3_Data\\images\\val\\P6_2_05_40958_159702.png: 1 duplicate labels removed\n"
     ]
    },
    {
     "name": "stderr",
     "output_type": "stream",
     "text": [
      "\n"
     ]
    },
    {
     "name": "stdout",
     "output_type": "stream",
     "text": [
      "\u001b[34m\u001b[1mval: \u001b[0mNew cache created: C:\\Users\\user\\Desktop\\aws_s3_Data\\labels\\val.cache\n",
      "Plotting labels to c:\\Users\\user\\runs\\detect\\text_nontext_classifier5\\labels.jpg... \n",
      "\u001b[34m\u001b[1moptimizer:\u001b[0m Adam(lr=0.01, momentum=0.937) with parameter groups 57 weight(decay=0.0), 64 weight(decay=0.0005), 63 bias(decay=0.0)\n",
      "Image sizes 640 train, 640 val\n",
      "Using 0 dataloader workers\n",
      "Logging results to \u001b[1mc:\\Users\\user\\runs\\detect\\text_nontext_classifier5\u001b[0m\n",
      "Starting training for 20 epochs...\n",
      "\n",
      "      Epoch    GPU_mem   box_loss   cls_loss   dfl_loss  Instances       Size\n"
     ]
    },
    {
     "name": "stderr",
     "output_type": "stream",
     "text": [
      "       1/20         0G     0.8478     0.7482      1.019         11        640: 100%|██████████| 1523/1523 [24:36<00:00,  1.03it/s]\n",
      "                 Class     Images  Instances      Box(P          R      mAP50  mAP50-95): 100%|██████████| 191/191 [01:17<00:00,  2.48it/s]"
     ]
    },
    {
     "name": "stdout",
     "output_type": "stream",
     "text": [
      "                   all       3045      10078      0.447      0.462      0.413      0.203\n"
     ]
    },
    {
     "name": "stderr",
     "output_type": "stream",
     "text": [
      "\n"
     ]
    },
    {
     "name": "stdout",
     "output_type": "stream",
     "text": [
      "\n",
      "      Epoch    GPU_mem   box_loss   cls_loss   dfl_loss  Instances       Size\n"
     ]
    },
    {
     "name": "stderr",
     "output_type": "stream",
     "text": [
      "       2/20         0G     0.7059     0.5779     0.9336         22        640: 100%|██████████| 1523/1523 [25:26<00:00,  1.00s/it] \n",
      "                 Class     Images  Instances      Box(P          R      mAP50  mAP50-95): 100%|██████████| 191/191 [01:12<00:00,  2.64it/s]\n"
     ]
    },
    {
     "name": "stdout",
     "output_type": "stream",
     "text": [
      "                   all       3045      10078      0.337      0.336      0.268      0.185\n",
      "\n",
      "      Epoch    GPU_mem   box_loss   cls_loss   dfl_loss  Instances       Size\n"
     ]
    },
    {
     "name": "stderr",
     "output_type": "stream",
     "text": [
      "       3/20         0G     0.6366     0.5301     0.9195         14        640: 100%|██████████| 1523/1523 [27:14<00:00,  1.07s/it]\n",
      "                 Class     Images  Instances      Box(P          R      mAP50  mAP50-95): 100%|██████████| 191/191 [01:19<00:00,  2.40it/s]\n"
     ]
    },
    {
     "name": "stdout",
     "output_type": "stream",
     "text": [
      "                   all       3045      10078       0.75      0.671      0.735        0.5\n",
      "\n",
      "      Epoch    GPU_mem   box_loss   cls_loss   dfl_loss  Instances       Size\n"
     ]
    },
    {
     "name": "stderr",
     "output_type": "stream",
     "text": [
      "       4/20         0G     0.5724     0.4769     0.9027         30        640: 100%|██████████| 1523/1523 [28:14<00:00,  1.11s/it] \n",
      "                 Class     Images  Instances      Box(P          R      mAP50  mAP50-95): 100%|██████████| 191/191 [01:11<00:00,  2.66it/s]\n"
     ]
    },
    {
     "name": "stdout",
     "output_type": "stream",
     "text": [
      "                   all       3045      10078       0.43       0.43       0.39      0.276\n",
      "\n",
      "      Epoch    GPU_mem   box_loss   cls_loss   dfl_loss  Instances       Size\n"
     ]
    },
    {
     "name": "stderr",
     "output_type": "stream",
     "text": [
      "       5/20         0G     0.5562     0.4585     0.8998         12        640: 100%|██████████| 1523/1523 [30:27<00:00,  1.20s/it] \n",
      "                 Class     Images  Instances      Box(P          R      mAP50  mAP50-95): 100%|██████████| 191/191 [01:15<00:00,  2.52it/s]\n"
     ]
    },
    {
     "name": "stdout",
     "output_type": "stream",
     "text": [
      "                   all       3045      10078      0.563      0.562      0.523      0.373\n",
      "\n",
      "      Epoch    GPU_mem   box_loss   cls_loss   dfl_loss  Instances       Size\n"
     ]
    },
    {
     "name": "stderr",
     "output_type": "stream",
     "text": [
      "       6/20         0G     0.5233      0.448     0.8945         14        640: 100%|██████████| 1523/1523 [27:07<00:00,  1.07s/it] \n",
      "                 Class     Images  Instances      Box(P          R      mAP50  mAP50-95): 100%|██████████| 191/191 [01:08<00:00,  2.78it/s]"
     ]
    },
    {
     "name": "stdout",
     "output_type": "stream",
     "text": [
      "                   all       3045      10078       0.77      0.835       0.86      0.588\n"
     ]
    },
    {
     "name": "stderr",
     "output_type": "stream",
     "text": [
      "\n"
     ]
    },
    {
     "name": "stdout",
     "output_type": "stream",
     "text": [
      "\n",
      "      Epoch    GPU_mem   box_loss   cls_loss   dfl_loss  Instances       Size\n"
     ]
    },
    {
     "name": "stderr",
     "output_type": "stream",
     "text": [
      "       7/20         0G     0.5023     0.4231     0.8898          7        640: 100%|██████████| 1523/1523 [22:26<00:00,  1.13it/s]\n",
      "                 Class     Images  Instances      Box(P          R      mAP50  mAP50-95): 100%|██████████| 191/191 [01:08<00:00,  2.79it/s]"
     ]
    },
    {
     "name": "stdout",
     "output_type": "stream",
     "text": [
      "                   all       3045      10078      0.911      0.923      0.965       0.85\n"
     ]
    },
    {
     "name": "stderr",
     "output_type": "stream",
     "text": [
      "\n"
     ]
    },
    {
     "name": "stdout",
     "output_type": "stream",
     "text": [
      "\n",
      "      Epoch    GPU_mem   box_loss   cls_loss   dfl_loss  Instances       Size\n"
     ]
    },
    {
     "name": "stderr",
     "output_type": "stream",
     "text": [
      "       8/20         0G     0.4778     0.4059     0.8875         20        640: 100%|██████████| 1523/1523 [1:02:55<00:00,  2.48s/it]\n",
      "                 Class     Images  Instances      Box(P          R      mAP50  mAP50-95): 100%|██████████| 191/191 [03:15<00:00,  1.03s/it]"
     ]
    },
    {
     "name": "stdout",
     "output_type": "stream",
     "text": [
      "                   all       3045      10078      0.924      0.952      0.973      0.861\n"
     ]
    },
    {
     "name": "stderr",
     "output_type": "stream",
     "text": [
      "\n"
     ]
    },
    {
     "name": "stdout",
     "output_type": "stream",
     "text": [
      "\n",
      "      Epoch    GPU_mem   box_loss   cls_loss   dfl_loss  Instances       Size\n"
     ]
    },
    {
     "name": "stderr",
     "output_type": "stream",
     "text": [
      "       9/20         0G     0.4657     0.4026     0.8855          9        640: 100%|██████████| 1523/1523 [54:21<00:00,  2.14s/it] \n",
      "                 Class     Images  Instances      Box(P          R      mAP50  mAP50-95): 100%|██████████| 191/191 [01:27<00:00,  2.19it/s]"
     ]
    },
    {
     "name": "stdout",
     "output_type": "stream",
     "text": [
      "                   all       3045      10078      0.932       0.92      0.971      0.856\n"
     ]
    },
    {
     "name": "stderr",
     "output_type": "stream",
     "text": [
      "\n"
     ]
    },
    {
     "name": "stdout",
     "output_type": "stream",
     "text": [
      "\n",
      "      Epoch    GPU_mem   box_loss   cls_loss   dfl_loss  Instances       Size\n"
     ]
    },
    {
     "name": "stderr",
     "output_type": "stream",
     "text": [
      "      10/20         0G     0.4508      0.389     0.8806         18        640: 100%|██████████| 1523/1523 [35:29<00:00,  1.40s/it] \n",
      "                 Class     Images  Instances      Box(P          R      mAP50  mAP50-95): 100%|██████████| 191/191 [01:17<00:00,  2.46it/s]"
     ]
    },
    {
     "name": "stdout",
     "output_type": "stream",
     "text": [
      "                   all       3045      10078       0.95      0.944      0.972      0.867\n"
     ]
    },
    {
     "name": "stderr",
     "output_type": "stream",
     "text": [
      "\n"
     ]
    },
    {
     "name": "stdout",
     "output_type": "stream",
     "text": [
      "Closing dataloader mosaic\n",
      "\n",
      "      Epoch    GPU_mem   box_loss   cls_loss   dfl_loss  Instances       Size\n"
     ]
    },
    {
     "name": "stderr",
     "output_type": "stream",
     "text": [
      "      11/20         0G     0.5133     0.4417     0.8778          8        640: 100%|██████████| 1523/1523 [31:08<00:00,  1.23s/it] \n",
      "                 Class     Images  Instances      Box(P          R      mAP50  mAP50-95): 100%|██████████| 191/191 [01:47<00:00,  1.78it/s]"
     ]
    },
    {
     "name": "stdout",
     "output_type": "stream",
     "text": [
      "                   all       3045      10078      0.924      0.945      0.968      0.847\n"
     ]
    },
    {
     "name": "stderr",
     "output_type": "stream",
     "text": [
      "\n"
     ]
    },
    {
     "name": "stdout",
     "output_type": "stream",
     "text": [
      "\n",
      "      Epoch    GPU_mem   box_loss   cls_loss   dfl_loss  Instances       Size\n"
     ]
    },
    {
     "name": "stderr",
     "output_type": "stream",
     "text": [
      "      12/20         0G     0.4885     0.4105      0.869          7        640: 100%|██████████| 1523/1523 [36:50<00:00,  1.45s/it]\n",
      "                 Class     Images  Instances      Box(P          R      mAP50  mAP50-95): 100%|██████████| 191/191 [01:08<00:00,  2.79it/s]"
     ]
    },
    {
     "name": "stdout",
     "output_type": "stream",
     "text": [
      "                   all       3045      10078      0.961      0.964      0.979      0.875\n"
     ]
    },
    {
     "name": "stderr",
     "output_type": "stream",
     "text": [
      "\n"
     ]
    },
    {
     "name": "stdout",
     "output_type": "stream",
     "text": [
      "\n",
      "      Epoch    GPU_mem   box_loss   cls_loss   dfl_loss  Instances       Size\n"
     ]
    },
    {
     "name": "stderr",
     "output_type": "stream",
     "text": [
      "      13/20         0G       0.45     0.3821     0.8596          5        640: 100%|██████████| 1523/1523 [27:30<00:00,  1.08s/it]\n",
      "                 Class     Images  Instances      Box(P          R      mAP50  mAP50-95): 100%|██████████| 191/191 [01:47<00:00,  1.77it/s]"
     ]
    },
    {
     "name": "stdout",
     "output_type": "stream",
     "text": [
      "                   all       3045      10078      0.957      0.952      0.979      0.881\n"
     ]
    },
    {
     "name": "stderr",
     "output_type": "stream",
     "text": [
      "\n"
     ]
    },
    {
     "name": "stdout",
     "output_type": "stream",
     "text": [
      "\n",
      "      Epoch    GPU_mem   box_loss   cls_loss   dfl_loss  Instances       Size\n"
     ]
    },
    {
     "name": "stderr",
     "output_type": "stream",
     "text": [
      "      14/20         0G      0.423      0.357     0.8562          6        640: 100%|██████████| 1523/1523 [34:15<00:00,  1.35s/it] \n",
      "                 Class     Images  Instances      Box(P          R      mAP50  mAP50-95): 100%|██████████| 191/191 [01:16<00:00,  2.49it/s]"
     ]
    },
    {
     "name": "stdout",
     "output_type": "stream",
     "text": [
      "                   all       3045      10078      0.965      0.971      0.982      0.906\n"
     ]
    },
    {
     "name": "stderr",
     "output_type": "stream",
     "text": [
      "\n"
     ]
    },
    {
     "name": "stdout",
     "output_type": "stream",
     "text": [
      "\n",
      "      Epoch    GPU_mem   box_loss   cls_loss   dfl_loss  Instances       Size\n"
     ]
    },
    {
     "name": "stderr",
     "output_type": "stream",
     "text": [
      "      15/20         0G     0.4035     0.3429     0.8507          7        640: 100%|██████████| 1523/1523 [25:48<00:00,  1.02s/it]\n",
      "                 Class     Images  Instances      Box(P          R      mAP50  mAP50-95): 100%|██████████| 191/191 [01:25<00:00,  2.23it/s]"
     ]
    },
    {
     "name": "stdout",
     "output_type": "stream",
     "text": [
      "                   all       3045      10078       0.96      0.956      0.978      0.898\n"
     ]
    },
    {
     "name": "stderr",
     "output_type": "stream",
     "text": [
      "\n"
     ]
    },
    {
     "name": "stdout",
     "output_type": "stream",
     "text": [
      "\n",
      "      Epoch    GPU_mem   box_loss   cls_loss   dfl_loss  Instances       Size\n"
     ]
    },
    {
     "name": "stderr",
     "output_type": "stream",
     "text": [
      "      16/20         0G     0.3799     0.3291     0.8459          4        640: 100%|██████████| 1523/1523 [23:49<00:00,  1.07it/s]\n",
      "                 Class     Images  Instances      Box(P          R      mAP50  mAP50-95): 100%|██████████| 191/191 [01:13<00:00,  2.61it/s]"
     ]
    },
    {
     "name": "stdout",
     "output_type": "stream",
     "text": [
      "                   all       3045      10078       0.96      0.969      0.981      0.912\n"
     ]
    },
    {
     "name": "stderr",
     "output_type": "stream",
     "text": [
      "\n"
     ]
    },
    {
     "name": "stdout",
     "output_type": "stream",
     "text": [
      "\n",
      "      Epoch    GPU_mem   box_loss   cls_loss   dfl_loss  Instances       Size\n"
     ]
    },
    {
     "name": "stderr",
     "output_type": "stream",
     "text": [
      "      17/20         0G      0.358     0.3097     0.8428          1        640: 100%|██████████| 1523/1523 [23:14<00:00,  1.09it/s]\n",
      "                 Class     Images  Instances      Box(P          R      mAP50  mAP50-95): 100%|██████████| 191/191 [01:12<00:00,  2.63it/s]"
     ]
    },
    {
     "name": "stdout",
     "output_type": "stream",
     "text": [
      "                   all       3045      10078       0.97      0.972      0.984      0.922\n"
     ]
    },
    {
     "name": "stderr",
     "output_type": "stream",
     "text": [
      "\n"
     ]
    },
    {
     "name": "stdout",
     "output_type": "stream",
     "text": [
      "\n",
      "      Epoch    GPU_mem   box_loss   cls_loss   dfl_loss  Instances       Size\n"
     ]
    },
    {
     "name": "stderr",
     "output_type": "stream",
     "text": [
      "      18/20         0G     0.3345     0.2919     0.8376          5        640: 100%|██████████| 1523/1523 [23:16<00:00,  1.09it/s]\n",
      "                 Class     Images  Instances      Box(P          R      mAP50  mAP50-95): 100%|██████████| 191/191 [01:12<00:00,  2.63it/s]"
     ]
    },
    {
     "name": "stdout",
     "output_type": "stream",
     "text": [
      "                   all       3045      10078      0.971      0.976      0.984      0.926\n"
     ]
    },
    {
     "name": "stderr",
     "output_type": "stream",
     "text": [
      "\n"
     ]
    },
    {
     "name": "stdout",
     "output_type": "stream",
     "text": [
      "\n",
      "      Epoch    GPU_mem   box_loss   cls_loss   dfl_loss  Instances       Size\n"
     ]
    },
    {
     "name": "stderr",
     "output_type": "stream",
     "text": [
      "      19/20         0G     0.3105     0.2707      0.834          7        640: 100%|██████████| 1523/1523 [33:38<00:00,  1.33s/it]\n",
      "                 Class     Images  Instances      Box(P          R      mAP50  mAP50-95): 100%|██████████| 191/191 [01:47<00:00,  1.78it/s]"
     ]
    },
    {
     "name": "stdout",
     "output_type": "stream",
     "text": [
      "                   all       3045      10078      0.976      0.978      0.985      0.931\n"
     ]
    },
    {
     "name": "stderr",
     "output_type": "stream",
     "text": [
      "\n"
     ]
    },
    {
     "name": "stdout",
     "output_type": "stream",
     "text": [
      "\n",
      "      Epoch    GPU_mem   box_loss   cls_loss   dfl_loss  Instances       Size\n"
     ]
    },
    {
     "name": "stderr",
     "output_type": "stream",
     "text": [
      "      20/20         0G     0.2858     0.2542     0.8307          6        640: 100%|██████████| 1523/1523 [26:55<00:00,  1.06s/it] \n",
      "                 Class     Images  Instances      Box(P          R      mAP50  mAP50-95): 100%|██████████| 191/191 [01:22<00:00,  2.32it/s]"
     ]
    },
    {
     "name": "stdout",
     "output_type": "stream",
     "text": [
      "                   all       3045      10078      0.973      0.978      0.985      0.936\n"
     ]
    },
    {
     "name": "stderr",
     "output_type": "stream",
     "text": [
      "\n"
     ]
    },
    {
     "name": "stdout",
     "output_type": "stream",
     "text": [
      "\n",
      "20 epochs completed in 10.895 hours.\n",
      "Optimizer stripped from c:\\Users\\user\\runs\\detect\\text_nontext_classifier5\\weights\\last.pt, 6.2MB\n",
      "Optimizer stripped from c:\\Users\\user\\runs\\detect\\text_nontext_classifier5\\weights\\best.pt, 6.2MB\n",
      "\n",
      "Validating c:\\Users\\user\\runs\\detect\\text_nontext_classifier5\\weights\\best.pt...\n",
      "Ultralytics 8.3.48  Python-3.9.20 torch-2.5.1+cpu CPU (12th Gen Intel Core(TM) i7-12700)\n",
      "Model summary (fused): 168 layers, 3,006,038 parameters, 0 gradients, 8.1 GFLOPs\n"
     ]
    },
    {
     "name": "stderr",
     "output_type": "stream",
     "text": [
      "                 Class     Images  Instances      Box(P          R      mAP50  mAP50-95): 100%|██████████| 191/191 [02:26<00:00,  1.30it/s]\n"
     ]
    },
    {
     "name": "stdout",
     "output_type": "stream",
     "text": [
      "                   all       3045      10078      0.978      0.977      0.987      0.948\n",
      "                  text       3044       9066      0.987      0.984      0.994      0.963\n",
      "              non-text       1006       1012       0.97       0.97       0.98      0.934\n",
      "Speed: 0.4ms preprocess, 44.7ms inference, 0.0ms loss, 0.2ms postprocess per image\n",
      "Results saved to \u001b[1mc:\\Users\\user\\runs\\detect\\text_nontext_classifier5\u001b[0m\n",
      "==== YOLOv8 검증 시작 ====\n",
      "Ultralytics 8.3.48  Python-3.9.20 torch-2.5.1+cpu CPU (12th Gen Intel Core(TM) i7-12700)\n",
      "Model summary (fused): 168 layers, 3,006,038 parameters, 0 gradients, 8.1 GFLOPs\n"
     ]
    },
    {
     "name": "stderr",
     "output_type": "stream",
     "text": [
      "\u001b[34m\u001b[1mval: \u001b[0mScanning C:\\Users\\user\\Desktop\\aws_s3_Data\\labels\\val.cache... 3045 images, 0 backgrounds, 0 corrupt: 100%|██████████| 3045/3045 [00:00<?, ?it/s]"
     ]
    },
    {
     "name": "stdout",
     "output_type": "stream",
     "text": [
      "\u001b[34m\u001b[1mval: \u001b[0mWARNING  C:\\Users\\user\\Desktop\\aws_s3_Data\\images\\val\\P5_2_05_40640_158112.png: 1 duplicate labels removed\n",
      "\u001b[34m\u001b[1mval: \u001b[0mWARNING  C:\\Users\\user\\Desktop\\aws_s3_Data\\images\\val\\P6_2_05_40958_159702.png: 1 duplicate labels removed\n"
     ]
    },
    {
     "name": "stderr",
     "output_type": "stream",
     "text": [
      "\n",
      "                 Class     Images  Instances      Box(P          R      mAP50  mAP50-95): 100%|██████████| 381/381 [02:25<00:00,  2.62it/s]\n"
     ]
    },
    {
     "name": "stdout",
     "output_type": "stream",
     "text": [
      "                   all       3045      10078      0.978      0.978      0.987      0.947\n",
      "                  text       3044       9066      0.986      0.985      0.994      0.963\n",
      "              non-text       1006       1012      0.971      0.971       0.98      0.932\n",
      "Speed: 0.4ms preprocess, 44.2ms inference, 0.0ms loss, 0.2ms postprocess per image\n",
      "Results saved to \u001b[1mc:\\Users\\user\\runs\\detect\\text_nontext_classifier52\u001b[0m\n",
      "==== 검증 결과 ====\n",
      "Precision: 0.9868\n",
      "Recall: 0.9472\n",
      "mAP@50: 0.9868\n",
      "mAP@50-95: 0.9472\n",
      "최종 훈련된 모델이 저장되었습니다: C:/Users/user/Desktop/aws_s3_Data\\yolov8_text_nontext.pt\n"
     ]
    }
   ],
   "source": [
    "from ultralytics import YOLO\n",
    "import yaml\n",
    "import os\n",
    "\n",
    "# 1. 모델 초기화\n",
    "model = YOLO(\"yolov8n.pt\")  # Pretrained YOLOv8 모델 로드\n",
    "\n",
    "# 2. 데이터 경로 설정 및 검증\n",
    "DATASET_ROOT = \"C:/Users/user/Desktop/aws_s3_Data\"\n",
    "data_config = {\n",
    "    \"path\": DATASET_ROOT,  # 데이터셋 루트 디렉토리\n",
    "    \"train\": \"images/train\",  # 학습 이미지 경로\n",
    "    \"val\": \"images/val\",  # 검증 이미지 경로\n",
    "    \"names\": [\"text\", \"non-text\"],  # 클래스 이름\n",
    "}\n",
    "\n",
    "data_yaml_path = os.path.join(DATASET_ROOT, \"data.yaml\")\n",
    "\n",
    "# 3. 데이터 설정 파일 저장 (data.yaml 생성)\n",
    "with open(data_yaml_path, \"w\") as file:\n",
    "    yaml.dump(data_config, file)\n",
    "\n",
    "# 4. YOLOv8 학습\n",
    "print(\"==== YOLOv8 학습 시작 ====\")\n",
    "model.train(\n",
    "    data=data_yaml_path,  # 데이터셋 설정 파일\n",
    "    epochs=20,  # 학습 에포크 수 (10~20 추천)\n",
    "    imgsz=640,  # 이미지 크기 (기본 640, 큰 객체는 512로 축소 가능)\n",
    "    batch=8,  # CPU에서 학습 시 작은 배치 크기 (GPU 사용 시 16~32 추천)\n",
    "    device=\"cpu\",  # GPU 사용 시 '0' 또는 'cuda'\n",
    "    name=\"text_nontext_classifier\",  # 결과 저장 디렉토리 이름\n",
    "    verbose=True,  # 학습 로그를 상세히 출력\n",
    "    patience=3,  # EarlyStopping: 성능 개선 없으면 3 에포크 후 종료\n",
    "    optimizer=\"Adam\",  # Adam 최적화 알고리즘 사용\n",
    "    workers=4,  # 데이터 로더 스레드 수 (CPU에 따라 조정)\n",
    "    augment=True,  # 데이터 증강 활성화\n",
    ")\n",
    "\n",
    "# 5. 모델 검증\n",
    "print(\"==== YOLOv8 검증 시작 ====\")\n",
    "results = model.val(\n",
    "    data=data_yaml_path,  # 검증에 사용할 데이터셋 설정 파일\n",
    "    imgsz=640,  # 검증 이미지 크기\n",
    "    batch=8,  # CPU에서 학습 시 작은 배치 크기 (GPU 사용 시 조정 가능)\n",
    "    device=\"cpu\",  # GPU 또는 CPU 사용\n",
    ")\n",
    "\n",
    "# 검증 결과 출력\n",
    "print(\"==== 검증 결과 ====\")\n",
    "print(f\"Precision: {results.box.map50:.4f}\")\n",
    "print(f\"Recall: {results.box.map:.4f}\")\n",
    "print(f\"mAP@50: {results.box.map50:.4f}\")\n",
    "print(f\"mAP@50-95: {results.box.map:.4f}\")\n",
    "\n",
    "# 6. 훈련된 모델 저장\n",
    "model_path = os.path.join(DATASET_ROOT, \"yolov8_text_nontext.pt\")\n",
    "model.save(model_path)  # 최종 모델 저장\n",
    "print(f\"최종 훈련된 모델이 저장되었습니다: {model_path}\")"
   ]
  },
  {
   "cell_type": "code",
   "execution_count": null,
   "metadata": {},
   "outputs": [],
   "source": []
  }
 ],
 "metadata": {
  "kernelspec": {
   "display_name": "kst_pp",
   "language": "python",
   "name": "python3"
  },
  "language_info": {
   "codemirror_mode": {
    "name": "ipython",
    "version": 3
   },
   "file_extension": ".py",
   "mimetype": "text/x-python",
   "name": "python",
   "nbconvert_exporter": "python",
   "pygments_lexer": "ipython3",
   "version": "3.9.20"
  }
 },
 "nbformat": 4,
 "nbformat_minor": 2
}
