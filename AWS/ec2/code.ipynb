{
 "cells": [
  {
   "cell_type": "code",
   "execution_count": null,
   "metadata": {
    "vscode": {
     "languageId": "plaintext"
    }
   },
   "outputs": [],
   "source": [
    "import os\n",
    "import mlflow\n",
    "from ultralytics import YOLO\n",
    "from app.yolo.utils import download_s3_folder\n",
    "\n",
    "TRAINING_BUCKET = \"big9-project-02-training-bucket\"\n",
    "MODEL_BUCKET = \"big9-project-02-model-bucket\"\n",
    "\n",
    "def train_yolo_model():\n",
    "    # 데이터 다운로드\n",
    "    os.makedirs(\"./data/yolo/images\", exist_ok=True)\n",
    "    os.makedirs(\"./data/yolo/labels\", exist_ok=True)\n",
    "    download_s3_folder(TRAINING_BUCKET, 'train/yolo/images/', './data/yolo/images')\n",
    "    download_s3_folder(TRAINING_BUCKET, 'train/yolo/labels/', './data/yolo/labels')\n",
    "\n",
    "    # MLflow 설정\n",
    "    mlflow.set_tracking_uri(\"http://<MLflow-server>:5000\")\n",
    "    mlflow.set_experiment(\"YOLO Training\")\n",
    "    \n",
    "    with mlflow.start_run(run_name=\"YOLO Training Run\"):\n",
    "        model = YOLO(\"yolov8n.pt\")\n",
    "        model.train(data=\"./app/yolo/config.yaml\", epochs=20, imgsz=640, save_dir=\"./results/yolo\")\n",
    "        \n",
    "        # 결과 기록 및 업로드\n",
    "        mlflow.log_artifact(\"./results/yolo/train/weights/best.pt\", artifact_path=\"models/yolo\")\n",
    "        os.system(f\"aws s3 cp ./results/yolo/train/weights/best.pt s3://{MODEL_BUCKET}/yolo/best.pt\")\n",
    "        print(f\"Uploaded YOLO model to s3://{MODEL_BUCKET}/yolo/best.pt\")\n"
   ]
  },
  {
   "cell_type": "code",
   "execution_count": null,
   "metadata": {
    "vscode": {
     "languageId": "plaintext"
    }
   },
   "outputs": [],
   "source": [
    "version: \"3.8\"\n",
    "services:\n",
    "  yolo-training:\n",
    "    build: .\n",
    "    container_name: yolo_training\n",

    "    ports:\n",
    "      - \"5000:5000\" # MLflow server access (optional)\n",
    "    volumes:\n",
    "      - ./data:/app/data # Bind mount for accessing local data\n",
    "    command: [\"python\", \"app/yolo/train_yolo.py\"]\n"
   ]
  },
  {
   "cell_type": "code",
   "execution_count": null,
   "metadata": {
    "vscode": {
     "languageId": "plaintext"
    }
   },
   "outputs": [],
   "source": [
    "version: \"3.8\"\n",
    "services:\n",
    "  yolo-training:\n",
    "    build: .\n",
    "    container_name: yolo_training\n",

    "      MLFLOW_TRACKING_URI: \"http://mlflow_server:5000\"  # MLflow 서버 URI 설정\n",
    "    volumes:\n",
    "      - ./data:/app/data  # YOLO 학습 데이터\n",
    "    depends_on:\n",
    "      - mlflow-server  # MLflow 서버가 먼저 실행되도록 설정\n",
    "    command: [\"python\", \"app/train.py\", \"yolo\"]  # YOLO 학습 실행\n",
    "\n",
    "  mlflow-server:\n",
    "    image: python:3.8-slim\n",
    "    container_name: mlflow_server\n",
    "    working_dir: /mlflow\n",
    "    volumes:\n",
    "      - ./mlruns:/mlflow/mlruns  # MLflow 로그 저장\n",
    "      - ./mlflow.db:/mlflow/mlflow.db  # MLflow 데이터베이스 파일\n",
    "    ports:\n",
    "      - \"5000:5000\"  # MLflow 서버 접근\n",
    "    command: [\"mlflow\", \"server\", \"--backend-store-uri\", \"sqlite:///mlflow.db\", \"--default-artifact-root\", \"./mlruns\", \"--host\", \"0.0.0.0\"]\n"
   ]
  }
 ],
 "metadata": {
  "language_info": {
   "name": "python"
  }
 },
 "nbformat": 4,
 "nbformat_minor": 2
}
